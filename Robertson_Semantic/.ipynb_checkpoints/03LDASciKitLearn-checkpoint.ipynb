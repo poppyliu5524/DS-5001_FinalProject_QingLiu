{
 "cells": [
  {
   "cell_type": "markdown",
   "metadata": {},
   "source": [
    "# Metadata\n",
    "\n",
    "Author:    Qing Liu\n",
    "\n",
    "Date:      04/30/2023\n",
    "\n",
    "**Purpose**: In this notebook we create a topic model from our corpus  using SciKit Learn's library."
   ]
  },
  {
   "cell_type": "markdown",
   "metadata": {},
   "source": [
    "# Set Up"
   ]
  },
  {
   "cell_type": "markdown",
   "metadata": {},
   "source": [
    "## Config"
   ]
  },
  {
   "cell_type": "code",
   "execution_count": 110,
   "metadata": {},
   "outputs": [],
   "source": [
    "data_in = '/Users/poppy/Documents/TeachSim Project/Robertson_Semantic/Data/output'\n",
    "data_out = '/Users/poppy/Documents/TeachSim Project/Robertson_Semantic/Data/output'\n",
    "local_lib = '/Users/poppy/Documents/TeachSim Project/Robertson_Semantic/lib'\n",
    "colors = \"YlGnBu\""
   ]
  },
  {
   "cell_type": "code",
   "execution_count": 111,
   "metadata": {},
   "outputs": [],
   "source": [
    "ngram_range = [1,2]\n",
    "n_terms = 1000\n",
    "n_topics = 10\n",
    "# n_topics = 20\n",
    "max_iter = 20\n",
    "n_top_terms = 9"
   ]
  },
  {
   "cell_type": "code",
   "execution_count": 112,
   "metadata": {},
   "outputs": [],
   "source": [
    "OHCO = ['document_id', 'paragraph_id', 'sentence_id', 'token_id']\n",
    "PARA = OHCO[:2]"
   ]
  },
  {
   "cell_type": "code",
   "execution_count": 113,
   "metadata": {},
   "outputs": [],
   "source": [
    "BAG = PARA"
   ]
  },
  {
   "cell_type": "markdown",
   "metadata": {},
   "source": [
    "## Imports"
   ]
  },
  {
   "cell_type": "code",
   "execution_count": 114,
   "metadata": {},
   "outputs": [],
   "source": [
    "import pandas as pd\n",
    "import numpy as np\n",
    "from sklearn.feature_extraction.text import CountVectorizer\n",
    "from sklearn.decomposition import LatentDirichletAllocation as LDA\n",
    "import plotly_express as px"
   ]
  },
  {
   "cell_type": "markdown",
   "metadata": {},
   "source": [
    "## Pragmas"
   ]
  },
  {
   "cell_type": "code",
   "execution_count": 115,
   "metadata": {},
   "outputs": [],
   "source": [
    "import warnings\n",
    "warnings.filterwarnings('ignore')"
   ]
  },
  {
   "cell_type": "markdown",
   "metadata": {},
   "source": [
    "# Prepare Data"
   ]
  },
  {
   "cell_type": "markdown",
   "metadata": {},
   "source": [
    "## Convert `TOKENS` back to `DOCS`\n",
    "\n",
    "Scikit Learn wants an F1 style corpus. We create onefrom our annotated TOKEN table, keeping only regular nouns."
   ]
  },
  {
   "cell_type": "code",
   "execution_count": 116,
   "metadata": {},
   "outputs": [],
   "source": [
    "TOKENS = pd.read_csv(f'{data_in}/CORPUS.csv')"
   ]
  },
  {
   "cell_type": "code",
   "execution_count": 117,
   "metadata": {
    "tags": []
   },
   "outputs": [
    {
     "data": {
      "text/html": [
       "<div>\n",
       "<style scoped>\n",
       "    .dataframe tbody tr th:only-of-type {\n",
       "        vertical-align: middle;\n",
       "    }\n",
       "\n",
       "    .dataframe tbody tr th {\n",
       "        vertical-align: top;\n",
       "    }\n",
       "\n",
       "    .dataframe thead th {\n",
       "        text-align: right;\n",
       "    }\n",
       "</style>\n",
       "<table border=\"1\" class=\"dataframe\">\n",
       "  <thead>\n",
       "    <tr style=\"text-align: right;\">\n",
       "      <th></th>\n",
       "      <th>document_id</th>\n",
       "      <th>paragraph_id</th>\n",
       "      <th>sentence_id</th>\n",
       "      <th>token_id</th>\n",
       "      <th>term_str</th>\n",
       "      <th>POS</th>\n",
       "      <th>speaker</th>\n",
       "      <th>coach_flag</th>\n",
       "      <th>stopword_flag</th>\n",
       "      <th>unimportant_flag</th>\n",
       "    </tr>\n",
       "  </thead>\n",
       "  <tbody>\n",
       "    <tr>\n",
       "      <th>0</th>\n",
       "      <td>02_004_22c_100</td>\n",
       "      <td>1</td>\n",
       "      <td>1</td>\n",
       "      <td>3</td>\n",
       "      <td>tell</td>\n",
       "      <td>VB</td>\n",
       "      <td>Kristyn</td>\n",
       "      <td>1</td>\n",
       "      <td>0</td>\n",
       "      <td>0</td>\n",
       "    </tr>\n",
       "    <tr>\n",
       "      <th>1</th>\n",
       "      <td>02_004_22c_100</td>\n",
       "      <td>1</td>\n",
       "      <td>1</td>\n",
       "      <td>8</td>\n",
       "      <td>feel</td>\n",
       "      <td>VB</td>\n",
       "      <td>Kristyn</td>\n",
       "      <td>1</td>\n",
       "      <td>0</td>\n",
       "      <td>0</td>\n",
       "    </tr>\n",
       "    <tr>\n",
       "      <th>2</th>\n",
       "      <td>02_004_22c_100</td>\n",
       "      <td>1</td>\n",
       "      <td>2</td>\n",
       "      <td>2</td>\n",
       "      <td>give</td>\n",
       "      <td>VB</td>\n",
       "      <td>Kristyn</td>\n",
       "      <td>1</td>\n",
       "      <td>0</td>\n",
       "      <td>0</td>\n",
       "    </tr>\n",
       "    <tr>\n",
       "      <th>3</th>\n",
       "      <td>02_004_22c_100</td>\n",
       "      <td>1</td>\n",
       "      <td>2</td>\n",
       "      <td>5</td>\n",
       "      <td>thoughts</td>\n",
       "      <td>NNS</td>\n",
       "      <td>Kristyn</td>\n",
       "      <td>1</td>\n",
       "      <td>0</td>\n",
       "      <td>0</td>\n",
       "    </tr>\n",
       "    <tr>\n",
       "      <th>4</th>\n",
       "      <td>02_004_22c_100</td>\n",
       "      <td>1</td>\n",
       "      <td>3</td>\n",
       "      <td>3</td>\n",
       "      <td>vent</td>\n",
       "      <td>VB</td>\n",
       "      <td>Kristyn</td>\n",
       "      <td>1</td>\n",
       "      <td>0</td>\n",
       "      <td>0</td>\n",
       "    </tr>\n",
       "  </tbody>\n",
       "</table>\n",
       "</div>"
      ],
      "text/plain": [
       "      document_id  paragraph_id  sentence_id  token_id  term_str  POS  \\\n",
       "0  02_004_22c_100             1            1         3      tell   VB   \n",
       "1  02_004_22c_100             1            1         8      feel   VB   \n",
       "2  02_004_22c_100             1            2         2      give   VB   \n",
       "3  02_004_22c_100             1            2         5  thoughts  NNS   \n",
       "4  02_004_22c_100             1            3         3      vent   VB   \n",
       "\n",
       "   speaker  coach_flag  stopword_flag  unimportant_flag  \n",
       "0  Kristyn           1              0                 0  \n",
       "1  Kristyn           1              0                 0  \n",
       "2  Kristyn           1              0                 0  \n",
       "3  Kristyn           1              0                 0  \n",
       "4  Kristyn           1              0                 0  "
      ]
     },
     "execution_count": 117,
     "metadata": {},
     "output_type": "execute_result"
    }
   ],
   "source": [
    "TOKENS.head()"
   ]
  },
  {
   "cell_type": "code",
   "execution_count": 118,
   "metadata": {},
   "outputs": [
    {
     "data": {
      "text/plain": [
       "['document_id', 'paragraph_id']"
      ]
     },
     "execution_count": 118,
     "metadata": {},
     "output_type": "execute_result"
    }
   ],
   "source": [
    "BAG"
   ]
  },
  {
   "cell_type": "markdown",
   "metadata": {},
   "source": [
    "## Filter for Nouns and Verbs and Adjectives"
   ]
  },
  {
   "cell_type": "code",
   "execution_count": 119,
   "metadata": {},
   "outputs": [],
   "source": [
    "#drop NAs from POS\n",
    "TOKENS = TOKENS.dropna(subset=['POS'])"
   ]
  },
  {
   "cell_type": "code",
   "execution_count": 120,
   "metadata": {},
   "outputs": [],
   "source": [
    "DOCS = TOKENS[TOKENS.POS.str.match(r'^(NN|VB|JJ)S?$')]\\\n",
    "    .groupby(BAG).term_str\\\n",
    "    .apply(lambda x: ' '.join(x))\\\n",
    "    .to_frame()\\\n",
    "    .rename(columns={'term_str':'doc_str'})"
   ]
  },
  {
   "cell_type": "code",
   "execution_count": 121,
   "metadata": {},
   "outputs": [
    {
     "data": {
      "text/html": [
       "<div>\n",
       "<style scoped>\n",
       "    .dataframe tbody tr th:only-of-type {\n",
       "        vertical-align: middle;\n",
       "    }\n",
       "\n",
       "    .dataframe tbody tr th {\n",
       "        vertical-align: top;\n",
       "    }\n",
       "\n",
       "    .dataframe thead th {\n",
       "        text-align: right;\n",
       "    }\n",
       "</style>\n",
       "<table border=\"1\" class=\"dataframe\">\n",
       "  <thead>\n",
       "    <tr style=\"text-align: right;\">\n",
       "      <th></th>\n",
       "      <th></th>\n",
       "      <th>doc_str</th>\n",
       "    </tr>\n",
       "    <tr>\n",
       "      <th>document_id</th>\n",
       "      <th>paragraph_id</th>\n",
       "      <th></th>\n",
       "    </tr>\n",
       "  </thead>\n",
       "  <tbody>\n",
       "    <tr>\n",
       "      <th rowspan=\"5\" valign=\"top\">01_004_12c_001</th>\n",
       "      <th>1</th>\n",
       "      <td>right real quick minute timer see classroom</td>\n",
       "    </tr>\n",
       "    <tr>\n",
       "      <th>2</th>\n",
       "      <td>empty classroom</td>\n",
       "    </tr>\n",
       "    <tr>\n",
       "      <th>3</th>\n",
       "      <td>student screen black ask seconds see kids hand...</td>\n",
       "    </tr>\n",
       "    <tr>\n",
       "      <th>4</th>\n",
       "      <td>second question able get elaboration sure kind...</td>\n",
       "    </tr>\n",
       "    <tr>\n",
       "      <th>5</th>\n",
       "      <td>transition fine thing kind sort sum something ...</td>\n",
       "    </tr>\n",
       "  </tbody>\n",
       "</table>\n",
       "</div>"
      ],
      "text/plain": [
       "                                                                       doc_str\n",
       "document_id    paragraph_id                                                   \n",
       "01_004_12c_001 1                   right real quick minute timer see classroom\n",
       "               2                                               empty classroom\n",
       "               3             student screen black ask seconds see kids hand...\n",
       "               4             second question able get elaboration sure kind...\n",
       "               5             transition fine thing kind sort sum something ..."
      ]
     },
     "execution_count": 121,
     "metadata": {},
     "output_type": "execute_result"
    }
   ],
   "source": [
    "DOCS.head()"
   ]
  },
  {
   "cell_type": "markdown",
   "metadata": {},
   "source": [
    "## Create Vector Space\n",
    "\n",
    "We use Scikit Learn's CountVectorizer to convert our F1 corpus of paragraphs into a document-term vector space of word counts."
   ]
  },
  {
   "cell_type": "code",
   "execution_count": 122,
   "metadata": {},
   "outputs": [],
   "source": [
    "count_engine = CountVectorizer(max_features=n_terms, ngram_range=ngram_range, stop_words='english')\n",
    "count_model = count_engine.fit_transform(DOCS.doc_str)\n",
    "TERMS = count_engine.get_feature_names_out()"
   ]
  },
  {
   "cell_type": "code",
   "execution_count": 123,
   "metadata": {
    "tags": []
   },
   "outputs": [],
   "source": [
    "VOCAB = pd.DataFrame(index=TERMS)\n",
    "VOCAB.index.name = 'term_str'"
   ]
  },
  {
   "cell_type": "code",
   "execution_count": 124,
   "metadata": {},
   "outputs": [],
   "source": [
    "DTM = pd.DataFrame(count_model.toarray(), index=DOCS.index, columns=TERMS)"
   ]
  },
  {
   "cell_type": "code",
   "execution_count": 125,
   "metadata": {},
   "outputs": [],
   "source": [
    "#DTM"
   ]
  },
  {
   "cell_type": "code",
   "execution_count": 126,
   "metadata": {},
   "outputs": [],
   "source": [
    "VOCAB['doc_count'] = DTM.astype('bool').astype('int').sum()\n",
    "DOCS['term_count'] = DTM.sum(1)"
   ]
  },
  {
   "cell_type": "code",
   "execution_count": 127,
   "metadata": {},
   "outputs": [],
   "source": [
    "# VOCAB"
   ]
  },
  {
   "cell_type": "code",
   "execution_count": 128,
   "metadata": {},
   "outputs": [
    {
     "data": {
      "text/plain": [
       "count    3694.00000\n",
       "mean       12.98105\n",
       "std        18.71628\n",
       "min         0.00000\n",
       "25%         2.00000\n",
       "50%         6.00000\n",
       "75%        16.00000\n",
       "max       163.00000\n",
       "Name: term_count, dtype: float64"
      ]
     },
     "execution_count": 128,
     "metadata": {},
     "output_type": "execute_result"
    }
   ],
   "source": [
    "DOCS.term_count.describe()"
   ]
  },
  {
   "cell_type": "markdown",
   "metadata": {
    "toc-hr-collapsed": false
   },
   "source": [
    "# Generate Model\n",
    "\n",
    "We run Scikit Learn's [LatentDirichletAllocation algorithm](https://scikit-learn.org/stable/modules/generated/sklearn.decomposition.LatentDirichletAllocation.html#sklearn.decomposition.LatentDirichletAllocation) and extract the THETA and PHI tables."
   ]
  },
  {
   "cell_type": "code",
   "execution_count": 129,
   "metadata": {},
   "outputs": [],
   "source": [
    "lda_engine = LDA(n_components=n_topics, max_iter=max_iter, learning_offset=50., random_state=0)"
   ]
  },
  {
   "cell_type": "markdown",
   "metadata": {},
   "source": [
    "## Topic Names"
   ]
  },
  {
   "cell_type": "code",
   "execution_count": 130,
   "metadata": {},
   "outputs": [],
   "source": [
    "TNAMES = [f\"T{str(x).zfill(len(str(n_topics)))}\" for x in range(n_topics)]"
   ]
  },
  {
   "cell_type": "code",
   "execution_count": 131,
   "metadata": {},
   "outputs": [],
   "source": [
    "#TNAMES"
   ]
  },
  {
   "cell_type": "markdown",
   "metadata": {},
   "source": [
    "## THETA"
   ]
  },
  {
   "cell_type": "code",
   "execution_count": 132,
   "metadata": {},
   "outputs": [],
   "source": [
    "lda_model = lda_engine.fit_transform(count_model)"
   ]
  },
  {
   "cell_type": "code",
   "execution_count": 133,
   "metadata": {},
   "outputs": [],
   "source": [
    "THETA = pd.DataFrame(lda_model, index=DOCS.index)\n",
    "THETA.columns.name = 'topic_id'\n",
    "THETA.columns = TNAMES"
   ]
  },
  {
   "cell_type": "code",
   "execution_count": 134,
   "metadata": {},
   "outputs": [
    {
     "data": {
      "text/html": [
       "<style type=\"text/css\">\n",
       "#T_69160_row0_col0, #T_69160_row5_col0, #T_69160_row9_col1, #T_69160_row19_col3 {\n",
       "  background-color: #269bc1;\n",
       "  color: #f1f1f1;\n",
       "}\n",
       "#T_69160_row0_col1, #T_69160_row0_col2, #T_69160_row0_col3, #T_69160_row0_col4, #T_69160_row0_col5, #T_69160_row0_col6, #T_69160_row0_col7, #T_69160_row0_col8, #T_69160_row0_col9, #T_69160_row5_col1, #T_69160_row5_col2, #T_69160_row5_col3, #T_69160_row5_col4, #T_69160_row5_col5, #T_69160_row5_col6, #T_69160_row5_col7, #T_69160_row5_col8, #T_69160_row5_col9, #T_69160_row19_col0, #T_69160_row19_col1, #T_69160_row19_col2, #T_69160_row19_col4, #T_69160_row19_col5, #T_69160_row19_col6, #T_69160_row19_col7, #T_69160_row19_col8, #T_69160_row19_col9 {\n",
       "  background-color: #f8fcc9;\n",
       "  color: #000000;\n",
       "}\n",
       "#T_69160_row1_col0, #T_69160_row1_col1, #T_69160_row1_col3, #T_69160_row1_col4, #T_69160_row1_col5, #T_69160_row1_col7, #T_69160_row1_col8, #T_69160_row1_col9, #T_69160_row7_col0, #T_69160_row7_col1, #T_69160_row7_col2, #T_69160_row7_col3, #T_69160_row7_col4, #T_69160_row7_col5, #T_69160_row7_col7, #T_69160_row7_col8, #T_69160_row7_col9 {\n",
       "  background-color: #fcfed1;\n",
       "  color: #000000;\n",
       "}\n",
       "#T_69160_row1_col2, #T_69160_row12_col7 {\n",
       "  background-color: #aedfb6;\n",
       "  color: #000000;\n",
       "}\n",
       "#T_69160_row1_col6 {\n",
       "  background-color: #2da2c2;\n",
       "  color: #f1f1f1;\n",
       "}\n",
       "#T_69160_row2_col0, #T_69160_row2_col1, #T_69160_row2_col2, #T_69160_row2_col3, #T_69160_row2_col4, #T_69160_row2_col5, #T_69160_row2_col6, #T_69160_row2_col7, #T_69160_row2_col8 {\n",
       "  background-color: #fcfed3;\n",
       "  color: #000000;\n",
       "}\n",
       "#T_69160_row2_col9 {\n",
       "  background-color: #22328f;\n",
       "  color: #f1f1f1;\n",
       "}\n",
       "#T_69160_row3_col0, #T_69160_row3_col1, #T_69160_row3_col2, #T_69160_row3_col5, #T_69160_row3_col7, #T_69160_row3_col8, #T_69160_row3_col9, #T_69160_row4_col0, #T_69160_row4_col1, #T_69160_row4_col3, #T_69160_row4_col5, #T_69160_row4_col6, #T_69160_row4_col7, #T_69160_row4_col8, #T_69160_row4_col9, #T_69160_row6_col0, #T_69160_row6_col1, #T_69160_row6_col2, #T_69160_row6_col3, #T_69160_row6_col4, #T_69160_row6_col5, #T_69160_row6_col6, #T_69160_row6_col7, #T_69160_row6_col9, #T_69160_row10_col0, #T_69160_row10_col1, #T_69160_row10_col2, #T_69160_row10_col3, #T_69160_row10_col4, #T_69160_row10_col6, #T_69160_row10_col8, #T_69160_row10_col9, #T_69160_row12_col0, #T_69160_row12_col1, #T_69160_row12_col3, #T_69160_row12_col5, #T_69160_row12_col6, #T_69160_row12_col9, #T_69160_row14_col0, #T_69160_row14_col1, #T_69160_row14_col3, #T_69160_row14_col4, #T_69160_row14_col5, #T_69160_row14_col7, #T_69160_row14_col8, #T_69160_row14_col9, #T_69160_row16_col1, #T_69160_row16_col2, #T_69160_row16_col3, #T_69160_row16_col4, #T_69160_row16_col5, #T_69160_row16_col7, #T_69160_row16_col8, #T_69160_row16_col9 {\n",
       "  background-color: #feffd8;\n",
       "  color: #000000;\n",
       "}\n",
       "#T_69160_row3_col3 {\n",
       "  background-color: #dff2b2;\n",
       "  color: #000000;\n",
       "}\n",
       "#T_69160_row3_col4 {\n",
       "  background-color: #c8e9b4;\n",
       "  color: #000000;\n",
       "}\n",
       "#T_69160_row3_col6 {\n",
       "  background-color: #2397c1;\n",
       "  color: #f1f1f1;\n",
       "}\n",
       "#T_69160_row4_col2 {\n",
       "  background-color: #dbf1b2;\n",
       "  color: #000000;\n",
       "}\n",
       "#T_69160_row4_col4 {\n",
       "  background-color: #243d98;\n",
       "  color: #f1f1f1;\n",
       "}\n",
       "#T_69160_row6_col8 {\n",
       "  background-color: #081d58;\n",
       "  color: #f1f1f1;\n",
       "}\n",
       "#T_69160_row7_col6 {\n",
       "  background-color: #24409a;\n",
       "  color: #f1f1f1;\n",
       "}\n",
       "#T_69160_row8_col0, #T_69160_row8_col1, #T_69160_row8_col2, #T_69160_row8_col3, #T_69160_row8_col5, #T_69160_row8_col6, #T_69160_row8_col8, #T_69160_row8_col9, #T_69160_row9_col0, #T_69160_row9_col4, #T_69160_row9_col7, #T_69160_row9_col8, #T_69160_row11_col0, #T_69160_row11_col2, #T_69160_row11_col4, #T_69160_row11_col5, #T_69160_row11_col7, #T_69160_row11_col8, #T_69160_row13_col0, #T_69160_row13_col2, #T_69160_row13_col4, #T_69160_row13_col5, #T_69160_row13_col6, #T_69160_row13_col7, #T_69160_row13_col8, #T_69160_row13_col9, #T_69160_row15_col0, #T_69160_row15_col1, #T_69160_row15_col2, #T_69160_row15_col4, #T_69160_row15_col5, #T_69160_row15_col7, #T_69160_row15_col8, #T_69160_row15_col9 {\n",
       "  background-color: #ffffd9;\n",
       "  color: #000000;\n",
       "}\n",
       "#T_69160_row8_col4 {\n",
       "  background-color: #24419a;\n",
       "  color: #f1f1f1;\n",
       "}\n",
       "#T_69160_row8_col7 {\n",
       "  background-color: #cfecb3;\n",
       "  color: #000000;\n",
       "}\n",
       "#T_69160_row9_col2 {\n",
       "  background-color: #f3fabf;\n",
       "  color: #000000;\n",
       "}\n",
       "#T_69160_row9_col3, #T_69160_row9_col6 {\n",
       "  background-color: #edf8b1;\n",
       "  color: #000000;\n",
       "}\n",
       "#T_69160_row9_col5, #T_69160_row16_col0 {\n",
       "  background-color: #f1fabb;\n",
       "  color: #000000;\n",
       "}\n",
       "#T_69160_row9_col9 {\n",
       "  background-color: #fafdce;\n",
       "  color: #000000;\n",
       "}\n",
       "#T_69160_row10_col5 {\n",
       "  background-color: #80cebb;\n",
       "  color: #000000;\n",
       "}\n",
       "#T_69160_row10_col7 {\n",
       "  background-color: #1e86bb;\n",
       "  color: #f1f1f1;\n",
       "}\n",
       "#T_69160_row11_col1 {\n",
       "  background-color: #a2dbb8;\n",
       "  color: #000000;\n",
       "}\n",
       "#T_69160_row11_col3 {\n",
       "  background-color: #7ecdbb;\n",
       "  color: #000000;\n",
       "}\n",
       "#T_69160_row11_col6 {\n",
       "  background-color: #c6e9b4;\n",
       "  color: #000000;\n",
       "}\n",
       "#T_69160_row11_col9 {\n",
       "  background-color: #f0f9b8;\n",
       "  color: #000000;\n",
       "}\n",
       "#T_69160_row12_col2 {\n",
       "  background-color: #67c4be;\n",
       "  color: #000000;\n",
       "}\n",
       "#T_69160_row12_col4 {\n",
       "  background-color: #eff9b6;\n",
       "  color: #000000;\n",
       "}\n",
       "#T_69160_row12_col8 {\n",
       "  background-color: #d4eeb3;\n",
       "  color: #000000;\n",
       "}\n",
       "#T_69160_row13_col1 {\n",
       "  background-color: #bbe4b5;\n",
       "  color: #000000;\n",
       "}\n",
       "#T_69160_row13_col3 {\n",
       "  background-color: #2354a3;\n",
       "  color: #f1f1f1;\n",
       "}\n",
       "#T_69160_row14_col2 {\n",
       "  background-color: #225da8;\n",
       "  color: #f1f1f1;\n",
       "}\n",
       "#T_69160_row14_col6 {\n",
       "  background-color: #c4e8b4;\n",
       "  color: #000000;\n",
       "}\n",
       "#T_69160_row15_col3 {\n",
       "  background-color: #39adc3;\n",
       "  color: #f1f1f1;\n",
       "}\n",
       "#T_69160_row15_col6 {\n",
       "  background-color: #3aaec3;\n",
       "  color: #f1f1f1;\n",
       "}\n",
       "#T_69160_row16_col6 {\n",
       "  background-color: #1d2e83;\n",
       "  color: #f1f1f1;\n",
       "}\n",
       "#T_69160_row17_col0, #T_69160_row17_col1, #T_69160_row17_col2, #T_69160_row17_col3, #T_69160_row17_col4, #T_69160_row17_col5, #T_69160_row17_col6, #T_69160_row17_col7 {\n",
       "  background-color: #fdfed4;\n",
       "  color: #000000;\n",
       "}\n",
       "#T_69160_row17_col8 {\n",
       "  background-color: #3cb1c3;\n",
       "  color: #f1f1f1;\n",
       "}\n",
       "#T_69160_row17_col9 {\n",
       "  background-color: #6bc6be;\n",
       "  color: #000000;\n",
       "}\n",
       "#T_69160_row18_col0 {\n",
       "  background-color: #e7f6b1;\n",
       "  color: #000000;\n",
       "}\n",
       "#T_69160_row18_col1, #T_69160_row18_col2, #T_69160_row18_col3, #T_69160_row18_col4, #T_69160_row18_col6, #T_69160_row18_col8, #T_69160_row18_col9 {\n",
       "  background-color: #feffd6;\n",
       "  color: #000000;\n",
       "}\n",
       "#T_69160_row18_col5 {\n",
       "  background-color: #e6f5b2;\n",
       "  color: #000000;\n",
       "}\n",
       "#T_69160_row18_col7 {\n",
       "  background-color: #1f78b4;\n",
       "  color: #f1f1f1;\n",
       "}\n",
       "</style>\n",
       "<table id=\"T_69160\">\n",
       "  <thead>\n",
       "    <tr>\n",
       "      <th class=\"blank\" >&nbsp;</th>\n",
       "      <th class=\"blank level0\" >&nbsp;</th>\n",
       "      <th id=\"T_69160_level0_col0\" class=\"col_heading level0 col0\" >T00</th>\n",
       "      <th id=\"T_69160_level0_col1\" class=\"col_heading level0 col1\" >T01</th>\n",
       "      <th id=\"T_69160_level0_col2\" class=\"col_heading level0 col2\" >T02</th>\n",
       "      <th id=\"T_69160_level0_col3\" class=\"col_heading level0 col3\" >T03</th>\n",
       "      <th id=\"T_69160_level0_col4\" class=\"col_heading level0 col4\" >T04</th>\n",
       "      <th id=\"T_69160_level0_col5\" class=\"col_heading level0 col5\" >T05</th>\n",
       "      <th id=\"T_69160_level0_col6\" class=\"col_heading level0 col6\" >T06</th>\n",
       "      <th id=\"T_69160_level0_col7\" class=\"col_heading level0 col7\" >T07</th>\n",
       "      <th id=\"T_69160_level0_col8\" class=\"col_heading level0 col8\" >T08</th>\n",
       "      <th id=\"T_69160_level0_col9\" class=\"col_heading level0 col9\" >T09</th>\n",
       "    </tr>\n",
       "    <tr>\n",
       "      <th class=\"index_name level0\" >document_id</th>\n",
       "      <th class=\"index_name level1\" >paragraph_id</th>\n",
       "      <th class=\"blank col0\" >&nbsp;</th>\n",
       "      <th class=\"blank col1\" >&nbsp;</th>\n",
       "      <th class=\"blank col2\" >&nbsp;</th>\n",
       "      <th class=\"blank col3\" >&nbsp;</th>\n",
       "      <th class=\"blank col4\" >&nbsp;</th>\n",
       "      <th class=\"blank col5\" >&nbsp;</th>\n",
       "      <th class=\"blank col6\" >&nbsp;</th>\n",
       "      <th class=\"blank col7\" >&nbsp;</th>\n",
       "      <th class=\"blank col8\" >&nbsp;</th>\n",
       "      <th class=\"blank col9\" >&nbsp;</th>\n",
       "    </tr>\n",
       "  </thead>\n",
       "  <tbody>\n",
       "    <tr>\n",
       "      <th id=\"T_69160_level0_row0\" class=\"row_heading level0 row0\" >02_004_12c_0086</th>\n",
       "      <th id=\"T_69160_level1_row0\" class=\"row_heading level1 row0\" >1</th>\n",
       "      <td id=\"T_69160_row0_col0\" class=\"data row0 col0\" >0.549951</td>\n",
       "      <td id=\"T_69160_row0_col1\" class=\"data row0 col1\" >0.050004</td>\n",
       "      <td id=\"T_69160_row0_col2\" class=\"data row0 col2\" >0.050005</td>\n",
       "      <td id=\"T_69160_row0_col3\" class=\"data row0 col3\" >0.050003</td>\n",
       "      <td id=\"T_69160_row0_col4\" class=\"data row0 col4\" >0.050010</td>\n",
       "      <td id=\"T_69160_row0_col5\" class=\"data row0 col5\" >0.050007</td>\n",
       "      <td id=\"T_69160_row0_col6\" class=\"data row0 col6\" >0.050003</td>\n",
       "      <td id=\"T_69160_row0_col7\" class=\"data row0 col7\" >0.050004</td>\n",
       "      <td id=\"T_69160_row0_col8\" class=\"data row0 col8\" >0.050009</td>\n",
       "      <td id=\"T_69160_row0_col9\" class=\"data row0 col9\" >0.050004</td>\n",
       "    </tr>\n",
       "    <tr>\n",
       "      <th id=\"T_69160_level0_row1\" class=\"row_heading level0 row1\" >01_004_12c_048</th>\n",
       "      <th id=\"T_69160_level1_row1\" class=\"row_heading level1 row1\" >19</th>\n",
       "      <td id=\"T_69160_row1_col0\" class=\"data row1 col0\" >0.025000</td>\n",
       "      <td id=\"T_69160_row1_col1\" class=\"data row1 col1\" >0.025000</td>\n",
       "      <td id=\"T_69160_row1_col2\" class=\"data row1 col2\" >0.273234</td>\n",
       "      <td id=\"T_69160_row1_col3\" class=\"data row1 col3\" >0.025007</td>\n",
       "      <td id=\"T_69160_row1_col4\" class=\"data row1 col4\" >0.025000</td>\n",
       "      <td id=\"T_69160_row1_col5\" class=\"data row1 col5\" >0.025000</td>\n",
       "      <td id=\"T_69160_row1_col6\" class=\"data row1 col6\" >0.526757</td>\n",
       "      <td id=\"T_69160_row1_col7\" class=\"data row1 col7\" >0.025001</td>\n",
       "      <td id=\"T_69160_row1_col8\" class=\"data row1 col8\" >0.025001</td>\n",
       "      <td id=\"T_69160_row1_col9\" class=\"data row1 col9\" >0.025000</td>\n",
       "    </tr>\n",
       "    <tr>\n",
       "      <th id=\"T_69160_level0_row2\" class=\"row_heading level0 row2\" >03_2022_004_12c_052</th>\n",
       "      <th id=\"T_69160_level1_row2\" class=\"row_heading level1 row2\" >25</th>\n",
       "      <td id=\"T_69160_row2_col0\" class=\"data row2 col0\" >0.020000</td>\n",
       "      <td id=\"T_69160_row2_col1\" class=\"data row2 col1\" >0.020000</td>\n",
       "      <td id=\"T_69160_row2_col2\" class=\"data row2 col2\" >0.020000</td>\n",
       "      <td id=\"T_69160_row2_col3\" class=\"data row2 col3\" >0.020000</td>\n",
       "      <td id=\"T_69160_row2_col4\" class=\"data row2 col4\" >0.020001</td>\n",
       "      <td id=\"T_69160_row2_col5\" class=\"data row2 col5\" >0.020015</td>\n",
       "      <td id=\"T_69160_row2_col6\" class=\"data row2 col6\" >0.020000</td>\n",
       "      <td id=\"T_69160_row2_col7\" class=\"data row2 col7\" >0.020000</td>\n",
       "      <td id=\"T_69160_row2_col8\" class=\"data row2 col8\" >0.020001</td>\n",
       "      <td id=\"T_69160_row2_col9\" class=\"data row2 col9\" >0.819983</td>\n",
       "    </tr>\n",
       "    <tr>\n",
       "      <th id=\"T_69160_level0_row3\" class=\"row_heading level0 row3\" >03_2022_004_22c_001</th>\n",
       "      <th id=\"T_69160_level1_row3\" class=\"row_heading level1 row3\" >15</th>\n",
       "      <td id=\"T_69160_row3_col0\" class=\"data row3 col0\" >0.006667</td>\n",
       "      <td id=\"T_69160_row3_col1\" class=\"data row3 col1\" >0.006667</td>\n",
       "      <td id=\"T_69160_row3_col2\" class=\"data row3 col2\" >0.006667</td>\n",
       "      <td id=\"T_69160_row3_col3\" class=\"data row3 col3\" >0.163099</td>\n",
       "      <td id=\"T_69160_row3_col4\" class=\"data row3 col4\" >0.229886</td>\n",
       "      <td id=\"T_69160_row3_col5\" class=\"data row3 col5\" >0.006667</td>\n",
       "      <td id=\"T_69160_row3_col6\" class=\"data row3 col6\" >0.560349</td>\n",
       "      <td id=\"T_69160_row3_col7\" class=\"data row3 col7\" >0.006667</td>\n",
       "      <td id=\"T_69160_row3_col8\" class=\"data row3 col8\" >0.006667</td>\n",
       "      <td id=\"T_69160_row3_col9\" class=\"data row3 col9\" >0.006667</td>\n",
       "    </tr>\n",
       "    <tr>\n",
       "      <th id=\"T_69160_level0_row4\" class=\"row_heading level0 row4\" >02_004_12c_003</th>\n",
       "      <th id=\"T_69160_level1_row4\" class=\"row_heading level1 row4\" >4</th>\n",
       "      <td id=\"T_69160_row4_col0\" class=\"data row4 col0\" >0.005882</td>\n",
       "      <td id=\"T_69160_row4_col1\" class=\"data row4 col1\" >0.005883</td>\n",
       "      <td id=\"T_69160_row4_col2\" class=\"data row4 col2\" >0.171427</td>\n",
       "      <td id=\"T_69160_row4_col3\" class=\"data row4 col3\" >0.005883</td>\n",
       "      <td id=\"T_69160_row4_col4\" class=\"data row4 col4\" >0.781506</td>\n",
       "      <td id=\"T_69160_row4_col5\" class=\"data row4 col5\" >0.005884</td>\n",
       "      <td id=\"T_69160_row4_col6\" class=\"data row4 col6\" >0.005883</td>\n",
       "      <td id=\"T_69160_row4_col7\" class=\"data row4 col7\" >0.005885</td>\n",
       "      <td id=\"T_69160_row4_col8\" class=\"data row4 col8\" >0.005884</td>\n",
       "      <td id=\"T_69160_row4_col9\" class=\"data row4 col9\" >0.005883</td>\n",
       "    </tr>\n",
       "    <tr>\n",
       "      <th id=\"T_69160_level0_row5\" class=\"row_heading level0 row5\" >03_004_22c_032</th>\n",
       "      <th id=\"T_69160_level1_row5\" class=\"row_heading level1 row5\" >9</th>\n",
       "      <td id=\"T_69160_row5_col0\" class=\"data row5 col0\" >0.549951</td>\n",
       "      <td id=\"T_69160_row5_col1\" class=\"data row5 col1\" >0.050004</td>\n",
       "      <td id=\"T_69160_row5_col2\" class=\"data row5 col2\" >0.050005</td>\n",
       "      <td id=\"T_69160_row5_col3\" class=\"data row5 col3\" >0.050003</td>\n",
       "      <td id=\"T_69160_row5_col4\" class=\"data row5 col4\" >0.050010</td>\n",
       "      <td id=\"T_69160_row5_col5\" class=\"data row5 col5\" >0.050007</td>\n",
       "      <td id=\"T_69160_row5_col6\" class=\"data row5 col6\" >0.050003</td>\n",
       "      <td id=\"T_69160_row5_col7\" class=\"data row5 col7\" >0.050004</td>\n",
       "      <td id=\"T_69160_row5_col8\" class=\"data row5 col8\" >0.050009</td>\n",
       "      <td id=\"T_69160_row5_col9\" class=\"data row5 col9\" >0.050004</td>\n",
       "    </tr>\n",
       "    <tr>\n",
       "      <th id=\"T_69160_level0_row6\" class=\"row_heading level0 row6\" >03_004_12c_011</th>\n",
       "      <th id=\"T_69160_level1_row6\" class=\"row_heading level1 row6\" >5</th>\n",
       "      <td id=\"T_69160_row6_col0\" class=\"data row6 col0\" >0.008333</td>\n",
       "      <td id=\"T_69160_row6_col1\" class=\"data row6 col1\" >0.008333</td>\n",
       "      <td id=\"T_69160_row6_col2\" class=\"data row6 col2\" >0.008334</td>\n",
       "      <td id=\"T_69160_row6_col3\" class=\"data row6 col3\" >0.008334</td>\n",
       "      <td id=\"T_69160_row6_col4\" class=\"data row6 col4\" >0.008334</td>\n",
       "      <td id=\"T_69160_row6_col5\" class=\"data row6 col5\" >0.008333</td>\n",
       "      <td id=\"T_69160_row6_col6\" class=\"data row6 col6\" >0.008335</td>\n",
       "      <td id=\"T_69160_row6_col7\" class=\"data row6 col7\" >0.008334</td>\n",
       "      <td id=\"T_69160_row6_col8\" class=\"data row6 col8\" >0.924994</td>\n",
       "      <td id=\"T_69160_row6_col9\" class=\"data row6 col9\" >0.008335</td>\n",
       "    </tr>\n",
       "    <tr>\n",
       "      <th id=\"T_69160_level0_row7\" class=\"row_heading level0 row7\" >01_004_22c_067</th>\n",
       "      <th id=\"T_69160_level1_row7\" class=\"row_heading level1 row7\" >19</th>\n",
       "      <td id=\"T_69160_row7_col0\" class=\"data row7 col0\" >0.025000</td>\n",
       "      <td id=\"T_69160_row7_col1\" class=\"data row7 col1\" >0.025007</td>\n",
       "      <td id=\"T_69160_row7_col2\" class=\"data row7 col2\" >0.025001</td>\n",
       "      <td id=\"T_69160_row7_col3\" class=\"data row7 col3\" >0.025002</td>\n",
       "      <td id=\"T_69160_row7_col4\" class=\"data row7 col4\" >0.025000</td>\n",
       "      <td id=\"T_69160_row7_col5\" class=\"data row7 col5\" >0.025011</td>\n",
       "      <td id=\"T_69160_row7_col6\" class=\"data row7 col6\" >0.774971</td>\n",
       "      <td id=\"T_69160_row7_col7\" class=\"data row7 col7\" >0.025000</td>\n",
       "      <td id=\"T_69160_row7_col8\" class=\"data row7 col8\" >0.025003</td>\n",
       "      <td id=\"T_69160_row7_col9\" class=\"data row7 col9\" >0.025005</td>\n",
       "    </tr>\n",
       "    <tr>\n",
       "      <th id=\"T_69160_level0_row8\" class=\"row_heading level0 row8\" >01_004_12c_055</th>\n",
       "      <th id=\"T_69160_level1_row8\" class=\"row_heading level1 row8\" >5</th>\n",
       "      <td id=\"T_69160_row8_col0\" class=\"data row8 col0\" >0.001961</td>\n",
       "      <td id=\"T_69160_row8_col1\" class=\"data row8 col1\" >0.001961</td>\n",
       "      <td id=\"T_69160_row8_col2\" class=\"data row8 col2\" >0.001961</td>\n",
       "      <td id=\"T_69160_row8_col3\" class=\"data row8 col3\" >0.001961</td>\n",
       "      <td id=\"T_69160_row8_col4\" class=\"data row8 col4\" >0.773462</td>\n",
       "      <td id=\"T_69160_row8_col5\" class=\"data row8 col5\" >0.001961</td>\n",
       "      <td id=\"T_69160_row8_col6\" class=\"data row8 col6\" >0.001961</td>\n",
       "      <td id=\"T_69160_row8_col7\" class=\"data row8 col7\" >0.210849</td>\n",
       "      <td id=\"T_69160_row8_col8\" class=\"data row8 col8\" >0.001961</td>\n",
       "      <td id=\"T_69160_row8_col9\" class=\"data row8 col9\" >0.001962</td>\n",
       "    </tr>\n",
       "    <tr>\n",
       "      <th id=\"T_69160_level0_row9\" class=\"row_heading level0 row9\" >02_004_22c_086</th>\n",
       "      <th id=\"T_69160_level1_row9\" class=\"row_heading level1 row9\" >17</th>\n",
       "      <td id=\"T_69160_row9_col0\" class=\"data row9 col0\" >0.002703</td>\n",
       "      <td id=\"T_69160_row9_col1\" class=\"data row9 col1\" >0.548546</td>\n",
       "      <td id=\"T_69160_row9_col2\" class=\"data row9 col2\" >0.077793</td>\n",
       "      <td id=\"T_69160_row9_col3\" class=\"data row9 col3\" >0.118295</td>\n",
       "      <td id=\"T_69160_row9_col4\" class=\"data row9 col4\" >0.002704</td>\n",
       "      <td id=\"T_69160_row9_col5\" class=\"data row9 col5\" >0.089699</td>\n",
       "      <td id=\"T_69160_row9_col6\" class=\"data row9 col6\" >0.119895</td>\n",
       "      <td id=\"T_69160_row9_col7\" class=\"data row9 col7\" >0.002703</td>\n",
       "      <td id=\"T_69160_row9_col8\" class=\"data row9 col8\" >0.002703</td>\n",
       "      <td id=\"T_69160_row9_col9\" class=\"data row9 col9\" >0.034959</td>\n",
       "    </tr>\n",
       "    <tr>\n",
       "      <th id=\"T_69160_level0_row10\" class=\"row_heading level0 row10\" >02_004_12c_089</th>\n",
       "      <th id=\"T_69160_level1_row10\" class=\"row_heading level1 row10\" >15</th>\n",
       "      <td id=\"T_69160_row10_col0\" class=\"data row10 col0\" >0.006250</td>\n",
       "      <td id=\"T_69160_row10_col1\" class=\"data row10 col1\" >0.006251</td>\n",
       "      <td id=\"T_69160_row10_col2\" class=\"data row10 col2\" >0.006252</td>\n",
       "      <td id=\"T_69160_row10_col3\" class=\"data row10 col3\" >0.006251</td>\n",
       "      <td id=\"T_69160_row10_col4\" class=\"data row10 col4\" >0.006250</td>\n",
       "      <td id=\"T_69160_row10_col5\" class=\"data row10 col5\" >0.348058</td>\n",
       "      <td id=\"T_69160_row10_col6\" class=\"data row10 col6\" >0.006253</td>\n",
       "      <td id=\"T_69160_row10_col7\" class=\"data row10 col7\" >0.601932</td>\n",
       "      <td id=\"T_69160_row10_col8\" class=\"data row10 col8\" >0.006251</td>\n",
       "      <td id=\"T_69160_row10_col9\" class=\"data row10 col9\" >0.006251</td>\n",
       "    </tr>\n",
       "    <tr>\n",
       "      <th id=\"T_69160_level0_row11\" class=\"row_heading level0 row11\" >02_004_22c_050</th>\n",
       "      <th id=\"T_69160_level1_row11\" class=\"row_heading level1 row11\" >13</th>\n",
       "      <td id=\"T_69160_row11_col0\" class=\"data row11 col0\" >0.004168</td>\n",
       "      <td id=\"T_69160_row11_col1\" class=\"data row11 col1\" >0.293633</td>\n",
       "      <td id=\"T_69160_row11_col2\" class=\"data row11 col2\" >0.004167</td>\n",
       "      <td id=\"T_69160_row11_col3\" class=\"data row11 col3\" >0.350062</td>\n",
       "      <td id=\"T_69160_row11_col4\" class=\"data row11 col4\" >0.004167</td>\n",
       "      <td id=\"T_69160_row11_col5\" class=\"data row11 col5\" >0.004167</td>\n",
       "      <td id=\"T_69160_row11_col6\" class=\"data row11 col6\" >0.232785</td>\n",
       "      <td id=\"T_69160_row11_col7\" class=\"data row11 col7\" >0.004167</td>\n",
       "      <td id=\"T_69160_row11_col8\" class=\"data row11 col8\" >0.004167</td>\n",
       "      <td id=\"T_69160_row11_col9\" class=\"data row11 col9\" >0.098516</td>\n",
       "    </tr>\n",
       "    <tr>\n",
       "      <th id=\"T_69160_level0_row12\" class=\"row_heading level0 row12\" >03_2022_004_12c_037</th>\n",
       "      <th id=\"T_69160_level1_row12\" class=\"row_heading level1 row12\" >4</th>\n",
       "      <td id=\"T_69160_row12_col0\" class=\"data row12 col0\" >0.005882</td>\n",
       "      <td id=\"T_69160_row12_col1\" class=\"data row12 col1\" >0.005883</td>\n",
       "      <td id=\"T_69160_row12_col2\" class=\"data row12 col2\" >0.392976</td>\n",
       "      <td id=\"T_69160_row12_col3\" class=\"data row12 col3\" >0.005884</td>\n",
       "      <td id=\"T_69160_row12_col4\" class=\"data row12 col4\" >0.103499</td>\n",
       "      <td id=\"T_69160_row12_col5\" class=\"data row12 col5\" >0.005882</td>\n",
       "      <td id=\"T_69160_row12_col6\" class=\"data row12 col6\" >0.005882</td>\n",
       "      <td id=\"T_69160_row12_col7\" class=\"data row12 col7\" >0.273538</td>\n",
       "      <td id=\"T_69160_row12_col8\" class=\"data row12 col8\" >0.194689</td>\n",
       "      <td id=\"T_69160_row12_col9\" class=\"data row12 col9\" >0.005883</td>\n",
       "    </tr>\n",
       "    <tr>\n",
       "      <th id=\"T_69160_level0_row13\" class=\"row_heading level0 row13\" >01_004_22c_020</th>\n",
       "      <th id=\"T_69160_level1_row13\" class=\"row_heading level1 row13\" >6</th>\n",
       "      <td id=\"T_69160_row13_col0\" class=\"data row13 col0\" >0.003226</td>\n",
       "      <td id=\"T_69160_row13_col1\" class=\"data row13 col1\" >0.253347</td>\n",
       "      <td id=\"T_69160_row13_col2\" class=\"data row13 col2\" >0.003226</td>\n",
       "      <td id=\"T_69160_row13_col3\" class=\"data row13 col3\" >0.720841</td>\n",
       "      <td id=\"T_69160_row13_col4\" class=\"data row13 col4\" >0.003226</td>\n",
       "      <td id=\"T_69160_row13_col5\" class=\"data row13 col5\" >0.003226</td>\n",
       "      <td id=\"T_69160_row13_col6\" class=\"data row13 col6\" >0.003227</td>\n",
       "      <td id=\"T_69160_row13_col7\" class=\"data row13 col7\" >0.003226</td>\n",
       "      <td id=\"T_69160_row13_col8\" class=\"data row13 col8\" >0.003227</td>\n",
       "      <td id=\"T_69160_row13_col9\" class=\"data row13 col9\" >0.003227</td>\n",
       "    </tr>\n",
       "    <tr>\n",
       "      <th id=\"T_69160_level0_row14\" class=\"row_heading level0 row14\" >01_004_22c_051</th>\n",
       "      <th id=\"T_69160_level1_row14\" class=\"row_heading level1 row14\" >18</th>\n",
       "      <td id=\"T_69160_row14_col0\" class=\"data row14 col0\" >0.008335</td>\n",
       "      <td id=\"T_69160_row14_col1\" class=\"data row14 col1\" >0.008335</td>\n",
       "      <td id=\"T_69160_row14_col2\" class=\"data row14 col2\" >0.694470</td>\n",
       "      <td id=\"T_69160_row14_col3\" class=\"data row14 col3\" >0.008336</td>\n",
       "      <td id=\"T_69160_row14_col4\" class=\"data row14 col4\" >0.008337</td>\n",
       "      <td id=\"T_69160_row14_col5\" class=\"data row14 col5\" >0.008334</td>\n",
       "      <td id=\"T_69160_row14_col6\" class=\"data row14 col6\" >0.238852</td>\n",
       "      <td id=\"T_69160_row14_col7\" class=\"data row14 col7\" >0.008334</td>\n",
       "      <td id=\"T_69160_row14_col8\" class=\"data row14 col8\" >0.008334</td>\n",
       "      <td id=\"T_69160_row14_col9\" class=\"data row14 col9\" >0.008334</td>\n",
       "    </tr>\n",
       "    <tr>\n",
       "      <th id=\"T_69160_level0_row15\" class=\"row_heading level0 row15\" >03_2022_004_22c_004</th>\n",
       "      <th id=\"T_69160_level1_row15\" class=\"row_heading level1 row15\" >7</th>\n",
       "      <td id=\"T_69160_row15_col0\" class=\"data row15 col0\" >0.003226</td>\n",
       "      <td id=\"T_69160_row15_col1\" class=\"data row15 col1\" >0.003226</td>\n",
       "      <td id=\"T_69160_row15_col2\" class=\"data row15 col2\" >0.003226</td>\n",
       "      <td id=\"T_69160_row15_col3\" class=\"data row15 col3\" >0.488783</td>\n",
       "      <td id=\"T_69160_row15_col4\" class=\"data row15 col4\" >0.003226</td>\n",
       "      <td id=\"T_69160_row15_col5\" class=\"data row15 col5\" >0.003226</td>\n",
       "      <td id=\"T_69160_row15_col6\" class=\"data row15 col6\" >0.485407</td>\n",
       "      <td id=\"T_69160_row15_col7\" class=\"data row15 col7\" >0.003226</td>\n",
       "      <td id=\"T_69160_row15_col8\" class=\"data row15 col8\" >0.003227</td>\n",
       "      <td id=\"T_69160_row15_col9\" class=\"data row15 col9\" >0.003227</td>\n",
       "    </tr>\n",
       "    <tr>\n",
       "      <th id=\"T_69160_level0_row16\" class=\"row_heading level0 row16\" >03_2022_004_22c_055</th>\n",
       "      <th id=\"T_69160_level1_row16\" class=\"row_heading level1 row16\" >9</th>\n",
       "      <td id=\"T_69160_row16_col0\" class=\"data row16 col0\" >0.091910</td>\n",
       "      <td id=\"T_69160_row16_col1\" class=\"data row16 col1\" >0.008335</td>\n",
       "      <td id=\"T_69160_row16_col2\" class=\"data row16 col2\" >0.008334</td>\n",
       "      <td id=\"T_69160_row16_col3\" class=\"data row16 col3\" >0.008334</td>\n",
       "      <td id=\"T_69160_row16_col4\" class=\"data row16 col4\" >0.008334</td>\n",
       "      <td id=\"T_69160_row16_col5\" class=\"data row16 col5\" >0.008336</td>\n",
       "      <td id=\"T_69160_row16_col6\" class=\"data row16 col6\" >0.841413</td>\n",
       "      <td id=\"T_69160_row16_col7\" class=\"data row16 col7\" >0.008334</td>\n",
       "      <td id=\"T_69160_row16_col8\" class=\"data row16 col8\" >0.008335</td>\n",
       "      <td id=\"T_69160_row16_col9\" class=\"data row16 col9\" >0.008334</td>\n",
       "    </tr>\n",
       "    <tr>\n",
       "      <th id=\"T_69160_level0_row17\" class=\"row_heading level0 row17\" >03_004_12c_049</th>\n",
       "      <th id=\"T_69160_level1_row17\" class=\"row_heading level1 row17\" >14</th>\n",
       "      <td id=\"T_69160_row17_col0\" class=\"data row17 col0\" >0.016671</td>\n",
       "      <td id=\"T_69160_row17_col1\" class=\"data row17 col1\" >0.016667</td>\n",
       "      <td id=\"T_69160_row17_col2\" class=\"data row17 col2\" >0.016668</td>\n",
       "      <td id=\"T_69160_row17_col3\" class=\"data row17 col3\" >0.016667</td>\n",
       "      <td id=\"T_69160_row17_col4\" class=\"data row17 col4\" >0.016671</td>\n",
       "      <td id=\"T_69160_row17_col5\" class=\"data row17 col5\" >0.016668</td>\n",
       "      <td id=\"T_69160_row17_col6\" class=\"data row17 col6\" >0.016667</td>\n",
       "      <td id=\"T_69160_row17_col7\" class=\"data row17 col7\" >0.016673</td>\n",
       "      <td id=\"T_69160_row17_col8\" class=\"data row17 col8\" >0.480334</td>\n",
       "      <td id=\"T_69160_row17_col9\" class=\"data row17 col9\" >0.386314</td>\n",
       "    </tr>\n",
       "    <tr>\n",
       "      <th id=\"T_69160_level0_row18\" class=\"row_heading level0 row18\" >01_004_12c_084</th>\n",
       "      <th id=\"T_69160_level1_row18\" class=\"row_heading level1 row18\" >12</th>\n",
       "      <td id=\"T_69160_row18_col0\" class=\"data row18 col0\" >0.137498</td>\n",
       "      <td id=\"T_69160_row18_col1\" class=\"data row18 col1\" >0.012500</td>\n",
       "      <td id=\"T_69160_row18_col2\" class=\"data row18 col2\" >0.012502</td>\n",
       "      <td id=\"T_69160_row18_col3\" class=\"data row18 col3\" >0.012501</td>\n",
       "      <td id=\"T_69160_row18_col4\" class=\"data row18 col4\" >0.012500</td>\n",
       "      <td id=\"T_69160_row18_col5\" class=\"data row18 col5\" >0.141732</td>\n",
       "      <td id=\"T_69160_row18_col6\" class=\"data row18 col6\" >0.012500</td>\n",
       "      <td id=\"T_69160_row18_col7\" class=\"data row18 col7\" >0.633266</td>\n",
       "      <td id=\"T_69160_row18_col8\" class=\"data row18 col8\" >0.012501</td>\n",
       "      <td id=\"T_69160_row18_col9\" class=\"data row18 col9\" >0.012500</td>\n",
       "    </tr>\n",
       "    <tr>\n",
       "      <th id=\"T_69160_level0_row19\" class=\"row_heading level0 row19\" >01_004_12c_077</th>\n",
       "      <th id=\"T_69160_level1_row19\" class=\"row_heading level1 row19\" >23</th>\n",
       "      <td id=\"T_69160_row19_col0\" class=\"data row19 col0\" >0.050005</td>\n",
       "      <td id=\"T_69160_row19_col1\" class=\"data row19 col1\" >0.050000</td>\n",
       "      <td id=\"T_69160_row19_col2\" class=\"data row19 col2\" >0.050000</td>\n",
       "      <td id=\"T_69160_row19_col3\" class=\"data row19 col3\" >0.549990</td>\n",
       "      <td id=\"T_69160_row19_col4\" class=\"data row19 col4\" >0.050000</td>\n",
       "      <td id=\"T_69160_row19_col5\" class=\"data row19 col5\" >0.050000</td>\n",
       "      <td id=\"T_69160_row19_col6\" class=\"data row19 col6\" >0.050000</td>\n",
       "      <td id=\"T_69160_row19_col7\" class=\"data row19 col7\" >0.050005</td>\n",
       "      <td id=\"T_69160_row19_col8\" class=\"data row19 col8\" >0.050000</td>\n",
       "      <td id=\"T_69160_row19_col9\" class=\"data row19 col9\" >0.050000</td>\n",
       "    </tr>\n",
       "  </tbody>\n",
       "</table>\n"
      ],
      "text/plain": [
       "<pandas.io.formats.style.Styler at 0x7f7b906be670>"
      ]
     },
     "execution_count": 134,
     "metadata": {},
     "output_type": "execute_result"
    }
   ],
   "source": [
    "THETA.sample(20).style.background_gradient(cmap=colors, axis=None)"
   ]
  },
  {
   "cell_type": "markdown",
   "metadata": {},
   "source": [
    "## PHI"
   ]
  },
  {
   "cell_type": "code",
   "execution_count": 135,
   "metadata": {},
   "outputs": [],
   "source": [
    "PHI = pd.DataFrame(lda_engine.components_, columns=TERMS, index=TNAMES)\n",
    "PHI.index.name = 'topic_id'\n",
    "PHI.columns.name  = 'term_str'"
   ]
  },
  {
   "cell_type": "code",
   "execution_count": 136,
   "metadata": {
    "tags": []
   },
   "outputs": [
    {
     "data": {
      "text/html": [
       "<style type=\"text/css\">\n",
       "#T_19a65_row0_col0, #T_19a65_row0_col1, #T_19a65_row0_col2, #T_19a65_row0_col3, #T_19a65_row0_col4, #T_19a65_row0_col5, #T_19a65_row0_col6, #T_19a65_row0_col8, #T_19a65_row0_col9, #T_19a65_row1_col0, #T_19a65_row1_col1, #T_19a65_row1_col2, #T_19a65_row1_col3, #T_19a65_row1_col5, #T_19a65_row1_col6, #T_19a65_row1_col7, #T_19a65_row1_col9, #T_19a65_row2_col0, #T_19a65_row2_col2, #T_19a65_row2_col4, #T_19a65_row2_col5, #T_19a65_row2_col7, #T_19a65_row2_col8, #T_19a65_row2_col9, #T_19a65_row3_col0, #T_19a65_row3_col1, #T_19a65_row3_col2, #T_19a65_row3_col4, #T_19a65_row3_col5, #T_19a65_row3_col6, #T_19a65_row3_col7, #T_19a65_row3_col8, #T_19a65_row3_col9, #T_19a65_row4_col2, #T_19a65_row4_col3, #T_19a65_row4_col4, #T_19a65_row4_col5, #T_19a65_row4_col6, #T_19a65_row4_col8, #T_19a65_row4_col9, #T_19a65_row5_col0, #T_19a65_row5_col1, #T_19a65_row5_col3, #T_19a65_row5_col5, #T_19a65_row5_col6, #T_19a65_row5_col9, #T_19a65_row6_col0, #T_19a65_row6_col1, #T_19a65_row6_col2, #T_19a65_row6_col4, #T_19a65_row6_col5, #T_19a65_row6_col6, #T_19a65_row6_col7, #T_19a65_row6_col8, #T_19a65_row6_col9, #T_19a65_row7_col0, #T_19a65_row7_col1, #T_19a65_row7_col2, #T_19a65_row7_col3, #T_19a65_row7_col6, #T_19a65_row7_col9, #T_19a65_row8_col0, #T_19a65_row8_col1, #T_19a65_row8_col2, #T_19a65_row8_col3, #T_19a65_row8_col4, #T_19a65_row8_col5, #T_19a65_row8_col8, #T_19a65_row8_col9, #T_19a65_row9_col0, #T_19a65_row9_col1, #T_19a65_row9_col2, #T_19a65_row9_col3, #T_19a65_row9_col4, #T_19a65_row9_col5, #T_19a65_row9_col6, #T_19a65_row9_col8, #T_19a65_row9_col9, #T_19a65_row10_col0, #T_19a65_row10_col1, #T_19a65_row10_col4, #T_19a65_row10_col5, #T_19a65_row10_col6, #T_19a65_row10_col7, #T_19a65_row10_col9, #T_19a65_row11_col0, #T_19a65_row11_col1, #T_19a65_row11_col2, #T_19a65_row11_col3, #T_19a65_row11_col4, #T_19a65_row11_col5, #T_19a65_row11_col6, #T_19a65_row11_col8, #T_19a65_row11_col9, #T_19a65_row12_col0, #T_19a65_row12_col1, #T_19a65_row12_col2, #T_19a65_row12_col4, #T_19a65_row12_col5, #T_19a65_row12_col6, #T_19a65_row12_col7, #T_19a65_row12_col8, #T_19a65_row12_col9, #T_19a65_row13_col0, #T_19a65_row13_col1, #T_19a65_row13_col2, #T_19a65_row13_col4, #T_19a65_row13_col6, #T_19a65_row13_col7, #T_19a65_row13_col8, #T_19a65_row13_col9, #T_19a65_row14_col0, #T_19a65_row14_col2, #T_19a65_row14_col5, #T_19a65_row14_col7, #T_19a65_row15_col0, #T_19a65_row15_col1, #T_19a65_row15_col2, #T_19a65_row15_col4, #T_19a65_row15_col5, #T_19a65_row15_col6, #T_19a65_row15_col9, #T_19a65_row16_col0, #T_19a65_row16_col1, #T_19a65_row16_col2, #T_19a65_row16_col3, #T_19a65_row16_col4, #T_19a65_row16_col5, #T_19a65_row16_col6, #T_19a65_row16_col8, #T_19a65_row17_col0, #T_19a65_row17_col1, #T_19a65_row17_col2, #T_19a65_row17_col3, #T_19a65_row17_col5, #T_19a65_row17_col6, #T_19a65_row17_col8, #T_19a65_row17_col9, #T_19a65_row18_col0, #T_19a65_row18_col1, #T_19a65_row18_col2, #T_19a65_row18_col3, #T_19a65_row18_col4, #T_19a65_row18_col5, #T_19a65_row18_col6, #T_19a65_row18_col7, #T_19a65_row18_col8, #T_19a65_row19_col0, #T_19a65_row19_col4, #T_19a65_row19_col5, #T_19a65_row19_col7, #T_19a65_row19_col8, #T_19a65_row19_col9 {\n",
       "  background-color: #ffffd9;\n",
       "  color: #000000;\n",
       "}\n",
       "#T_19a65_row0_col7, #T_19a65_row10_col8, #T_19a65_row12_col3, #T_19a65_row16_col9 {\n",
       "  background-color: #fcfed1;\n",
       "  color: #000000;\n",
       "}\n",
       "#T_19a65_row1_col4, #T_19a65_row4_col1, #T_19a65_row8_col7, #T_19a65_row10_col3, #T_19a65_row14_col4, #T_19a65_row14_col6, #T_19a65_row17_col7 {\n",
       "  background-color: #feffd8;\n",
       "  color: #000000;\n",
       "}\n",
       "#T_19a65_row1_col8 {\n",
       "  background-color: #fafdcf;\n",
       "  color: #000000;\n",
       "}\n",
       "#T_19a65_row2_col1 {\n",
       "  background-color: #d3eeb3;\n",
       "  color: #000000;\n",
       "}\n",
       "#T_19a65_row2_col3 {\n",
       "  background-color: #102369;\n",
       "  color: #f1f1f1;\n",
       "}\n",
       "#T_19a65_row2_col6 {\n",
       "  background-color: #081d58;\n",
       "  color: #f1f1f1;\n",
       "}\n",
       "#T_19a65_row3_col3 {\n",
       "  background-color: #f9fdcb;\n",
       "  color: #000000;\n",
       "}\n",
       "#T_19a65_row4_col0 {\n",
       "  background-color: #fdfed4;\n",
       "  color: #000000;\n",
       "}\n",
       "#T_19a65_row4_col7, #T_19a65_row5_col4, #T_19a65_row5_col7, #T_19a65_row7_col5, #T_19a65_row10_col2, #T_19a65_row13_col3, #T_19a65_row14_col1, #T_19a65_row14_col3, #T_19a65_row16_col7 {\n",
       "  background-color: #feffd6;\n",
       "  color: #000000;\n",
       "}\n",
       "#T_19a65_row5_col2 {\n",
       "  background-color: #f4fbc0;\n",
       "  color: #000000;\n",
       "}\n",
       "#T_19a65_row5_col8, #T_19a65_row18_col9, #T_19a65_row19_col2 {\n",
       "  background-color: #f9fdcc;\n",
       "  color: #000000;\n",
       "}\n",
       "#T_19a65_row6_col3, #T_19a65_row8_col6 {\n",
       "  background-color: #fbfdd0;\n",
       "  color: #000000;\n",
       "}\n",
       "#T_19a65_row7_col4, #T_19a65_row7_col7 {\n",
       "  background-color: #f8fcca;\n",
       "  color: #000000;\n",
       "}\n",
       "#T_19a65_row7_col8, #T_19a65_row17_col4 {\n",
       "  background-color: #fcfed3;\n",
       "  color: #000000;\n",
       "}\n",
       "#T_19a65_row9_col7 {\n",
       "  background-color: #ceecb3;\n",
       "  color: #000000;\n",
       "}\n",
       "#T_19a65_row11_col7 {\n",
       "  background-color: #f5fbc2;\n",
       "  color: #000000;\n",
       "}\n",
       "#T_19a65_row13_col5 {\n",
       "  background-color: #fafdce;\n",
       "  color: #000000;\n",
       "}\n",
       "#T_19a65_row14_col8, #T_19a65_row14_col9 {\n",
       "  background-color: #fdfed5;\n",
       "  color: #000000;\n",
       "}\n",
       "#T_19a65_row15_col3 {\n",
       "  background-color: #f1fabb;\n",
       "  color: #000000;\n",
       "}\n",
       "#T_19a65_row15_col7 {\n",
       "  background-color: #f5fbc4;\n",
       "  color: #000000;\n",
       "}\n",
       "#T_19a65_row15_col8 {\n",
       "  background-color: #33a7c2;\n",
       "  color: #f1f1f1;\n",
       "}\n",
       "#T_19a65_row19_col1 {\n",
       "  background-color: #1e2e85;\n",
       "  color: #f1f1f1;\n",
       "}\n",
       "#T_19a65_row19_col3 {\n",
       "  background-color: #f2fabc;\n",
       "  color: #000000;\n",
       "}\n",
       "#T_19a65_row19_col6 {\n",
       "  background-color: #e6f5b2;\n",
       "  color: #000000;\n",
       "}\n",
       "</style>\n",
       "<table id=\"T_19a65\">\n",
       "  <thead>\n",
       "    <tr>\n",
       "      <th class=\"index_name level0\" >topic_id</th>\n",
       "      <th id=\"T_19a65_level0_col0\" class=\"col_heading level0 col0\" >T00</th>\n",
       "      <th id=\"T_19a65_level0_col1\" class=\"col_heading level0 col1\" >T01</th>\n",
       "      <th id=\"T_19a65_level0_col2\" class=\"col_heading level0 col2\" >T02</th>\n",
       "      <th id=\"T_19a65_level0_col3\" class=\"col_heading level0 col3\" >T03</th>\n",
       "      <th id=\"T_19a65_level0_col4\" class=\"col_heading level0 col4\" >T04</th>\n",
       "      <th id=\"T_19a65_level0_col5\" class=\"col_heading level0 col5\" >T05</th>\n",
       "      <th id=\"T_19a65_level0_col6\" class=\"col_heading level0 col6\" >T06</th>\n",
       "      <th id=\"T_19a65_level0_col7\" class=\"col_heading level0 col7\" >T07</th>\n",
       "      <th id=\"T_19a65_level0_col8\" class=\"col_heading level0 col8\" >T08</th>\n",
       "      <th id=\"T_19a65_level0_col9\" class=\"col_heading level0 col9\" >T09</th>\n",
       "    </tr>\n",
       "    <tr>\n",
       "      <th class=\"index_name level0\" >term_str</th>\n",
       "      <th class=\"blank col0\" >&nbsp;</th>\n",
       "      <th class=\"blank col1\" >&nbsp;</th>\n",
       "      <th class=\"blank col2\" >&nbsp;</th>\n",
       "      <th class=\"blank col3\" >&nbsp;</th>\n",
       "      <th class=\"blank col4\" >&nbsp;</th>\n",
       "      <th class=\"blank col5\" >&nbsp;</th>\n",
       "      <th class=\"blank col6\" >&nbsp;</th>\n",
       "      <th class=\"blank col7\" >&nbsp;</th>\n",
       "      <th class=\"blank col8\" >&nbsp;</th>\n",
       "      <th class=\"blank col9\" >&nbsp;</th>\n",
       "    </tr>\n",
       "  </thead>\n",
       "  <tbody>\n",
       "    <tr>\n",
       "      <th id=\"T_19a65_level0_row0\" class=\"row_heading level0 row0\" >chat follow</th>\n",
       "      <td id=\"T_19a65_row0_col0\" class=\"data row0 col0\" >0.100002</td>\n",
       "      <td id=\"T_19a65_row0_col1\" class=\"data row0 col1\" >0.100000</td>\n",
       "      <td id=\"T_19a65_row0_col2\" class=\"data row0 col2\" >0.100000</td>\n",
       "      <td id=\"T_19a65_row0_col3\" class=\"data row0 col3\" >0.100000</td>\n",
       "      <td id=\"T_19a65_row0_col4\" class=\"data row0 col4\" >0.100004</td>\n",
       "      <td id=\"T_19a65_row0_col5\" class=\"data row0 col5\" >0.100002</td>\n",
       "      <td id=\"T_19a65_row0_col6\" class=\"data row0 col6\" >0.100000</td>\n",
       "      <td id=\"T_19a65_row0_col7\" class=\"data row0 col7\" >10.099982</td>\n",
       "      <td id=\"T_19a65_row0_col8\" class=\"data row0 col8\" >0.100004</td>\n",
       "      <td id=\"T_19a65_row0_col9\" class=\"data row0 col9\" >0.100006</td>\n",
       "    </tr>\n",
       "    <tr>\n",
       "      <th id=\"T_19a65_level0_row1\" class=\"row_heading level0 row1\" >text kind</th>\n",
       "      <td id=\"T_19a65_row1_col0\" class=\"data row1 col0\" >0.100011</td>\n",
       "      <td id=\"T_19a65_row1_col1\" class=\"data row1 col1\" >0.100006</td>\n",
       "      <td id=\"T_19a65_row1_col2\" class=\"data row1 col2\" >0.100035</td>\n",
       "      <td id=\"T_19a65_row1_col3\" class=\"data row1 col3\" >0.100001</td>\n",
       "      <td id=\"T_19a65_row1_col4\" class=\"data row1 col4\" >2.427010</td>\n",
       "      <td id=\"T_19a65_row1_col5\" class=\"data row1 col5\" >0.100002</td>\n",
       "      <td id=\"T_19a65_row1_col6\" class=\"data row1 col6\" >0.100000</td>\n",
       "      <td id=\"T_19a65_row1_col7\" class=\"data row1 col7\" >0.100009</td>\n",
       "      <td id=\"T_19a65_row1_col8\" class=\"data row1 col8\" >11.772923</td>\n",
       "      <td id=\"T_19a65_row1_col9\" class=\"data row1 col9\" >0.100003</td>\n",
       "    </tr>\n",
       "    <tr>\n",
       "      <th id=\"T_19a65_level0_row2\" class=\"row_heading level0 row2\" >stop</th>\n",
       "      <td id=\"T_19a65_row2_col0\" class=\"data row2 col0\" >0.100001</td>\n",
       "      <td id=\"T_19a65_row2_col1\" class=\"data row2 col1\" >77.699177</td>\n",
       "      <td id=\"T_19a65_row2_col2\" class=\"data row2 col2\" >0.100008</td>\n",
       "      <td id=\"T_19a65_row2_col3\" class=\"data row2 col3\" >354.276110</td>\n",
       "      <td id=\"T_19a65_row2_col4\" class=\"data row2 col4\" >0.100004</td>\n",
       "      <td id=\"T_19a65_row2_col5\" class=\"data row2 col5\" >0.100010</td>\n",
       "      <td id=\"T_19a65_row2_col6\" class=\"data row2 col6\" >367.324686</td>\n",
       "      <td id=\"T_19a65_row2_col7\" class=\"data row2 col7\" >0.100001</td>\n",
       "      <td id=\"T_19a65_row2_col8\" class=\"data row2 col8\" >0.100001</td>\n",
       "      <td id=\"T_19a65_row2_col9\" class=\"data row2 col9\" >0.100004</td>\n",
       "    </tr>\n",
       "    <tr>\n",
       "      <th id=\"T_19a65_level0_row3\" class=\"row_heading level0 row3\" >short specific</th>\n",
       "      <td id=\"T_19a65_row3_col0\" class=\"data row3 col0\" >0.100000</td>\n",
       "      <td id=\"T_19a65_row3_col1\" class=\"data row3 col1\" >0.100008</td>\n",
       "      <td id=\"T_19a65_row3_col2\" class=\"data row3 col2\" >0.100001</td>\n",
       "      <td id=\"T_19a65_row3_col3\" class=\"data row3 col3\" >16.099970</td>\n",
       "      <td id=\"T_19a65_row3_col4\" class=\"data row3 col4\" >0.100001</td>\n",
       "      <td id=\"T_19a65_row3_col5\" class=\"data row3 col5\" >0.100007</td>\n",
       "      <td id=\"T_19a65_row3_col6\" class=\"data row3 col6\" >0.100009</td>\n",
       "      <td id=\"T_19a65_row3_col7\" class=\"data row3 col7\" >0.100000</td>\n",
       "      <td id=\"T_19a65_row3_col8\" class=\"data row3 col8\" >0.100000</td>\n",
       "      <td id=\"T_19a65_row3_col9\" class=\"data row3 col9\" >0.100004</td>\n",
       "    </tr>\n",
       "    <tr>\n",
       "      <th id=\"T_19a65_level0_row4\" class=\"row_heading level0 row4\" >high</th>\n",
       "      <td id=\"T_19a65_row4_col0\" class=\"data row4 col0\" >6.029750</td>\n",
       "      <td id=\"T_19a65_row4_col1\" class=\"data row4 col1\" >2.204624</td>\n",
       "      <td id=\"T_19a65_row4_col2\" class=\"data row4 col2\" >0.100056</td>\n",
       "      <td id=\"T_19a65_row4_col3\" class=\"data row4 col3\" >0.100025</td>\n",
       "      <td id=\"T_19a65_row4_col4\" class=\"data row4 col4\" >0.100011</td>\n",
       "      <td id=\"T_19a65_row4_col5\" class=\"data row4 col5\" >0.100009</td>\n",
       "      <td id=\"T_19a65_row4_col6\" class=\"data row4 col6\" >0.100006</td>\n",
       "      <td id=\"T_19a65_row4_col7\" class=\"data row4 col7\" >4.065492</td>\n",
       "      <td id=\"T_19a65_row4_col8\" class=\"data row4 col8\" >0.100003</td>\n",
       "      <td id=\"T_19a65_row4_col9\" class=\"data row4 col9\" >0.100023</td>\n",
       "    </tr>\n",
       "    <tr>\n",
       "      <th id=\"T_19a65_level0_row5\" class=\"row_heading level0 row5\" >spy</th>\n",
       "      <td id=\"T_19a65_row5_col0\" class=\"data row5 col0\" >0.100018</td>\n",
       "      <td id=\"T_19a65_row5_col1\" class=\"data row5 col1\" >0.100001</td>\n",
       "      <td id=\"T_19a65_row5_col2\" class=\"data row5 col2\" >29.815576</td>\n",
       "      <td id=\"T_19a65_row5_col3\" class=\"data row5 col3\" >0.100001</td>\n",
       "      <td id=\"T_19a65_row5_col4\" class=\"data row5 col4\" >3.782486</td>\n",
       "      <td id=\"T_19a65_row5_col5\" class=\"data row5 col5\" >0.100008</td>\n",
       "      <td id=\"T_19a65_row5_col6\" class=\"data row5 col6\" >0.100001</td>\n",
       "      <td id=\"T_19a65_row5_col7\" class=\"data row5 col7\" >3.616052</td>\n",
       "      <td id=\"T_19a65_row5_col8\" class=\"data row5 col8\" >15.185850</td>\n",
       "      <td id=\"T_19a65_row5_col9\" class=\"data row5 col9\" >0.100009</td>\n",
       "    </tr>\n",
       "    <tr>\n",
       "      <th id=\"T_19a65_level0_row6\" class=\"row_heading level0 row6\" >activity</th>\n",
       "      <td id=\"T_19a65_row6_col0\" class=\"data row6 col0\" >0.100000</td>\n",
       "      <td id=\"T_19a65_row6_col1\" class=\"data row6 col1\" >0.100020</td>\n",
       "      <td id=\"T_19a65_row6_col2\" class=\"data row6 col2\" >0.100014</td>\n",
       "      <td id=\"T_19a65_row6_col3\" class=\"data row6 col3\" >11.099927</td>\n",
       "      <td id=\"T_19a65_row6_col4\" class=\"data row6 col4\" >0.100018</td>\n",
       "      <td id=\"T_19a65_row6_col5\" class=\"data row6 col5\" >0.100002</td>\n",
       "      <td id=\"T_19a65_row6_col6\" class=\"data row6 col6\" >0.100007</td>\n",
       "      <td id=\"T_19a65_row6_col7\" class=\"data row6 col7\" >0.100000</td>\n",
       "      <td id=\"T_19a65_row6_col8\" class=\"data row6 col8\" >0.100007</td>\n",
       "      <td id=\"T_19a65_row6_col9\" class=\"data row6 col9\" >0.100004</td>\n",
       "    </tr>\n",
       "    <tr>\n",
       "      <th id=\"T_19a65_level0_row7\" class=\"row_heading level0 row7\" >scaffold</th>\n",
       "      <td id=\"T_19a65_row7_col0\" class=\"data row7 col0\" >0.100031</td>\n",
       "      <td id=\"T_19a65_row7_col1\" class=\"data row7 col1\" >0.100001</td>\n",
       "      <td id=\"T_19a65_row7_col2\" class=\"data row7 col2\" >0.100014</td>\n",
       "      <td id=\"T_19a65_row7_col3\" class=\"data row7 col3\" >0.100000</td>\n",
       "      <td id=\"T_19a65_row7_col4\" class=\"data row7 col4\" >18.116928</td>\n",
       "      <td id=\"T_19a65_row7_col5\" class=\"data row7 col5\" >3.439153</td>\n",
       "      <td id=\"T_19a65_row7_col6\" class=\"data row7 col6\" >0.100001</td>\n",
       "      <td id=\"T_19a65_row7_col7\" class=\"data row7 col7\" >18.448657</td>\n",
       "      <td id=\"T_19a65_row7_col8\" class=\"data row7 col8\" >7.395198</td>\n",
       "      <td id=\"T_19a65_row7_col9\" class=\"data row7 col9\" >0.100017</td>\n",
       "    </tr>\n",
       "    <tr>\n",
       "      <th id=\"T_19a65_level0_row8\" class=\"row_heading level0 row8\" >simple</th>\n",
       "      <td id=\"T_19a65_row8_col0\" class=\"data row8 col0\" >0.100000</td>\n",
       "      <td id=\"T_19a65_row8_col1\" class=\"data row8 col1\" >0.100000</td>\n",
       "      <td id=\"T_19a65_row8_col2\" class=\"data row8 col2\" >0.100034</td>\n",
       "      <td id=\"T_19a65_row8_col3\" class=\"data row8 col3\" >0.100010</td>\n",
       "      <td id=\"T_19a65_row8_col4\" class=\"data row8 col4\" >0.100035</td>\n",
       "      <td id=\"T_19a65_row8_col5\" class=\"data row8 col5\" >1.196191</td>\n",
       "      <td id=\"T_19a65_row8_col6\" class=\"data row8 col6\" >11.547985</td>\n",
       "      <td id=\"T_19a65_row8_col7\" class=\"data row8 col7\" >2.555732</td>\n",
       "      <td id=\"T_19a65_row8_col8\" class=\"data row8 col8\" >0.100002</td>\n",
       "      <td id=\"T_19a65_row8_col9\" class=\"data row8 col9\" >0.100011</td>\n",
       "    </tr>\n",
       "    <tr>\n",
       "      <th id=\"T_19a65_level0_row9\" class=\"row_heading level0 row9\" >doo</th>\n",
       "      <td id=\"T_19a65_row9_col0\" class=\"data row9 col0\" >0.100000</td>\n",
       "      <td id=\"T_19a65_row9_col1\" class=\"data row9 col1\" >0.100008</td>\n",
       "      <td id=\"T_19a65_row9_col2\" class=\"data row9 col2\" >0.100003</td>\n",
       "      <td id=\"T_19a65_row9_col3\" class=\"data row9 col3\" >0.100009</td>\n",
       "      <td id=\"T_19a65_row9_col4\" class=\"data row9 col4\" >0.100003</td>\n",
       "      <td id=\"T_19a65_row9_col5\" class=\"data row9 col5\" >0.100000</td>\n",
       "      <td id=\"T_19a65_row9_col6\" class=\"data row9 col6\" >0.100015</td>\n",
       "      <td id=\"T_19a65_row9_col7\" class=\"data row9 col7\" >84.099962</td>\n",
       "      <td id=\"T_19a65_row9_col8\" class=\"data row9 col8\" >0.100000</td>\n",
       "      <td id=\"T_19a65_row9_col9\" class=\"data row9 col9\" >0.100000</td>\n",
       "    </tr>\n",
       "    <tr>\n",
       "      <th id=\"T_19a65_level0_row10\" class=\"row_heading level0 row10\" >case</th>\n",
       "      <td id=\"T_19a65_row10_col0\" class=\"data row10 col0\" >0.100047</td>\n",
       "      <td id=\"T_19a65_row10_col1\" class=\"data row10 col1\" >0.100009</td>\n",
       "      <td id=\"T_19a65_row10_col2\" class=\"data row10 col2\" >3.612937</td>\n",
       "      <td id=\"T_19a65_row10_col3\" class=\"data row10 col3\" >1.925937</td>\n",
       "      <td id=\"T_19a65_row10_col4\" class=\"data row10 col4\" >0.100014</td>\n",
       "      <td id=\"T_19a65_row10_col5\" class=\"data row10 col5\" >0.100018</td>\n",
       "      <td id=\"T_19a65_row10_col6\" class=\"data row10 col6\" >0.100000</td>\n",
       "      <td id=\"T_19a65_row10_col7\" class=\"data row10 col7\" >0.100002</td>\n",
       "      <td id=\"T_19a65_row10_col8\" class=\"data row10 col8\" >9.707527</td>\n",
       "      <td id=\"T_19a65_row10_col9\" class=\"data row10 col9\" >1.153507</td>\n",
       "    </tr>\n",
       "    <tr>\n",
       "      <th id=\"T_19a65_level0_row11\" class=\"row_heading level0 row11\" >text answer</th>\n",
       "      <td id=\"T_19a65_row11_col0\" class=\"data row11 col0\" >0.100013</td>\n",
       "      <td id=\"T_19a65_row11_col1\" class=\"data row11 col1\" >0.100002</td>\n",
       "      <td id=\"T_19a65_row11_col2\" class=\"data row11 col2\" >0.100012</td>\n",
       "      <td id=\"T_19a65_row11_col3\" class=\"data row11 col3\" >0.100000</td>\n",
       "      <td id=\"T_19a65_row11_col4\" class=\"data row11 col4\" >0.100016</td>\n",
       "      <td id=\"T_19a65_row11_col5\" class=\"data row11 col5\" >0.100002</td>\n",
       "      <td id=\"T_19a65_row11_col6\" class=\"data row11 col6\" >0.100000</td>\n",
       "      <td id=\"T_19a65_row11_col7\" class=\"data row11 col7\" >27.099925</td>\n",
       "      <td id=\"T_19a65_row11_col8\" class=\"data row11 col8\" >0.100023</td>\n",
       "      <td id=\"T_19a65_row11_col9\" class=\"data row11 col9\" >0.100007</td>\n",
       "    </tr>\n",
       "    <tr>\n",
       "      <th id=\"T_19a65_level0_row12\" class=\"row_heading level0 row12\" >sure behavior</th>\n",
       "      <td id=\"T_19a65_row12_col0\" class=\"data row12 col0\" >0.100000</td>\n",
       "      <td id=\"T_19a65_row12_col1\" class=\"data row12 col1\" >0.100006</td>\n",
       "      <td id=\"T_19a65_row12_col2\" class=\"data row12 col2\" >0.100010</td>\n",
       "      <td id=\"T_19a65_row12_col3\" class=\"data row12 col3\" >10.099927</td>\n",
       "      <td id=\"T_19a65_row12_col4\" class=\"data row12 col4\" >0.100027</td>\n",
       "      <td id=\"T_19a65_row12_col5\" class=\"data row12 col5\" >0.100002</td>\n",
       "      <td id=\"T_19a65_row12_col6\" class=\"data row12 col6\" >0.100024</td>\n",
       "      <td id=\"T_19a65_row12_col7\" class=\"data row12 col7\" >0.100003</td>\n",
       "      <td id=\"T_19a65_row12_col8\" class=\"data row12 col8\" >0.100001</td>\n",
       "      <td id=\"T_19a65_row12_col9\" class=\"data row12 col9\" >0.100000</td>\n",
       "    </tr>\n",
       "    <tr>\n",
       "      <th id=\"T_19a65_level0_row13\" class=\"row_heading level0 row13\" >time practice</th>\n",
       "      <td id=\"T_19a65_row13_col0\" class=\"data row13 col0\" >0.100000</td>\n",
       "      <td id=\"T_19a65_row13_col1\" class=\"data row13 col1\" >0.100000</td>\n",
       "      <td id=\"T_19a65_row13_col2\" class=\"data row13 col2\" >0.100008</td>\n",
       "      <td id=\"T_19a65_row13_col3\" class=\"data row13 col3\" >2.981981</td>\n",
       "      <td id=\"T_19a65_row13_col4\" class=\"data row13 col4\" >0.100018</td>\n",
       "      <td id=\"T_19a65_row13_col5\" class=\"data row13 col5\" >14.217839</td>\n",
       "      <td id=\"T_19a65_row13_col6\" class=\"data row13 col6\" >0.100117</td>\n",
       "      <td id=\"T_19a65_row13_col7\" class=\"data row13 col7\" >0.100019</td>\n",
       "      <td id=\"T_19a65_row13_col8\" class=\"data row13 col8\" >0.100002</td>\n",
       "      <td id=\"T_19a65_row13_col9\" class=\"data row13 col9\" >0.100017</td>\n",
       "    </tr>\n",
       "    <tr>\n",
       "      <th id=\"T_19a65_level0_row14\" class=\"row_heading level0 row14\" >kind like</th>\n",
       "      <td id=\"T_19a65_row14_col0\" class=\"data row14 col0\" >0.100003</td>\n",
       "      <td id=\"T_19a65_row14_col1\" class=\"data row14 col1\" >4.316191</td>\n",
       "      <td id=\"T_19a65_row14_col2\" class=\"data row14 col2\" >0.100100</td>\n",
       "      <td id=\"T_19a65_row14_col3\" class=\"data row14 col3\" >3.023016</td>\n",
       "      <td id=\"T_19a65_row14_col4\" class=\"data row14 col4\" >2.323234</td>\n",
       "      <td id=\"T_19a65_row14_col5\" class=\"data row14 col5\" >0.100013</td>\n",
       "      <td id=\"T_19a65_row14_col6\" class=\"data row14 col6\" >2.464947</td>\n",
       "      <td id=\"T_19a65_row14_col7\" class=\"data row14 col7\" >0.100018</td>\n",
       "      <td id=\"T_19a65_row14_col8\" class=\"data row14 col8\" >4.976877</td>\n",
       "      <td id=\"T_19a65_row14_col9\" class=\"data row14 col9\" >4.495603</td>\n",
       "    </tr>\n",
       "    <tr>\n",
       "      <th id=\"T_19a65_level0_row15\" class=\"row_heading level0 row15\" >look</th>\n",
       "      <td id=\"T_19a65_row15_col0\" class=\"data row15 col0\" >0.100020</td>\n",
       "      <td id=\"T_19a65_row15_col1\" class=\"data row15 col1\" >0.100013</td>\n",
       "      <td id=\"T_19a65_row15_col2\" class=\"data row15 col2\" >0.100018</td>\n",
       "      <td id=\"T_19a65_row15_col3\" class=\"data row15 col3\" >35.149118</td>\n",
       "      <td id=\"T_19a65_row15_col4\" class=\"data row15 col4\" >0.100017</td>\n",
       "      <td id=\"T_19a65_row15_col5\" class=\"data row15 col5\" >0.100017</td>\n",
       "      <td id=\"T_19a65_row15_col6\" class=\"data row15 col6\" >0.100013</td>\n",
       "      <td id=\"T_19a65_row15_col7\" class=\"data row15 col7\" >25.859399</td>\n",
       "      <td id=\"T_19a65_row15_col8\" class=\"data row15 col8\" >202.291377</td>\n",
       "      <td id=\"T_19a65_row15_col9\" class=\"data row15 col9\" >0.100009</td>\n",
       "    </tr>\n",
       "    <tr>\n",
       "      <th id=\"T_19a65_level0_row16\" class=\"row_heading level0 row16\" >nervous nervous</th>\n",
       "      <td id=\"T_19a65_row16_col0\" class=\"data row16 col0\" >0.100007</td>\n",
       "      <td id=\"T_19a65_row16_col1\" class=\"data row16 col1\" >0.100003</td>\n",
       "      <td id=\"T_19a65_row16_col2\" class=\"data row16 col2\" >0.100003</td>\n",
       "      <td id=\"T_19a65_row16_col3\" class=\"data row16 col3\" >0.100001</td>\n",
       "      <td id=\"T_19a65_row16_col4\" class=\"data row16 col4\" >0.100007</td>\n",
       "      <td id=\"T_19a65_row16_col5\" class=\"data row16 col5\" >0.100001</td>\n",
       "      <td id=\"T_19a65_row16_col6\" class=\"data row16 col6\" >0.100000</td>\n",
       "      <td id=\"T_19a65_row16_col7\" class=\"data row16 col7\" >3.369810</td>\n",
       "      <td id=\"T_19a65_row16_col8\" class=\"data row16 col8\" >0.100003</td>\n",
       "      <td id=\"T_19a65_row16_col9\" class=\"data row16 col9\" >8.830165</td>\n",
       "    </tr>\n",
       "    <tr>\n",
       "      <th id=\"T_19a65_level0_row17\" class=\"row_heading level0 row17\" >wrong answers</th>\n",
       "      <td id=\"T_19a65_row17_col0\" class=\"data row17 col0\" >0.100000</td>\n",
       "      <td id=\"T_19a65_row17_col1\" class=\"data row17 col1\" >0.100001</td>\n",
       "      <td id=\"T_19a65_row17_col2\" class=\"data row17 col2\" >0.100004</td>\n",
       "      <td id=\"T_19a65_row17_col3\" class=\"data row17 col3\" >0.100000</td>\n",
       "      <td id=\"T_19a65_row17_col4\" class=\"data row17 col4\" >7.824350</td>\n",
       "      <td id=\"T_19a65_row17_col5\" class=\"data row17 col5\" >0.100001</td>\n",
       "      <td id=\"T_19a65_row17_col6\" class=\"data row17 col6\" >0.100000</td>\n",
       "      <td id=\"T_19a65_row17_col7\" class=\"data row17 col7\" >2.375637</td>\n",
       "      <td id=\"T_19a65_row17_col8\" class=\"data row17 col8\" >0.100007</td>\n",
       "      <td id=\"T_19a65_row17_col9\" class=\"data row17 col9\" >0.100000</td>\n",
       "    </tr>\n",
       "    <tr>\n",
       "      <th id=\"T_19a65_level0_row18\" class=\"row_heading level0 row18\" >student ask</th>\n",
       "      <td id=\"T_19a65_row18_col0\" class=\"data row18 col0\" >0.100011</td>\n",
       "      <td id=\"T_19a65_row18_col1\" class=\"data row18 col1\" >0.100000</td>\n",
       "      <td id=\"T_19a65_row18_col2\" class=\"data row18 col2\" >0.100002</td>\n",
       "      <td id=\"T_19a65_row18_col3\" class=\"data row18 col3\" >0.100000</td>\n",
       "      <td id=\"T_19a65_row18_col4\" class=\"data row18 col4\" >0.100004</td>\n",
       "      <td id=\"T_19a65_row18_col5\" class=\"data row18 col5\" >0.100002</td>\n",
       "      <td id=\"T_19a65_row18_col6\" class=\"data row18 col6\" >0.100000</td>\n",
       "      <td id=\"T_19a65_row18_col7\" class=\"data row18 col7\" >0.100008</td>\n",
       "      <td id=\"T_19a65_row18_col8\" class=\"data row18 col8\" >0.100011</td>\n",
       "      <td id=\"T_19a65_row18_col9\" class=\"data row18 col9\" >15.099961</td>\n",
       "    </tr>\n",
       "    <tr>\n",
       "      <th id=\"T_19a65_level0_row19\" class=\"row_heading level0 row19\" >classroom</th>\n",
       "      <td id=\"T_19a65_row19_col0\" class=\"data row19 col0\" >0.100006</td>\n",
       "      <td id=\"T_19a65_row19_col1\" class=\"data row19 col1\" >332.293865</td>\n",
       "      <td id=\"T_19a65_row19_col2\" class=\"data row19 col2\" >14.816115</td>\n",
       "      <td id=\"T_19a65_row19_col3\" class=\"data row19 col3\" >34.299113</td>\n",
       "      <td id=\"T_19a65_row19_col4\" class=\"data row19 col4\" >0.100018</td>\n",
       "      <td id=\"T_19a65_row19_col5\" class=\"data row19 col5\" >0.100014</td>\n",
       "      <td id=\"T_19a65_row19_col6\" class=\"data row19 col6\" >54.990842</td>\n",
       "      <td id=\"T_19a65_row19_col7\" class=\"data row19 col7\" >0.100005</td>\n",
       "      <td id=\"T_19a65_row19_col8\" class=\"data row19 col8\" >0.100005</td>\n",
       "      <td id=\"T_19a65_row19_col9\" class=\"data row19 col9\" >0.100015</td>\n",
       "    </tr>\n",
       "  </tbody>\n",
       "</table>\n"
      ],
      "text/plain": [
       "<pandas.io.formats.style.Styler at 0x7f7b906becd0>"
      ]
     },
     "execution_count": 136,
     "metadata": {},
     "output_type": "execute_result"
    }
   ],
   "source": [
    "PHI.T.sample(20).style.background_gradient(cmap=colors, axis=None)"
   ]
  },
  {
   "cell_type": "markdown",
   "metadata": {
    "tags": []
   },
   "source": [
    "# Inspect Results"
   ]
  },
  {
   "cell_type": "markdown",
   "metadata": {},
   "source": [
    "## Create `TOPICS` and get Top Terms per Topic"
   ]
  },
  {
   "cell_type": "code",
   "execution_count": 137,
   "metadata": {},
   "outputs": [],
   "source": [
    "TOPICS = PHI.stack().to_frame('topic_weight').groupby('topic_id')\\\n",
    "    .apply(lambda x: x.sort_values('topic_weight', ascending=False)\\\n",
    "        .head(n_top_terms).reset_index().drop('topic_id', axis=1)['term_str'])"
   ]
  },
  {
   "cell_type": "code",
   "execution_count": 138,
   "metadata": {},
   "outputs": [
    {
     "data": {
      "text/html": [
       "<div>\n",
       "<style scoped>\n",
       "    .dataframe tbody tr th:only-of-type {\n",
       "        vertical-align: middle;\n",
       "    }\n",
       "\n",
       "    .dataframe tbody tr th {\n",
       "        vertical-align: top;\n",
       "    }\n",
       "\n",
       "    .dataframe thead th {\n",
       "        text-align: right;\n",
       "    }\n",
       "</style>\n",
       "<table border=\"1\" class=\"dataframe\">\n",
       "  <thead>\n",
       "    <tr style=\"text-align: right;\">\n",
       "      <th>term_str</th>\n",
       "      <th>0</th>\n",
       "      <th>1</th>\n",
       "      <th>2</th>\n",
       "      <th>3</th>\n",
       "      <th>4</th>\n",
       "      <th>5</th>\n",
       "      <th>6</th>\n",
       "      <th>7</th>\n",
       "      <th>8</th>\n",
       "    </tr>\n",
       "    <tr>\n",
       "      <th>topic_id</th>\n",
       "      <th></th>\n",
       "      <th></th>\n",
       "      <th></th>\n",
       "      <th></th>\n",
       "      <th></th>\n",
       "      <th></th>\n",
       "      <th></th>\n",
       "      <th></th>\n",
       "      <th></th>\n",
       "    </tr>\n",
       "  </thead>\n",
       "  <tbody>\n",
       "    <tr>\n",
       "      <th>T00</th>\n",
       "      <td>detector</td>\n",
       "      <td>lie</td>\n",
       "      <td>lie detector</td>\n",
       "      <td>results</td>\n",
       "      <td>detector results</td>\n",
       "      <td>feel</td>\n",
       "      <td>think</td>\n",
       "      <td>good</td>\n",
       "      <td>likely</td>\n",
       "    </tr>\n",
       "    <tr>\n",
       "      <th>T01</th>\n",
       "      <td>classroom</td>\n",
       "      <td>norms</td>\n",
       "      <td>class</td>\n",
       "      <td>let</td>\n",
       "      <td>classroom norms</td>\n",
       "      <td>time</td>\n",
       "      <td>norm</td>\n",
       "      <td>talk</td>\n",
       "      <td>stop</td>\n",
       "    </tr>\n",
       "    <tr>\n",
       "      <th>T02</th>\n",
       "      <td>kind</td>\n",
       "      <td>little</td>\n",
       "      <td>like</td>\n",
       "      <td>bit</td>\n",
       "      <td>little bit</td>\n",
       "      <td>know</td>\n",
       "      <td>thing</td>\n",
       "      <td>um</td>\n",
       "      <td>lot</td>\n",
       "    </tr>\n",
       "    <tr>\n",
       "      <th>T03</th>\n",
       "      <td>specific</td>\n",
       "      <td>behavior</td>\n",
       "      <td>stop</td>\n",
       "      <td>redirection</td>\n",
       "      <td>student</td>\n",
       "      <td>students</td>\n",
       "      <td>way</td>\n",
       "      <td>behaviors</td>\n",
       "      <td>time</td>\n",
       "    </tr>\n",
       "    <tr>\n",
       "      <th>T04</th>\n",
       "      <td>students</td>\n",
       "      <td>sure</td>\n",
       "      <td>make</td>\n",
       "      <td>questions</td>\n",
       "      <td>make sure</td>\n",
       "      <td>text</td>\n",
       "      <td>calm</td>\n",
       "      <td>kind</td>\n",
       "      <td>think</td>\n",
       "    </tr>\n",
       "    <tr>\n",
       "      <th>T05</th>\n",
       "      <td>simulation</td>\n",
       "      <td>great</td>\n",
       "      <td>right</td>\n",
       "      <td>try</td>\n",
       "      <td>job</td>\n",
       "      <td>round</td>\n",
       "      <td>questions</td>\n",
       "      <td>ready</td>\n",
       "      <td>time</td>\n",
       "    </tr>\n",
       "    <tr>\n",
       "      <th>T06</th>\n",
       "      <td>stop</td>\n",
       "      <td>say</td>\n",
       "      <td>time</td>\n",
       "      <td>attention</td>\n",
       "      <td>book</td>\n",
       "      <td>student</td>\n",
       "      <td>try</td>\n",
       "      <td>classroom</td>\n",
       "      <td>let</td>\n",
       "    </tr>\n",
       "    <tr>\n",
       "      <th>T07</th>\n",
       "      <td>evidence</td>\n",
       "      <td>text</td>\n",
       "      <td>answer</td>\n",
       "      <td>text evidence</td>\n",
       "      <td>students</td>\n",
       "      <td>textual</td>\n",
       "      <td>textual evidence</td>\n",
       "      <td>tell</td>\n",
       "      <td>job</td>\n",
       "    </tr>\n",
       "    <tr>\n",
       "      <th>T08</th>\n",
       "      <td>student</td>\n",
       "      <td>paragraph</td>\n",
       "      <td>text</td>\n",
       "      <td>say</td>\n",
       "      <td>intern</td>\n",
       "      <td>look</td>\n",
       "      <td>student intern</td>\n",
       "      <td>right</td>\n",
       "      <td>read</td>\n",
       "    </tr>\n",
       "    <tr>\n",
       "      <th>T09</th>\n",
       "      <td>question</td>\n",
       "      <td>nervous</td>\n",
       "      <td>heart</td>\n",
       "      <td>ask</td>\n",
       "      <td>practice</td>\n",
       "      <td>student</td>\n",
       "      <td>let</td>\n",
       "      <td>sorry</td>\n",
       "      <td>paragraph</td>\n",
       "    </tr>\n",
       "  </tbody>\n",
       "</table>\n",
       "</div>"
      ],
      "text/plain": [
       "term_str           0          1             2              3  \\\n",
       "topic_id                                                       \n",
       "T00         detector        lie  lie detector        results   \n",
       "T01        classroom      norms         class            let   \n",
       "T02             kind     little          like            bit   \n",
       "T03         specific   behavior          stop    redirection   \n",
       "T04         students       sure          make      questions   \n",
       "T05       simulation      great         right            try   \n",
       "T06             stop        say          time      attention   \n",
       "T07         evidence       text        answer  text evidence   \n",
       "T08          student  paragraph          text            say   \n",
       "T09         question    nervous         heart            ask   \n",
       "\n",
       "term_str                 4         5                 6          7          8  \n",
       "topic_id                                                                      \n",
       "T00       detector results      feel             think       good     likely  \n",
       "T01        classroom norms      time              norm       talk       stop  \n",
       "T02             little bit      know             thing         um        lot  \n",
       "T03                student  students               way  behaviors       time  \n",
       "T04              make sure      text              calm       kind      think  \n",
       "T05                    job     round         questions      ready       time  \n",
       "T06                   book   student               try  classroom        let  \n",
       "T07               students   textual  textual evidence       tell        job  \n",
       "T08                 intern      look    student intern      right       read  \n",
       "T09               practice   student               let      sorry  paragraph  "
      ]
     },
     "execution_count": 138,
     "metadata": {},
     "output_type": "execute_result"
    }
   ],
   "source": [
    "TOPICS"
   ]
  },
  {
   "cell_type": "code",
   "execution_count": 139,
   "metadata": {},
   "outputs": [],
   "source": [
    "TOPICS['label'] = TOPICS.apply(lambda x: x.name + ' ' + ', '.join(x[:n_top_terms]), 1)"
   ]
  },
  {
   "cell_type": "code",
   "execution_count": 140,
   "metadata": {},
   "outputs": [
    {
     "name": "stdout",
     "output_type": "stream",
     "text": [
      "['T00 detector, lie, lie detector, results, detector results, feel, think, good, likely'\n",
      " 'T01 classroom, norms, class, let, classroom norms, time, norm, talk, stop'\n",
      " 'T02 kind, little, like, bit, little bit, know, thing, um, lot'\n",
      " 'T03 specific, behavior, stop, redirection, student, students, way, behaviors, time'\n",
      " 'T04 students, sure, make, questions, make sure, text, calm, kind, think'\n",
      " 'T05 simulation, great, right, try, job, round, questions, ready, time'\n",
      " 'T06 stop, say, time, attention, book, student, try, classroom, let'\n",
      " 'T07 evidence, text, answer, text evidence, students, textual, textual evidence, tell, job'\n",
      " 'T08 student, paragraph, text, say, intern, look, student intern, right, read'\n",
      " 'T09 question, nervous, heart, ask, practice, student, let, sorry, paragraph']\n"
     ]
    }
   ],
   "source": [
    "print(TOPICS.label.values)"
   ]
  },
  {
   "cell_type": "markdown",
   "metadata": {},
   "source": [
    "## Sort Topics by Doc Weight"
   ]
  },
  {
   "cell_type": "code",
   "execution_count": 141,
   "metadata": {},
   "outputs": [
    {
     "data": {
      "text/html": [
       "<div>\n",
       "<style scoped>\n",
       "    .dataframe tbody tr th:only-of-type {\n",
       "        vertical-align: middle;\n",
       "    }\n",
       "\n",
       "    .dataframe tbody tr th {\n",
       "        vertical-align: top;\n",
       "    }\n",
       "\n",
       "    .dataframe thead th {\n",
       "        text-align: right;\n",
       "    }\n",
       "</style>\n",
       "<table border=\"1\" class=\"dataframe\">\n",
       "  <thead>\n",
       "    <tr style=\"text-align: right;\">\n",
       "      <th>term_str</th>\n",
       "      <th>able</th>\n",
       "      <th>able tell</th>\n",
       "      <th>acceptable</th>\n",
       "      <th>action</th>\n",
       "      <th>activity</th>\n",
       "      <th>actual</th>\n",
       "      <th>add</th>\n",
       "      <th>additional</th>\n",
       "      <th>address</th>\n",
       "      <th>agree</th>\n",
       "      <th>...</th>\n",
       "      <th>worry</th>\n",
       "      <th>write</th>\n",
       "      <th>wrong</th>\n",
       "      <th>wrong answer</th>\n",
       "      <th>wrong answers</th>\n",
       "      <th>wrong text</th>\n",
       "      <th>year</th>\n",
       "      <th>yep</th>\n",
       "      <th>yes</th>\n",
       "      <th>zero</th>\n",
       "    </tr>\n",
       "    <tr>\n",
       "      <th>topic_id</th>\n",
       "      <th></th>\n",
       "      <th></th>\n",
       "      <th></th>\n",
       "      <th></th>\n",
       "      <th></th>\n",
       "      <th></th>\n",
       "      <th></th>\n",
       "      <th></th>\n",
       "      <th></th>\n",
       "      <th></th>\n",
       "      <th></th>\n",
       "      <th></th>\n",
       "      <th></th>\n",
       "      <th></th>\n",
       "      <th></th>\n",
       "      <th></th>\n",
       "      <th></th>\n",
       "      <th></th>\n",
       "      <th></th>\n",
       "      <th></th>\n",
       "      <th></th>\n",
       "    </tr>\n",
       "  </thead>\n",
       "  <tbody>\n",
       "    <tr>\n",
       "      <th>T00</th>\n",
       "      <td>2.770667</td>\n",
       "      <td>0.100006</td>\n",
       "      <td>0.100000</td>\n",
       "      <td>0.100000</td>\n",
       "      <td>0.100000</td>\n",
       "      <td>0.100016</td>\n",
       "      <td>0.100007</td>\n",
       "      <td>0.100001</td>\n",
       "      <td>0.100013</td>\n",
       "      <td>0.100010</td>\n",
       "      <td>...</td>\n",
       "      <td>0.100011</td>\n",
       "      <td>0.100000</td>\n",
       "      <td>0.100014</td>\n",
       "      <td>0.100019</td>\n",
       "      <td>0.100000</td>\n",
       "      <td>0.100016</td>\n",
       "      <td>0.100000</td>\n",
       "      <td>2.099988</td>\n",
       "      <td>0.100005</td>\n",
       "      <td>0.100000</td>\n",
       "    </tr>\n",
       "    <tr>\n",
       "      <th>T01</th>\n",
       "      <td>0.100028</td>\n",
       "      <td>0.100059</td>\n",
       "      <td>0.100021</td>\n",
       "      <td>0.100032</td>\n",
       "      <td>0.100020</td>\n",
       "      <td>16.530806</td>\n",
       "      <td>0.100039</td>\n",
       "      <td>0.100007</td>\n",
       "      <td>3.079406</td>\n",
       "      <td>0.100003</td>\n",
       "      <td>...</td>\n",
       "      <td>5.438643</td>\n",
       "      <td>5.750281</td>\n",
       "      <td>0.100007</td>\n",
       "      <td>0.100001</td>\n",
       "      <td>0.100001</td>\n",
       "      <td>0.100001</td>\n",
       "      <td>1.361243</td>\n",
       "      <td>0.100001</td>\n",
       "      <td>0.100004</td>\n",
       "      <td>0.100007</td>\n",
       "    </tr>\n",
       "    <tr>\n",
       "      <th>T02</th>\n",
       "      <td>12.143316</td>\n",
       "      <td>0.100001</td>\n",
       "      <td>0.100017</td>\n",
       "      <td>0.100016</td>\n",
       "      <td>0.100014</td>\n",
       "      <td>0.100040</td>\n",
       "      <td>6.827504</td>\n",
       "      <td>1.559339</td>\n",
       "      <td>0.100029</td>\n",
       "      <td>0.100023</td>\n",
       "      <td>...</td>\n",
       "      <td>0.100042</td>\n",
       "      <td>0.100006</td>\n",
       "      <td>0.100020</td>\n",
       "      <td>0.100003</td>\n",
       "      <td>0.100004</td>\n",
       "      <td>0.100004</td>\n",
       "      <td>15.838661</td>\n",
       "      <td>1.876496</td>\n",
       "      <td>18.254311</td>\n",
       "      <td>0.100003</td>\n",
       "    </tr>\n",
       "    <tr>\n",
       "      <th>T03</th>\n",
       "      <td>41.583184</td>\n",
       "      <td>1.199789</td>\n",
       "      <td>15.099913</td>\n",
       "      <td>1.575694</td>\n",
       "      <td>11.099927</td>\n",
       "      <td>1.449557</td>\n",
       "      <td>4.895077</td>\n",
       "      <td>0.100030</td>\n",
       "      <td>45.355774</td>\n",
       "      <td>0.100003</td>\n",
       "      <td>...</td>\n",
       "      <td>0.100018</td>\n",
       "      <td>0.100032</td>\n",
       "      <td>0.100011</td>\n",
       "      <td>0.100000</td>\n",
       "      <td>0.100000</td>\n",
       "      <td>0.100000</td>\n",
       "      <td>0.100007</td>\n",
       "      <td>0.100014</td>\n",
       "      <td>0.100006</td>\n",
       "      <td>9.099977</td>\n",
       "    </tr>\n",
       "    <tr>\n",
       "      <th>T04</th>\n",
       "      <td>41.386809</td>\n",
       "      <td>0.100003</td>\n",
       "      <td>0.100003</td>\n",
       "      <td>0.100004</td>\n",
       "      <td>0.100018</td>\n",
       "      <td>0.100021</td>\n",
       "      <td>0.100028</td>\n",
       "      <td>1.149402</td>\n",
       "      <td>0.100065</td>\n",
       "      <td>15.599876</td>\n",
       "      <td>...</td>\n",
       "      <td>0.100019</td>\n",
       "      <td>0.100007</td>\n",
       "      <td>17.282079</td>\n",
       "      <td>0.100023</td>\n",
       "      <td>7.824350</td>\n",
       "      <td>0.100026</td>\n",
       "      <td>0.100005</td>\n",
       "      <td>0.100038</td>\n",
       "      <td>0.100012</td>\n",
       "      <td>0.100000</td>\n",
       "    </tr>\n",
       "    <tr>\n",
       "      <th>T05</th>\n",
       "      <td>0.100013</td>\n",
       "      <td>0.100017</td>\n",
       "      <td>0.100002</td>\n",
       "      <td>0.100001</td>\n",
       "      <td>0.100002</td>\n",
       "      <td>0.100005</td>\n",
       "      <td>0.100030</td>\n",
       "      <td>4.469535</td>\n",
       "      <td>0.100010</td>\n",
       "      <td>0.100006</td>\n",
       "      <td>...</td>\n",
       "      <td>0.100034</td>\n",
       "      <td>8.449640</td>\n",
       "      <td>0.100012</td>\n",
       "      <td>0.100002</td>\n",
       "      <td>0.100001</td>\n",
       "      <td>0.100009</td>\n",
       "      <td>0.100071</td>\n",
       "      <td>0.100041</td>\n",
       "      <td>0.100003</td>\n",
       "      <td>0.100000</td>\n",
       "    </tr>\n",
       "    <tr>\n",
       "      <th>T06</th>\n",
       "      <td>10.424932</td>\n",
       "      <td>0.100004</td>\n",
       "      <td>0.100032</td>\n",
       "      <td>13.624247</td>\n",
       "      <td>0.100007</td>\n",
       "      <td>0.100011</td>\n",
       "      <td>11.429448</td>\n",
       "      <td>0.100001</td>\n",
       "      <td>7.126472</td>\n",
       "      <td>0.100008</td>\n",
       "      <td>...</td>\n",
       "      <td>3.772740</td>\n",
       "      <td>0.100016</td>\n",
       "      <td>0.100007</td>\n",
       "      <td>0.100000</td>\n",
       "      <td>0.100000</td>\n",
       "      <td>0.100000</td>\n",
       "      <td>0.100010</td>\n",
       "      <td>21.501260</td>\n",
       "      <td>0.100012</td>\n",
       "      <td>0.100000</td>\n",
       "    </tr>\n",
       "    <tr>\n",
       "      <th>T07</th>\n",
       "      <td>15.316990</td>\n",
       "      <td>0.100009</td>\n",
       "      <td>0.100000</td>\n",
       "      <td>0.100001</td>\n",
       "      <td>0.100000</td>\n",
       "      <td>6.774782</td>\n",
       "      <td>11.247823</td>\n",
       "      <td>24.221679</td>\n",
       "      <td>0.100023</td>\n",
       "      <td>2.600027</td>\n",
       "      <td>...</td>\n",
       "      <td>2.011793</td>\n",
       "      <td>0.100001</td>\n",
       "      <td>142.115853</td>\n",
       "      <td>48.707540</td>\n",
       "      <td>2.375637</td>\n",
       "      <td>4.192962</td>\n",
       "      <td>0.100001</td>\n",
       "      <td>0.100026</td>\n",
       "      <td>0.100019</td>\n",
       "      <td>0.100000</td>\n",
       "    </tr>\n",
       "    <tr>\n",
       "      <th>T08</th>\n",
       "      <td>51.074040</td>\n",
       "      <td>12.000104</td>\n",
       "      <td>0.100000</td>\n",
       "      <td>0.100004</td>\n",
       "      <td>0.100007</td>\n",
       "      <td>0.100042</td>\n",
       "      <td>0.100024</td>\n",
       "      <td>0.100004</td>\n",
       "      <td>6.838186</td>\n",
       "      <td>0.100028</td>\n",
       "      <td>...</td>\n",
       "      <td>1.176695</td>\n",
       "      <td>0.100016</td>\n",
       "      <td>38.901985</td>\n",
       "      <td>1.492388</td>\n",
       "      <td>0.100007</td>\n",
       "      <td>5.006977</td>\n",
       "      <td>0.100001</td>\n",
       "      <td>3.922089</td>\n",
       "      <td>2.945622</td>\n",
       "      <td>0.100000</td>\n",
       "    </tr>\n",
       "    <tr>\n",
       "      <th>T09</th>\n",
       "      <td>0.100021</td>\n",
       "      <td>0.100007</td>\n",
       "      <td>0.100012</td>\n",
       "      <td>0.100000</td>\n",
       "      <td>0.100004</td>\n",
       "      <td>1.644719</td>\n",
       "      <td>0.100019</td>\n",
       "      <td>0.100003</td>\n",
       "      <td>0.100022</td>\n",
       "      <td>0.100016</td>\n",
       "      <td>...</td>\n",
       "      <td>0.100006</td>\n",
       "      <td>0.100000</td>\n",
       "      <td>0.100013</td>\n",
       "      <td>0.100025</td>\n",
       "      <td>0.100000</td>\n",
       "      <td>0.100005</td>\n",
       "      <td>0.100002</td>\n",
       "      <td>0.100047</td>\n",
       "      <td>0.100006</td>\n",
       "      <td>0.100013</td>\n",
       "    </tr>\n",
       "  </tbody>\n",
       "</table>\n",
       "<p>10 rows × 1000 columns</p>\n",
       "</div>"
      ],
      "text/plain": [
       "term_str       able  able tell  acceptable     action   activity     actual  \\\n",
       "topic_id                                                                      \n",
       "T00        2.770667   0.100006    0.100000   0.100000   0.100000   0.100016   \n",
       "T01        0.100028   0.100059    0.100021   0.100032   0.100020  16.530806   \n",
       "T02       12.143316   0.100001    0.100017   0.100016   0.100014   0.100040   \n",
       "T03       41.583184   1.199789   15.099913   1.575694  11.099927   1.449557   \n",
       "T04       41.386809   0.100003    0.100003   0.100004   0.100018   0.100021   \n",
       "T05        0.100013   0.100017    0.100002   0.100001   0.100002   0.100005   \n",
       "T06       10.424932   0.100004    0.100032  13.624247   0.100007   0.100011   \n",
       "T07       15.316990   0.100009    0.100000   0.100001   0.100000   6.774782   \n",
       "T08       51.074040  12.000104    0.100000   0.100004   0.100007   0.100042   \n",
       "T09        0.100021   0.100007    0.100012   0.100000   0.100004   1.644719   \n",
       "\n",
       "term_str        add  additional    address      agree  ...     worry  \\\n",
       "topic_id                                               ...             \n",
       "T00        0.100007    0.100001   0.100013   0.100010  ...  0.100011   \n",
       "T01        0.100039    0.100007   3.079406   0.100003  ...  5.438643   \n",
       "T02        6.827504    1.559339   0.100029   0.100023  ...  0.100042   \n",
       "T03        4.895077    0.100030  45.355774   0.100003  ...  0.100018   \n",
       "T04        0.100028    1.149402   0.100065  15.599876  ...  0.100019   \n",
       "T05        0.100030    4.469535   0.100010   0.100006  ...  0.100034   \n",
       "T06       11.429448    0.100001   7.126472   0.100008  ...  3.772740   \n",
       "T07       11.247823   24.221679   0.100023   2.600027  ...  2.011793   \n",
       "T08        0.100024    0.100004   6.838186   0.100028  ...  1.176695   \n",
       "T09        0.100019    0.100003   0.100022   0.100016  ...  0.100006   \n",
       "\n",
       "term_str     write       wrong  wrong answer  wrong answers  wrong text  \\\n",
       "topic_id                                                                  \n",
       "T00       0.100000    0.100014      0.100019       0.100000    0.100016   \n",
       "T01       5.750281    0.100007      0.100001       0.100001    0.100001   \n",
       "T02       0.100006    0.100020      0.100003       0.100004    0.100004   \n",
       "T03       0.100032    0.100011      0.100000       0.100000    0.100000   \n",
       "T04       0.100007   17.282079      0.100023       7.824350    0.100026   \n",
       "T05       8.449640    0.100012      0.100002       0.100001    0.100009   \n",
       "T06       0.100016    0.100007      0.100000       0.100000    0.100000   \n",
       "T07       0.100001  142.115853     48.707540       2.375637    4.192962   \n",
       "T08       0.100016   38.901985      1.492388       0.100007    5.006977   \n",
       "T09       0.100000    0.100013      0.100025       0.100000    0.100005   \n",
       "\n",
       "term_str       year        yep        yes      zero  \n",
       "topic_id                                             \n",
       "T00        0.100000   2.099988   0.100005  0.100000  \n",
       "T01        1.361243   0.100001   0.100004  0.100007  \n",
       "T02       15.838661   1.876496  18.254311  0.100003  \n",
       "T03        0.100007   0.100014   0.100006  9.099977  \n",
       "T04        0.100005   0.100038   0.100012  0.100000  \n",
       "T05        0.100071   0.100041   0.100003  0.100000  \n",
       "T06        0.100010  21.501260   0.100012  0.100000  \n",
       "T07        0.100001   0.100026   0.100019  0.100000  \n",
       "T08        0.100001   3.922089   2.945622  0.100000  \n",
       "T09        0.100002   0.100047   0.100006  0.100013  \n",
       "\n",
       "[10 rows x 1000 columns]"
      ]
     },
     "execution_count": 141,
     "metadata": {},
     "output_type": "execute_result"
    }
   ],
   "source": [
    "PHI"
   ]
  },
  {
   "cell_type": "code",
   "execution_count": 142,
   "metadata": {},
   "outputs": [],
   "source": [
    "TOPICS['doc_weight_sum'] = THETA.sum()\n",
    "TOPICS['term_freq'] = PHI.sum(1) / PHI.sum(1).sum()"
   ]
  },
  {
   "cell_type": "code",
   "execution_count": 143,
   "metadata": {},
   "outputs": [
    {
     "data": {
      "text/html": [
       "<div>\n",
       "<style scoped>\n",
       "    .dataframe tbody tr th:only-of-type {\n",
       "        vertical-align: middle;\n",
       "    }\n",
       "\n",
       "    .dataframe tbody tr th {\n",
       "        vertical-align: top;\n",
       "    }\n",
       "\n",
       "    .dataframe thead th {\n",
       "        text-align: right;\n",
       "    }\n",
       "</style>\n",
       "<table border=\"1\" class=\"dataframe\">\n",
       "  <thead>\n",
       "    <tr style=\"text-align: right;\">\n",
       "      <th>term_str</th>\n",
       "      <th>0</th>\n",
       "      <th>1</th>\n",
       "      <th>2</th>\n",
       "      <th>3</th>\n",
       "      <th>4</th>\n",
       "      <th>5</th>\n",
       "      <th>6</th>\n",
       "      <th>7</th>\n",
       "      <th>8</th>\n",
       "      <th>label</th>\n",
       "      <th>doc_weight_sum</th>\n",
       "      <th>term_freq</th>\n",
       "    </tr>\n",
       "    <tr>\n",
       "      <th>topic_id</th>\n",
       "      <th></th>\n",
       "      <th></th>\n",
       "      <th></th>\n",
       "      <th></th>\n",
       "      <th></th>\n",
       "      <th></th>\n",
       "      <th></th>\n",
       "      <th></th>\n",
       "      <th></th>\n",
       "      <th></th>\n",
       "      <th></th>\n",
       "      <th></th>\n",
       "    </tr>\n",
       "  </thead>\n",
       "  <tbody>\n",
       "    <tr>\n",
       "      <th>T00</th>\n",
       "      <td>detector</td>\n",
       "      <td>lie</td>\n",
       "      <td>lie detector</td>\n",
       "      <td>results</td>\n",
       "      <td>detector results</td>\n",
       "      <td>feel</td>\n",
       "      <td>think</td>\n",
       "      <td>good</td>\n",
       "      <td>likely</td>\n",
       "      <td>T00 detector, lie, lie detector, results, dete...</td>\n",
       "      <td>273.710248</td>\n",
       "      <td>0.045935</td>\n",
       "    </tr>\n",
       "    <tr>\n",
       "      <th>T01</th>\n",
       "      <td>classroom</td>\n",
       "      <td>norms</td>\n",
       "      <td>class</td>\n",
       "      <td>let</td>\n",
       "      <td>classroom norms</td>\n",
       "      <td>time</td>\n",
       "      <td>norm</td>\n",
       "      <td>talk</td>\n",
       "      <td>stop</td>\n",
       "      <td>T01 classroom, norms, class, let, classroom no...</td>\n",
       "      <td>382.954835</td>\n",
       "      <td>0.081370</td>\n",
       "    </tr>\n",
       "    <tr>\n",
       "      <th>T02</th>\n",
       "      <td>kind</td>\n",
       "      <td>little</td>\n",
       "      <td>like</td>\n",
       "      <td>bit</td>\n",
       "      <td>little bit</td>\n",
       "      <td>know</td>\n",
       "      <td>thing</td>\n",
       "      <td>um</td>\n",
       "      <td>lot</td>\n",
       "      <td>T02 kind, little, like, bit, little bit, know,...</td>\n",
       "      <td>462.697726</td>\n",
       "      <td>0.106244</td>\n",
       "    </tr>\n",
       "    <tr>\n",
       "      <th>T03</th>\n",
       "      <td>specific</td>\n",
       "      <td>behavior</td>\n",
       "      <td>stop</td>\n",
       "      <td>redirection</td>\n",
       "      <td>student</td>\n",
       "      <td>students</td>\n",
       "      <td>way</td>\n",
       "      <td>behaviors</td>\n",
       "      <td>time</td>\n",
       "      <td>T03 specific, behavior, stop, redirection, stu...</td>\n",
       "      <td>453.470317</td>\n",
       "      <td>0.181161</td>\n",
       "    </tr>\n",
       "    <tr>\n",
       "      <th>T04</th>\n",
       "      <td>students</td>\n",
       "      <td>sure</td>\n",
       "      <td>make</td>\n",
       "      <td>questions</td>\n",
       "      <td>make sure</td>\n",
       "      <td>text</td>\n",
       "      <td>calm</td>\n",
       "      <td>kind</td>\n",
       "      <td>think</td>\n",
       "      <td>T04 students, sure, make, questions, make sure...</td>\n",
       "      <td>295.634128</td>\n",
       "      <td>0.093861</td>\n",
       "    </tr>\n",
       "    <tr>\n",
       "      <th>T05</th>\n",
       "      <td>simulation</td>\n",
       "      <td>great</td>\n",
       "      <td>right</td>\n",
       "      <td>try</td>\n",
       "      <td>job</td>\n",
       "      <td>round</td>\n",
       "      <td>questions</td>\n",
       "      <td>ready</td>\n",
       "      <td>time</td>\n",
       "      <td>T05 simulation, great, right, try, job, round,...</td>\n",
       "      <td>388.448932</td>\n",
       "      <td>0.059918</td>\n",
       "    </tr>\n",
       "    <tr>\n",
       "      <th>T06</th>\n",
       "      <td>stop</td>\n",
       "      <td>say</td>\n",
       "      <td>time</td>\n",
       "      <td>attention</td>\n",
       "      <td>book</td>\n",
       "      <td>student</td>\n",
       "      <td>try</td>\n",
       "      <td>classroom</td>\n",
       "      <td>let</td>\n",
       "      <td>T06 stop, say, time, attention, book, student,...</td>\n",
       "      <td>357.006222</td>\n",
       "      <td>0.074559</td>\n",
       "    </tr>\n",
       "    <tr>\n",
       "      <th>T07</th>\n",
       "      <td>evidence</td>\n",
       "      <td>text</td>\n",
       "      <td>answer</td>\n",
       "      <td>text evidence</td>\n",
       "      <td>students</td>\n",
       "      <td>textual</td>\n",
       "      <td>textual evidence</td>\n",
       "      <td>tell</td>\n",
       "      <td>job</td>\n",
       "      <td>T07 evidence, text, answer, text evidence, stu...</td>\n",
       "      <td>366.675085</td>\n",
       "      <td>0.166501</td>\n",
       "    </tr>\n",
       "    <tr>\n",
       "      <th>T08</th>\n",
       "      <td>student</td>\n",
       "      <td>paragraph</td>\n",
       "      <td>text</td>\n",
       "      <td>say</td>\n",
       "      <td>intern</td>\n",
       "      <td>look</td>\n",
       "      <td>student intern</td>\n",
       "      <td>right</td>\n",
       "      <td>read</td>\n",
       "      <td>T08 student, paragraph, text, say, intern, loo...</td>\n",
       "      <td>390.025732</td>\n",
       "      <td>0.139003</td>\n",
       "    </tr>\n",
       "    <tr>\n",
       "      <th>T09</th>\n",
       "      <td>question</td>\n",
       "      <td>nervous</td>\n",
       "      <td>heart</td>\n",
       "      <td>ask</td>\n",
       "      <td>practice</td>\n",
       "      <td>student</td>\n",
       "      <td>let</td>\n",
       "      <td>sorry</td>\n",
       "      <td>paragraph</td>\n",
       "      <td>T09 question, nervous, heart, ask, practice, s...</td>\n",
       "      <td>323.376777</td>\n",
       "      <td>0.051449</td>\n",
       "    </tr>\n",
       "  </tbody>\n",
       "</table>\n",
       "</div>"
      ],
      "text/plain": [
       "term_str           0          1             2              3  \\\n",
       "topic_id                                                       \n",
       "T00         detector        lie  lie detector        results   \n",
       "T01        classroom      norms         class            let   \n",
       "T02             kind     little          like            bit   \n",
       "T03         specific   behavior          stop    redirection   \n",
       "T04         students       sure          make      questions   \n",
       "T05       simulation      great         right            try   \n",
       "T06             stop        say          time      attention   \n",
       "T07         evidence       text        answer  text evidence   \n",
       "T08          student  paragraph          text            say   \n",
       "T09         question    nervous         heart            ask   \n",
       "\n",
       "term_str                 4         5                 6          7          8  \\\n",
       "topic_id                                                                       \n",
       "T00       detector results      feel             think       good     likely   \n",
       "T01        classroom norms      time              norm       talk       stop   \n",
       "T02             little bit      know             thing         um        lot   \n",
       "T03                student  students               way  behaviors       time   \n",
       "T04              make sure      text              calm       kind      think   \n",
       "T05                    job     round         questions      ready       time   \n",
       "T06                   book   student               try  classroom        let   \n",
       "T07               students   textual  textual evidence       tell        job   \n",
       "T08                 intern      look    student intern      right       read   \n",
       "T09               practice   student               let      sorry  paragraph   \n",
       "\n",
       "term_str                                              label  doc_weight_sum  \\\n",
       "topic_id                                                                      \n",
       "T00       T00 detector, lie, lie detector, results, dete...      273.710248   \n",
       "T01       T01 classroom, norms, class, let, classroom no...      382.954835   \n",
       "T02       T02 kind, little, like, bit, little bit, know,...      462.697726   \n",
       "T03       T03 specific, behavior, stop, redirection, stu...      453.470317   \n",
       "T04       T04 students, sure, make, questions, make sure...      295.634128   \n",
       "T05       T05 simulation, great, right, try, job, round,...      388.448932   \n",
       "T06       T06 stop, say, time, attention, book, student,...      357.006222   \n",
       "T07       T07 evidence, text, answer, text evidence, stu...      366.675085   \n",
       "T08       T08 student, paragraph, text, say, intern, loo...      390.025732   \n",
       "T09       T09 question, nervous, heart, ask, practice, s...      323.376777   \n",
       "\n",
       "term_str  term_freq  \n",
       "topic_id             \n",
       "T00        0.045935  \n",
       "T01        0.081370  \n",
       "T02        0.106244  \n",
       "T03        0.181161  \n",
       "T04        0.093861  \n",
       "T05        0.059918  \n",
       "T06        0.074559  \n",
       "T07        0.166501  \n",
       "T08        0.139003  \n",
       "T09        0.051449  "
      ]
     },
     "execution_count": 143,
     "metadata": {},
     "output_type": "execute_result"
    }
   ],
   "source": [
    "TOPICS"
   ]
  },
  {
   "cell_type": "markdown",
   "metadata": {},
   "source": [
    "### Interpretation:\n",
    "The document weight sum provides an overall distribution of topics within the entire corpus. Aftering sorting topics by their document weight sum, according to the table, we observe that T02 topic, which has the largest document weight and indicates its dominancy in the corpus, includes words such as \"kind, little, like, bit, little bit, know, thing, um, lot\". Within the context of conversations between coaches and preservice teachers, this topic appears to center around expressions frequently employed by preservice teachers to temper their statements, conveying a sense of uncertainty and hesitation.\n",
    "\n",
    "Meanwhile, the T03 predominantly concerns student off-task behaviors and preservice teachers' redirection efforts. In contrast, the T04 appears to be more closely related to conversations within the realm of text-based discussions.\n"
   ]
  },
  {
   "cell_type": "code",
   "execution_count": 144,
   "metadata": {},
   "outputs": [
    {
     "name": "stdout",
     "output_type": "stream",
     "text": [
      "Figure 3. Document weight sum by each topic\n"
     ]
    },
    {
     "data": {
      "image/png": "[encoded data removed]",
      "text/plain": [
       "<Figure size 360x360 with 1 Axes>"
      ]
     },
     "metadata": {
      "needs_background": "light"
     },
     "output_type": "display_data"
    }
   ],
   "source": [
    "print(\"Figure 3. Document weight sum by each topic\")\n",
    "TOPICS.sort_values('doc_weight_sum', ascending=True).plot.barh(y='doc_weight_sum', x='label', figsize=(5, n_topics/2));"
   ]
  },
  {
   "cell_type": "code",
   "execution_count": 145,
   "metadata": {
    "tags": []
   },
   "outputs": [
    {
     "data": {
      "image/png": "[encoded data removed]",
      "text/plain": [
       "<Figure size 360x360 with 1 Axes>"
      ]
     },
     "metadata": {
      "needs_background": "light"
     },
     "output_type": "display_data"
    }
   ],
   "source": [
    "TOPICS.sort_values('term_freq', ascending=True).plot.barh(y='term_freq', x='label', figsize=(5,n_topics/2));"
   ]
  },
  {
   "cell_type": "code",
   "execution_count": 146,
   "metadata": {},
   "outputs": [
    {
     "data": {
      "image/png": "[encoded data removed]",
      "text/plain": [
       "<Figure size 432x288 with 1 Axes>"
      ]
     },
     "metadata": {
      "needs_background": "light"
     },
     "output_type": "display_data"
    }
   ],
   "source": [
    "TOPICS.plot.scatter('doc_weight_sum', 'term_freq');"
   ]
  },
  {
   "cell_type": "markdown",
   "metadata": {},
   "source": [
    "# Explore Topics by Site and Scenario"
   ]
  },
  {
   "cell_type": "markdown",
   "metadata": {},
   "source": [
    "Use the LIB table to get information"
   ]
  },
  {
   "cell_type": "code",
   "execution_count": 147,
   "metadata": {},
   "outputs": [],
   "source": [
    "LIB = pd.read_csv(f'/Users/poppy/Documents/TeachSim Project/Robertson_Semantic/Data/output/LIB.csv').set_index('document_id')"
   ]
  },
  {
   "cell_type": "markdown",
   "metadata": {},
   "source": [
    "Add mean topic weight for each topic by author."
   ]
  },
  {
   "cell_type": "code",
   "execution_count": 148,
   "metadata": {},
   "outputs": [],
   "source": [
    "sites = sorted(LIB.site_id.value_counts().index.to_list())"
   ]
  },
  {
   "cell_type": "code",
   "execution_count": 149,
   "metadata": {},
   "outputs": [],
   "source": [
    "scenarios = sorted(LIB.scenario_id.value_counts().index.to_list())"
   ]
  },
  {
   "cell_type": "code",
   "execution_count": 150,
   "metadata": {},
   "outputs": [],
   "source": [
    "# THETA.join(LIB, on='book_id')\\\n",
    "#     .groupby('author_key')[TNAMES].mean()\\\n",
    "#     .T"
   ]
  },
  {
   "cell_type": "code",
   "execution_count": 151,
   "metadata": {},
   "outputs": [],
   "source": [
    "TOPICS[sites] = THETA.join(LIB, on='document_id').groupby('site_id')[TNAMES].mean().T"
   ]
  },
  {
   "cell_type": "code",
   "execution_count": 152,
   "metadata": {},
   "outputs": [],
   "source": [
    "TOPICS[scenarios] = THETA.join(LIB, on='document_id').groupby('scenario_id')[TNAMES].mean().T"
   ]
  },
  {
   "cell_type": "code",
   "execution_count": 153,
   "metadata": {},
   "outputs": [
    {
     "data": {
      "text/html": [
       "<div>\n",
       "<style scoped>\n",
       "    .dataframe tbody tr th:only-of-type {\n",
       "        vertical-align: middle;\n",
       "    }\n",
       "\n",
       "    .dataframe tbody tr th {\n",
       "        vertical-align: top;\n",
       "    }\n",
       "\n",
       "    .dataframe thead th {\n",
       "        text-align: right;\n",
       "    }\n",
       "</style>\n",
       "<table border=\"1\" class=\"dataframe\">\n",
       "  <thead>\n",
       "    <tr style=\"text-align: right;\">\n",
       "      <th>term_str</th>\n",
       "      <th>0</th>\n",
       "      <th>1</th>\n",
       "      <th>2</th>\n",
       "      <th>3</th>\n",
       "      <th>4</th>\n",
       "      <th>5</th>\n",
       "      <th>6</th>\n",
       "      <th>7</th>\n",
       "      <th>8</th>\n",
       "      <th>label</th>\n",
       "      <th>doc_weight_sum</th>\n",
       "      <th>term_freq</th>\n",
       "      <th>RGV</th>\n",
       "      <th>SMU</th>\n",
       "      <th>UVA</th>\n",
       "      <th>CN</th>\n",
       "      <th>QF</th>\n",
       "    </tr>\n",
       "    <tr>\n",
       "      <th>topic_id</th>\n",
       "      <th></th>\n",
       "      <th></th>\n",
       "      <th></th>\n",
       "      <th></th>\n",
       "      <th></th>\n",
       "      <th></th>\n",
       "      <th></th>\n",
       "      <th></th>\n",
       "      <th></th>\n",
       "      <th></th>\n",
       "      <th></th>\n",
       "      <th></th>\n",
       "      <th></th>\n",
       "      <th></th>\n",
       "      <th></th>\n",
       "      <th></th>\n",
       "      <th></th>\n",
       "    </tr>\n",
       "  </thead>\n",
       "  <tbody>\n",
       "    <tr>\n",
       "      <th>T00</th>\n",
       "      <td>detector</td>\n",
       "      <td>lie</td>\n",
       "      <td>lie detector</td>\n",
       "      <td>results</td>\n",
       "      <td>detector results</td>\n",
       "      <td>feel</td>\n",
       "      <td>think</td>\n",
       "      <td>good</td>\n",
       "      <td>likely</td>\n",
       "      <td>T00 detector, lie, lie detector, results, dete...</td>\n",
       "      <td>273.710248</td>\n",
       "      <td>0.045935</td>\n",
       "      <td>0.071752</td>\n",
       "      <td>0.063316</td>\n",
       "      <td>0.089357</td>\n",
       "      <td>0.045820</td>\n",
       "      <td>0.103978</td>\n",
       "    </tr>\n",
       "    <tr>\n",
       "      <th>T01</th>\n",
       "      <td>classroom</td>\n",
       "      <td>norms</td>\n",
       "      <td>class</td>\n",
       "      <td>let</td>\n",
       "      <td>classroom norms</td>\n",
       "      <td>time</td>\n",
       "      <td>norm</td>\n",
       "      <td>talk</td>\n",
       "      <td>stop</td>\n",
       "      <td>T01 classroom, norms, class, let, classroom no...</td>\n",
       "      <td>382.954835</td>\n",
       "      <td>0.081370</td>\n",
       "      <td>0.095437</td>\n",
       "      <td>0.119613</td>\n",
       "      <td>0.096982</td>\n",
       "      <td>0.161372</td>\n",
       "      <td>0.042690</td>\n",
       "    </tr>\n",
       "    <tr>\n",
       "      <th>T02</th>\n",
       "      <td>kind</td>\n",
       "      <td>little</td>\n",
       "      <td>like</td>\n",
       "      <td>bit</td>\n",
       "      <td>little bit</td>\n",
       "      <td>know</td>\n",
       "      <td>thing</td>\n",
       "      <td>um</td>\n",
       "      <td>lot</td>\n",
       "      <td>T02 kind, little, like, bit, little bit, know,...</td>\n",
       "      <td>462.697726</td>\n",
       "      <td>0.106244</td>\n",
       "      <td>0.105413</td>\n",
       "      <td>0.154922</td>\n",
       "      <td>0.118960</td>\n",
       "      <td>0.135887</td>\n",
       "      <td>0.114022</td>\n",
       "    </tr>\n",
       "    <tr>\n",
       "      <th>T03</th>\n",
       "      <td>specific</td>\n",
       "      <td>behavior</td>\n",
       "      <td>stop</td>\n",
       "      <td>redirection</td>\n",
       "      <td>student</td>\n",
       "      <td>students</td>\n",
       "      <td>way</td>\n",
       "      <td>behaviors</td>\n",
       "      <td>time</td>\n",
       "      <td>T03 specific, behavior, stop, redirection, stu...</td>\n",
       "      <td>453.470317</td>\n",
       "      <td>0.181161</td>\n",
       "      <td>0.102738</td>\n",
       "      <td>0.144769</td>\n",
       "      <td>0.125280</td>\n",
       "      <td>0.209762</td>\n",
       "      <td>0.030814</td>\n",
       "    </tr>\n",
       "    <tr>\n",
       "      <th>T04</th>\n",
       "      <td>students</td>\n",
       "      <td>sure</td>\n",
       "      <td>make</td>\n",
       "      <td>questions</td>\n",
       "      <td>make sure</td>\n",
       "      <td>text</td>\n",
       "      <td>calm</td>\n",
       "      <td>kind</td>\n",
       "      <td>think</td>\n",
       "      <td>T04 students, sure, make, questions, make sure...</td>\n",
       "      <td>295.634128</td>\n",
       "      <td>0.093861</td>\n",
       "      <td>0.092210</td>\n",
       "      <td>0.068314</td>\n",
       "      <td>0.076623</td>\n",
       "      <td>0.055867</td>\n",
       "      <td>0.105567</td>\n",
       "    </tr>\n",
       "    <tr>\n",
       "      <th>T05</th>\n",
       "      <td>simulation</td>\n",
       "      <td>great</td>\n",
       "      <td>right</td>\n",
       "      <td>try</td>\n",
       "      <td>job</td>\n",
       "      <td>round</td>\n",
       "      <td>questions</td>\n",
       "      <td>ready</td>\n",
       "      <td>time</td>\n",
       "      <td>T05 simulation, great, right, try, job, round,...</td>\n",
       "      <td>388.448932</td>\n",
       "      <td>0.059918</td>\n",
       "      <td>0.104231</td>\n",
       "      <td>0.106084</td>\n",
       "      <td>0.105374</td>\n",
       "      <td>0.113566</td>\n",
       "      <td>0.096270</td>\n",
       "    </tr>\n",
       "    <tr>\n",
       "      <th>T06</th>\n",
       "      <td>stop</td>\n",
       "      <td>say</td>\n",
       "      <td>time</td>\n",
       "      <td>attention</td>\n",
       "      <td>book</td>\n",
       "      <td>student</td>\n",
       "      <td>try</td>\n",
       "      <td>classroom</td>\n",
       "      <td>let</td>\n",
       "      <td>T06 stop, say, time, attention, book, student,...</td>\n",
       "      <td>357.006222</td>\n",
       "      <td>0.074559</td>\n",
       "      <td>0.119412</td>\n",
       "      <td>0.070967</td>\n",
       "      <td>0.094503</td>\n",
       "      <td>0.151942</td>\n",
       "      <td>0.038207</td>\n",
       "    </tr>\n",
       "    <tr>\n",
       "      <th>T07</th>\n",
       "      <td>evidence</td>\n",
       "      <td>text</td>\n",
       "      <td>answer</td>\n",
       "      <td>text evidence</td>\n",
       "      <td>students</td>\n",
       "      <td>textual</td>\n",
       "      <td>textual evidence</td>\n",
       "      <td>tell</td>\n",
       "      <td>job</td>\n",
       "      <td>T07 evidence, text, answer, text evidence, stu...</td>\n",
       "      <td>366.675085</td>\n",
       "      <td>0.166501</td>\n",
       "      <td>0.098586</td>\n",
       "      <td>0.083255</td>\n",
       "      <td>0.118117</td>\n",
       "      <td>0.034087</td>\n",
       "      <td>0.168139</td>\n",
       "    </tr>\n",
       "    <tr>\n",
       "      <th>T08</th>\n",
       "      <td>student</td>\n",
       "      <td>paragraph</td>\n",
       "      <td>text</td>\n",
       "      <td>say</td>\n",
       "      <td>intern</td>\n",
       "      <td>look</td>\n",
       "      <td>student intern</td>\n",
       "      <td>right</td>\n",
       "      <td>read</td>\n",
       "      <td>T08 student, paragraph, text, say, intern, loo...</td>\n",
       "      <td>390.025732</td>\n",
       "      <td>0.139003</td>\n",
       "      <td>0.123649</td>\n",
       "      <td>0.097295</td>\n",
       "      <td>0.090342</td>\n",
       "      <td>0.036566</td>\n",
       "      <td>0.178521</td>\n",
       "    </tr>\n",
       "    <tr>\n",
       "      <th>T09</th>\n",
       "      <td>question</td>\n",
       "      <td>nervous</td>\n",
       "      <td>heart</td>\n",
       "      <td>ask</td>\n",
       "      <td>practice</td>\n",
       "      <td>student</td>\n",
       "      <td>let</td>\n",
       "      <td>sorry</td>\n",
       "      <td>paragraph</td>\n",
       "      <td>T09 question, nervous, heart, ask, practice, s...</td>\n",
       "      <td>323.376777</td>\n",
       "      <td>0.051449</td>\n",
       "      <td>0.086571</td>\n",
       "      <td>0.091465</td>\n",
       "      <td>0.084461</td>\n",
       "      <td>0.055132</td>\n",
       "      <td>0.121791</td>\n",
       "    </tr>\n",
       "  </tbody>\n",
       "</table>\n",
       "</div>"
      ],
      "text/plain": [
       "term_str           0          1             2              3  \\\n",
       "topic_id                                                       \n",
       "T00         detector        lie  lie detector        results   \n",
       "T01        classroom      norms         class            let   \n",
       "T02             kind     little          like            bit   \n",
       "T03         specific   behavior          stop    redirection   \n",
       "T04         students       sure          make      questions   \n",
       "T05       simulation      great         right            try   \n",
       "T06             stop        say          time      attention   \n",
       "T07         evidence       text        answer  text evidence   \n",
       "T08          student  paragraph          text            say   \n",
       "T09         question    nervous         heart            ask   \n",
       "\n",
       "term_str                 4         5                 6          7          8  \\\n",
       "topic_id                                                                       \n",
       "T00       detector results      feel             think       good     likely   \n",
       "T01        classroom norms      time              norm       talk       stop   \n",
       "T02             little bit      know             thing         um        lot   \n",
       "T03                student  students               way  behaviors       time   \n",
       "T04              make sure      text              calm       kind      think   \n",
       "T05                    job     round         questions      ready       time   \n",
       "T06                   book   student               try  classroom        let   \n",
       "T07               students   textual  textual evidence       tell        job   \n",
       "T08                 intern      look    student intern      right       read   \n",
       "T09               practice   student               let      sorry  paragraph   \n",
       "\n",
       "term_str                                              label  doc_weight_sum  \\\n",
       "topic_id                                                                      \n",
       "T00       T00 detector, lie, lie detector, results, dete...      273.710248   \n",
       "T01       T01 classroom, norms, class, let, classroom no...      382.954835   \n",
       "T02       T02 kind, little, like, bit, little bit, know,...      462.697726   \n",
       "T03       T03 specific, behavior, stop, redirection, stu...      453.470317   \n",
       "T04       T04 students, sure, make, questions, make sure...      295.634128   \n",
       "T05       T05 simulation, great, right, try, job, round,...      388.448932   \n",
       "T06       T06 stop, say, time, attention, book, student,...      357.006222   \n",
       "T07       T07 evidence, text, answer, text evidence, stu...      366.675085   \n",
       "T08       T08 student, paragraph, text, say, intern, loo...      390.025732   \n",
       "T09       T09 question, nervous, heart, ask, practice, s...      323.376777   \n",
       "\n",
       "term_str  term_freq       RGV       SMU       UVA        CN        QF  \n",
       "topic_id                                                               \n",
       "T00        0.045935  0.071752  0.063316  0.089357  0.045820  0.103978  \n",
       "T01        0.081370  0.095437  0.119613  0.096982  0.161372  0.042690  \n",
       "T02        0.106244  0.105413  0.154922  0.118960  0.135887  0.114022  \n",
       "T03        0.181161  0.102738  0.144769  0.125280  0.209762  0.030814  \n",
       "T04        0.093861  0.092210  0.068314  0.076623  0.055867  0.105567  \n",
       "T05        0.059918  0.104231  0.106084  0.105374  0.113566  0.096270  \n",
       "T06        0.074559  0.119412  0.070967  0.094503  0.151942  0.038207  \n",
       "T07        0.166501  0.098586  0.083255  0.118117  0.034087  0.168139  \n",
       "T08        0.139003  0.123649  0.097295  0.090342  0.036566  0.178521  \n",
       "T09        0.051449  0.086571  0.091465  0.084461  0.055132  0.121791  "
      ]
     },
     "execution_count": 153,
     "metadata": {},
     "output_type": "execute_result"
    }
   ],
   "source": [
    "TOPICS"
   ]
  },
  {
   "cell_type": "markdown",
   "metadata": {},
   "source": [
    "View by topic order."
   ]
  },
  {
   "cell_type": "markdown",
   "metadata": {},
   "source": [
    "### Interpretation:\n",
    "Interestingly, the T02 topic (conveying uncertainty and hesitation) and T03 topic (re-directing off-task behaviors) seems to be more prevalent in SMU site, compared to RGV and UVA.\n",
    "\n",
    "Overall, T08 and T06 topics are more prevalent in RGV site, where T08 seems to suggest that teachers may use various techniques, such as asking students to stop their off-task behaviors, redirecting their attention, and encouraging them to try different activities or focus on their books. Additionally, the words \"classroom\" and \"student\" emphasize that these conversations are centered on managing the classroom environment and addressing individual student behaviors.\n",
    "\n",
    "T07 seems to be the most prevalent in UVA site, which suggests that teachers are emphasizing the importance of finding evidence from texts to support students' answers and arguments. Additionally, words such as \"tell\" and \"job\" imply that teachers may provide feedback or guidance to students, helping them improve their skills in extracting and utilizing textual evidence effectively. Overall, this topic reflects the instructional focus on promoting students' comprehension and critical thinking abilities by engaging them with text-based tasks and providing high-quality feedback."
   ]
  },
  {
   "cell_type": "code",
   "execution_count": 157,
   "metadata": {},
   "outputs": [
    {
     "name": "stdout",
     "output_type": "stream",
     "text": [
      "Figure 4. Document weight on topics across sites\n"
     ]
    },
    {
     "data": {
      "text/html": [
       "<style type=\"text/css\">\n",
       "#T_65a6b_row0_col0 {\n",
       "  background-color: #f2fabc;\n",
       "  color: #000000;\n",
       "}\n",
       "#T_65a6b_row0_col1 {\n",
       "  background-color: #ffffd9;\n",
       "  color: #000000;\n",
       "}\n",
       "#T_65a6b_row0_col2 {\n",
       "  background-color: #b4e2b6;\n",
       "  color: #000000;\n",
       "}\n",
       "#T_65a6b_row1_col0 {\n",
       "  background-color: #8ed3ba;\n",
       "  color: #000000;\n",
       "}\n",
       "#T_65a6b_row1_col1 {\n",
       "  background-color: #2094c0;\n",
       "  color: #f1f1f1;\n",
       "}\n",
       "#T_65a6b_row1_col2, #T_65a6b_row8_col1 {\n",
       "  background-color: #83cebb;\n",
       "  color: #000000;\n",
       "}\n",
       "#T_65a6b_row2_col0, #T_65a6b_row5_col2 {\n",
       "  background-color: #55bec1;\n",
       "  color: #000000;\n",
       "}\n",
       "#T_65a6b_row2_col1 {\n",
       "  background-color: #081d58;\n",
       "  color: #f1f1f1;\n",
       "}\n",
       "#T_65a6b_row2_col2 {\n",
       "  background-color: #2296c1;\n",
       "  color: #f1f1f1;\n",
       "}\n",
       "#T_65a6b_row3_col0 {\n",
       "  background-color: #63c3bf;\n",
       "  color: #000000;\n",
       "}\n",
       "#T_65a6b_row3_col1 {\n",
       "  background-color: #21318d;\n",
       "  color: #f1f1f1;\n",
       "}\n",
       "#T_65a6b_row3_col2 {\n",
       "  background-color: #1f7bb6;\n",
       "  color: #f1f1f1;\n",
       "}\n",
       "#T_65a6b_row4_col0 {\n",
       "  background-color: #a2dbb8;\n",
       "  color: #000000;\n",
       "}\n",
       "#T_65a6b_row4_col1 {\n",
       "  background-color: #f8fcc9;\n",
       "  color: #000000;\n",
       "}\n",
       "#T_65a6b_row4_col2 {\n",
       "  background-color: #e7f6b1;\n",
       "  color: #000000;\n",
       "}\n",
       "#T_65a6b_row5_col0 {\n",
       "  background-color: #5bc0c0;\n",
       "  color: #000000;\n",
       "}\n",
       "#T_65a6b_row5_col1 {\n",
       "  background-color: #52bcc2;\n",
       "  color: #000000;\n",
       "}\n",
       "#T_65a6b_row6_col0 {\n",
       "  background-color: #2195c0;\n",
       "  color: #f1f1f1;\n",
       "}\n",
       "#T_65a6b_row6_col1 {\n",
       "  background-color: #f3fabf;\n",
       "  color: #000000;\n",
       "}\n",
       "#T_65a6b_row6_col2 {\n",
       "  background-color: #92d5b9;\n",
       "  color: #000000;\n",
       "}\n",
       "#T_65a6b_row7_col0 {\n",
       "  background-color: #7acbbc;\n",
       "  color: #000000;\n",
       "}\n",
       "#T_65a6b_row7_col1 {\n",
       "  background-color: #d1edb3;\n",
       "  color: #000000;\n",
       "}\n",
       "#T_65a6b_row7_col2 {\n",
       "  background-color: #2498c1;\n",
       "  color: #f1f1f1;\n",
       "}\n",
       "#T_65a6b_row8_col0 {\n",
       "  background-color: #1e83ba;\n",
       "  color: #f1f1f1;\n",
       "}\n",
       "#T_65a6b_row8_col2 {\n",
       "  background-color: #aedfb6;\n",
       "  color: #000000;\n",
       "}\n",
       "#T_65a6b_row9_col0 {\n",
       "  background-color: #c6e9b4;\n",
       "  color: #000000;\n",
       "}\n",
       "#T_65a6b_row9_col1 {\n",
       "  background-color: #a7dcb7;\n",
       "  color: #000000;\n",
       "}\n",
       "#T_65a6b_row9_col2 {\n",
       "  background-color: #cdebb4;\n",
       "  color: #000000;\n",
       "}\n",
       "</style>\n",
       "<table id=\"T_65a6b\">\n",
       "  <thead>\n",
       "    <tr>\n",
       "      <th class=\"index_name level0\" >term_str</th>\n",
       "      <th id=\"T_65a6b_level0_col0\" class=\"col_heading level0 col0\" >RGV</th>\n",
       "      <th id=\"T_65a6b_level0_col1\" class=\"col_heading level0 col1\" >SMU</th>\n",
       "      <th id=\"T_65a6b_level0_col2\" class=\"col_heading level0 col2\" >UVA</th>\n",
       "      <th id=\"T_65a6b_level0_col3\" class=\"col_heading level0 col3\" >label</th>\n",
       "    </tr>\n",
       "    <tr>\n",
       "      <th class=\"index_name level0\" >topic_id</th>\n",
       "      <th class=\"blank col0\" >&nbsp;</th>\n",
       "      <th class=\"blank col1\" >&nbsp;</th>\n",
       "      <th class=\"blank col2\" >&nbsp;</th>\n",
       "      <th class=\"blank col3\" >&nbsp;</th>\n",
       "    </tr>\n",
       "  </thead>\n",
       "  <tbody>\n",
       "    <tr>\n",
       "      <th id=\"T_65a6b_level0_row0\" class=\"row_heading level0 row0\" >T00</th>\n",
       "      <td id=\"T_65a6b_row0_col0\" class=\"data row0 col0\" >0.071752</td>\n",
       "      <td id=\"T_65a6b_row0_col1\" class=\"data row0 col1\" >0.063316</td>\n",
       "      <td id=\"T_65a6b_row0_col2\" class=\"data row0 col2\" >0.089357</td>\n",
       "      <td id=\"T_65a6b_row0_col3\" class=\"data row0 col3\" >T00 detector, lie, lie detector, results, detector results, feel, think, good, likely</td>\n",
       "    </tr>\n",
       "    <tr>\n",
       "      <th id=\"T_65a6b_level0_row1\" class=\"row_heading level0 row1\" >T01</th>\n",
       "      <td id=\"T_65a6b_row1_col0\" class=\"data row1 col0\" >0.095437</td>\n",
       "      <td id=\"T_65a6b_row1_col1\" class=\"data row1 col1\" >0.119613</td>\n",
       "      <td id=\"T_65a6b_row1_col2\" class=\"data row1 col2\" >0.096982</td>\n",
       "      <td id=\"T_65a6b_row1_col3\" class=\"data row1 col3\" >T01 classroom, norms, class, let, classroom norms, time, norm, talk, stop</td>\n",
       "    </tr>\n",
       "    <tr>\n",
       "      <th id=\"T_65a6b_level0_row2\" class=\"row_heading level0 row2\" >T02</th>\n",
       "      <td id=\"T_65a6b_row2_col0\" class=\"data row2 col0\" >0.105413</td>\n",
       "      <td id=\"T_65a6b_row2_col1\" class=\"data row2 col1\" >0.154922</td>\n",
       "      <td id=\"T_65a6b_row2_col2\" class=\"data row2 col2\" >0.118960</td>\n",
       "      <td id=\"T_65a6b_row2_col3\" class=\"data row2 col3\" >T02 kind, little, like, bit, little bit, know, thing, um, lot</td>\n",
       "    </tr>\n",
       "    <tr>\n",
       "      <th id=\"T_65a6b_level0_row3\" class=\"row_heading level0 row3\" >T03</th>\n",
       "      <td id=\"T_65a6b_row3_col0\" class=\"data row3 col0\" >0.102738</td>\n",
       "      <td id=\"T_65a6b_row3_col1\" class=\"data row3 col1\" >0.144769</td>\n",
       "      <td id=\"T_65a6b_row3_col2\" class=\"data row3 col2\" >0.125280</td>\n",
       "      <td id=\"T_65a6b_row3_col3\" class=\"data row3 col3\" >T03 specific, behavior, stop, redirection, student, students, way, behaviors, time</td>\n",
       "    </tr>\n",
       "    <tr>\n",
       "      <th id=\"T_65a6b_level0_row4\" class=\"row_heading level0 row4\" >T04</th>\n",
       "      <td id=\"T_65a6b_row4_col0\" class=\"data row4 col0\" >0.092210</td>\n",
       "      <td id=\"T_65a6b_row4_col1\" class=\"data row4 col1\" >0.068314</td>\n",
       "      <td id=\"T_65a6b_row4_col2\" class=\"data row4 col2\" >0.076623</td>\n",
       "      <td id=\"T_65a6b_row4_col3\" class=\"data row4 col3\" >T04 students, sure, make, questions, make sure, text, calm, kind, think</td>\n",
       "    </tr>\n",
       "    <tr>\n",
       "      <th id=\"T_65a6b_level0_row5\" class=\"row_heading level0 row5\" >T05</th>\n",
       "      <td id=\"T_65a6b_row5_col0\" class=\"data row5 col0\" >0.104231</td>\n",
       "      <td id=\"T_65a6b_row5_col1\" class=\"data row5 col1\" >0.106084</td>\n",
       "      <td id=\"T_65a6b_row5_col2\" class=\"data row5 col2\" >0.105374</td>\n",
       "      <td id=\"T_65a6b_row5_col3\" class=\"data row5 col3\" >T05 simulation, great, right, try, job, round, questions, ready, time</td>\n",
       "    </tr>\n",
       "    <tr>\n",
       "      <th id=\"T_65a6b_level0_row6\" class=\"row_heading level0 row6\" >T06</th>\n",
       "      <td id=\"T_65a6b_row6_col0\" class=\"data row6 col0\" >0.119412</td>\n",
       "      <td id=\"T_65a6b_row6_col1\" class=\"data row6 col1\" >0.070967</td>\n",
       "      <td id=\"T_65a6b_row6_col2\" class=\"data row6 col2\" >0.094503</td>\n",
       "      <td id=\"T_65a6b_row6_col3\" class=\"data row6 col3\" >T06 stop, say, time, attention, book, student, try, classroom, let</td>\n",
       "    </tr>\n",
       "    <tr>\n",
       "      <th id=\"T_65a6b_level0_row7\" class=\"row_heading level0 row7\" >T07</th>\n",
       "      <td id=\"T_65a6b_row7_col0\" class=\"data row7 col0\" >0.098586</td>\n",
       "      <td id=\"T_65a6b_row7_col1\" class=\"data row7 col1\" >0.083255</td>\n",
       "      <td id=\"T_65a6b_row7_col2\" class=\"data row7 col2\" >0.118117</td>\n",
       "      <td id=\"T_65a6b_row7_col3\" class=\"data row7 col3\" >T07 evidence, text, answer, text evidence, students, textual, textual evidence, tell, job</td>\n",
       "    </tr>\n",
       "    <tr>\n",
       "      <th id=\"T_65a6b_level0_row8\" class=\"row_heading level0 row8\" >T08</th>\n",
       "      <td id=\"T_65a6b_row8_col0\" class=\"data row8 col0\" >0.123649</td>\n",
       "      <td id=\"T_65a6b_row8_col1\" class=\"data row8 col1\" >0.097295</td>\n",
       "      <td id=\"T_65a6b_row8_col2\" class=\"data row8 col2\" >0.090342</td>\n",
       "      <td id=\"T_65a6b_row8_col3\" class=\"data row8 col3\" >T08 student, paragraph, text, say, intern, look, student intern, right, read</td>\n",
       "    </tr>\n",
       "    <tr>\n",
       "      <th id=\"T_65a6b_level0_row9\" class=\"row_heading level0 row9\" >T09</th>\n",
       "      <td id=\"T_65a6b_row9_col0\" class=\"data row9 col0\" >0.086571</td>\n",
       "      <td id=\"T_65a6b_row9_col1\" class=\"data row9 col1\" >0.091465</td>\n",
       "      <td id=\"T_65a6b_row9_col2\" class=\"data row9 col2\" >0.084461</td>\n",
       "      <td id=\"T_65a6b_row9_col3\" class=\"data row9 col3\" >T09 question, nervous, heart, ask, practice, student, let, sorry, paragraph</td>\n",
       "    </tr>\n",
       "  </tbody>\n",
       "</table>\n"
      ],
      "text/plain": [
       "<pandas.io.formats.style.Styler at 0x7f7bf26614f0>"
      ]
     },
     "execution_count": 157,
     "metadata": {},
     "output_type": "execute_result"
    }
   ],
   "source": [
    "print('Figure 4. Document weight on topics across sites')\n",
    "TOPICS[sites + ['label']].style.background_gradient(cmap=colors, axis=None)"
   ]
  },
  {
   "cell_type": "markdown",
   "metadata": {},
   "source": [
    "### Interpretation:\n",
    "In the context of teacher coaching intervention, upon examining the topic weights disaggregated by classroom norms and quality of feedback scenarios, it becomes apparent that topics T01, T03, and T06 are associated with conversations centered around redirecting students' off-task behaviors. Meanwhile, topics T07, T08, and T12 are more closely related to providing feedback or guidance to students during the teaching process.\n"
   ]
  },
  {
   "cell_type": "code",
   "execution_count": 158,
   "metadata": {},
   "outputs": [
    {
     "name": "stdout",
     "output_type": "stream",
     "text": [
      "Figure 5. Document weight on topics across scenarios\n"
     ]
    },
    {
     "data": {
      "text/html": [
       "<style type=\"text/css\">\n",
       "#T_2dbe6_row0_col0 {\n",
       "  background-color: #f3fabf;\n",
       "  color: #000000;\n",
       "}\n",
       "#T_2dbe6_row0_col1 {\n",
       "  background-color: #6fc7bd;\n",
       "  color: #000000;\n",
       "}\n",
       "#T_2dbe6_row1_col0 {\n",
       "  background-color: #2166ac;\n",
       "  color: #f1f1f1;\n",
       "}\n",
       "#T_2dbe6_row1_col1 {\n",
       "  background-color: #f6fbc5;\n",
       "  color: #000000;\n",
       "}\n",
       "#T_2dbe6_row2_col0 {\n",
       "  background-color: #289cc1;\n",
       "  color: #f1f1f1;\n",
       "}\n",
       "#T_2dbe6_row2_col1 {\n",
       "  background-color: #52bcc2;\n",
       "  color: #000000;\n",
       "}\n",
       "#T_2dbe6_row3_col0 {\n",
       "  background-color: #081d58;\n",
       "  color: #f1f1f1;\n",
       "}\n",
       "#T_2dbe6_row3_col1 {\n",
       "  background-color: #ffffd9;\n",
       "  color: #000000;\n",
       "}\n",
       "#T_2dbe6_row4_col0 {\n",
       "  background-color: #e9f7b1;\n",
       "  color: #000000;\n",
       "}\n",
       "#T_2dbe6_row4_col1 {\n",
       "  background-color: #6bc6be;\n",
       "  color: #000000;\n",
       "}\n",
       "#T_2dbe6_row5_col0 {\n",
       "  background-color: #53bdc1;\n",
       "  color: #000000;\n",
       "}\n",
       "#T_2dbe6_row5_col1 {\n",
       "  background-color: #85cfba;\n",
       "  color: #000000;\n",
       "}\n",
       "#T_2dbe6_row6_col0 {\n",
       "  background-color: #1f7bb6;\n",
       "  color: #f1f1f1;\n",
       "}\n",
       "#T_2dbe6_row6_col1 {\n",
       "  background-color: #f9fdcc;\n",
       "  color: #000000;\n",
       "}\n",
       "#T_2dbe6_row7_col0 {\n",
       "  background-color: #fdfed4;\n",
       "  color: #000000;\n",
       "}\n",
       "#T_2dbe6_row7_col1 {\n",
       "  background-color: #2258a5;\n",
       "  color: #f1f1f1;\n",
       "}\n",
       "#T_2dbe6_row8_col0 {\n",
       "  background-color: #fafdcf;\n",
       "  color: #000000;\n",
       "}\n",
       "#T_2dbe6_row8_col1 {\n",
       "  background-color: #24449c;\n",
       "  color: #f1f1f1;\n",
       "}\n",
       "#T_2dbe6_row9_col0 {\n",
       "  background-color: #eaf7b1;\n",
       "  color: #000000;\n",
       "}\n",
       "#T_2dbe6_row9_col1 {\n",
       "  background-color: #3eb3c4;\n",
       "  color: #f1f1f1;\n",
       "}\n",
       "</style>\n",
       "<table id=\"T_2dbe6\">\n",
       "  <thead>\n",
       "    <tr>\n",
       "      <th class=\"index_name level0\" >term_str</th>\n",
       "      <th id=\"T_2dbe6_level0_col0\" class=\"col_heading level0 col0\" >CN</th>\n",
       "      <th id=\"T_2dbe6_level0_col1\" class=\"col_heading level0 col1\" >QF</th>\n",
       "      <th id=\"T_2dbe6_level0_col2\" class=\"col_heading level0 col2\" >label</th>\n",
       "    </tr>\n",
       "    <tr>\n",
       "      <th class=\"index_name level0\" >topic_id</th>\n",
       "      <th class=\"blank col0\" >&nbsp;</th>\n",
       "      <th class=\"blank col1\" >&nbsp;</th>\n",
       "      <th class=\"blank col2\" >&nbsp;</th>\n",
       "    </tr>\n",
       "  </thead>\n",
       "  <tbody>\n",
       "    <tr>\n",
       "      <th id=\"T_2dbe6_level0_row0\" class=\"row_heading level0 row0\" >T00</th>\n",
       "      <td id=\"T_2dbe6_row0_col0\" class=\"data row0 col0\" >0.045820</td>\n",
       "      <td id=\"T_2dbe6_row0_col1\" class=\"data row0 col1\" >0.103978</td>\n",
       "      <td id=\"T_2dbe6_row0_col2\" class=\"data row0 col2\" >T00 detector, lie, lie detector, results, detector results, feel, think, good, likely</td>\n",
       "    </tr>\n",
       "    <tr>\n",
       "      <th id=\"T_2dbe6_level0_row1\" class=\"row_heading level0 row1\" >T01</th>\n",
       "      <td id=\"T_2dbe6_row1_col0\" class=\"data row1 col0\" >0.161372</td>\n",
       "      <td id=\"T_2dbe6_row1_col1\" class=\"data row1 col1\" >0.042690</td>\n",
       "      <td id=\"T_2dbe6_row1_col2\" class=\"data row1 col2\" >T01 classroom, norms, class, let, classroom norms, time, norm, talk, stop</td>\n",
       "    </tr>\n",
       "    <tr>\n",
       "      <th id=\"T_2dbe6_level0_row2\" class=\"row_heading level0 row2\" >T02</th>\n",
       "      <td id=\"T_2dbe6_row2_col0\" class=\"data row2 col0\" >0.135887</td>\n",
       "      <td id=\"T_2dbe6_row2_col1\" class=\"data row2 col1\" >0.114022</td>\n",
       "      <td id=\"T_2dbe6_row2_col2\" class=\"data row2 col2\" >T02 kind, little, like, bit, little bit, know, thing, um, lot</td>\n",
       "    </tr>\n",
       "    <tr>\n",
       "      <th id=\"T_2dbe6_level0_row3\" class=\"row_heading level0 row3\" >T03</th>\n",
       "      <td id=\"T_2dbe6_row3_col0\" class=\"data row3 col0\" >0.209762</td>\n",
       "      <td id=\"T_2dbe6_row3_col1\" class=\"data row3 col1\" >0.030814</td>\n",
       "      <td id=\"T_2dbe6_row3_col2\" class=\"data row3 col2\" >T03 specific, behavior, stop, redirection, student, students, way, behaviors, time</td>\n",
       "    </tr>\n",
       "    <tr>\n",
       "      <th id=\"T_2dbe6_level0_row4\" class=\"row_heading level0 row4\" >T04</th>\n",
       "      <td id=\"T_2dbe6_row4_col0\" class=\"data row4 col0\" >0.055867</td>\n",
       "      <td id=\"T_2dbe6_row4_col1\" class=\"data row4 col1\" >0.105567</td>\n",
       "      <td id=\"T_2dbe6_row4_col2\" class=\"data row4 col2\" >T04 students, sure, make, questions, make sure, text, calm, kind, think</td>\n",
       "    </tr>\n",
       "    <tr>\n",
       "      <th id=\"T_2dbe6_level0_row5\" class=\"row_heading level0 row5\" >T05</th>\n",
       "      <td id=\"T_2dbe6_row5_col0\" class=\"data row5 col0\" >0.113566</td>\n",
       "      <td id=\"T_2dbe6_row5_col1\" class=\"data row5 col1\" >0.096270</td>\n",
       "      <td id=\"T_2dbe6_row5_col2\" class=\"data row5 col2\" >T05 simulation, great, right, try, job, round, questions, ready, time</td>\n",
       "    </tr>\n",
       "    <tr>\n",
       "      <th id=\"T_2dbe6_level0_row6\" class=\"row_heading level0 row6\" >T06</th>\n",
       "      <td id=\"T_2dbe6_row6_col0\" class=\"data row6 col0\" >0.151942</td>\n",
       "      <td id=\"T_2dbe6_row6_col1\" class=\"data row6 col1\" >0.038207</td>\n",
       "      <td id=\"T_2dbe6_row6_col2\" class=\"data row6 col2\" >T06 stop, say, time, attention, book, student, try, classroom, let</td>\n",
       "    </tr>\n",
       "    <tr>\n",
       "      <th id=\"T_2dbe6_level0_row7\" class=\"row_heading level0 row7\" >T07</th>\n",
       "      <td id=\"T_2dbe6_row7_col0\" class=\"data row7 col0\" >0.034087</td>\n",
       "      <td id=\"T_2dbe6_row7_col1\" class=\"data row7 col1\" >0.168139</td>\n",
       "      <td id=\"T_2dbe6_row7_col2\" class=\"data row7 col2\" >T07 evidence, text, answer, text evidence, students, textual, textual evidence, tell, job</td>\n",
       "    </tr>\n",
       "    <tr>\n",
       "      <th id=\"T_2dbe6_level0_row8\" class=\"row_heading level0 row8\" >T08</th>\n",
       "      <td id=\"T_2dbe6_row8_col0\" class=\"data row8 col0\" >0.036566</td>\n",
       "      <td id=\"T_2dbe6_row8_col1\" class=\"data row8 col1\" >0.178521</td>\n",
       "      <td id=\"T_2dbe6_row8_col2\" class=\"data row8 col2\" >T08 student, paragraph, text, say, intern, look, student intern, right, read</td>\n",
       "    </tr>\n",
       "    <tr>\n",
       "      <th id=\"T_2dbe6_level0_row9\" class=\"row_heading level0 row9\" >T09</th>\n",
       "      <td id=\"T_2dbe6_row9_col0\" class=\"data row9 col0\" >0.055132</td>\n",
       "      <td id=\"T_2dbe6_row9_col1\" class=\"data row9 col1\" >0.121791</td>\n",
       "      <td id=\"T_2dbe6_row9_col2\" class=\"data row9 col2\" >T09 question, nervous, heart, ask, practice, student, let, sorry, paragraph</td>\n",
       "    </tr>\n",
       "  </tbody>\n",
       "</table>\n"
      ],
      "text/plain": [
       "<pandas.io.formats.style.Styler at 0x7f7b906a1310>"
      ]
     },
     "execution_count": 158,
     "metadata": {},
     "output_type": "execute_result"
    }
   ],
   "source": [
    "print('Figure 5. Document weight on topics across scenarios')\n",
    "TOPICS[scenarios + ['label']].style.background_gradient(cmap=colors, axis=None)"
   ]
  },
  {
   "cell_type": "markdown",
   "metadata": {},
   "source": [
    "## Assigned Scenario to each topic"
   ]
  },
  {
   "cell_type": "code",
   "execution_count": 159,
   "metadata": {},
   "outputs": [],
   "source": [
    "TOPICS['scenario'] = TOPICS[scenarios].idxmax(1)"
   ]
  },
  {
   "cell_type": "code",
   "execution_count": 160,
   "metadata": {
    "tags": []
   },
   "outputs": [
    {
     "data": {
      "text/html": [
       "<style type=\"text/css\">\n",
       "#T_1ee05_row0_col1, #T_1ee05_row0_col4, #T_1ee05_row1_col2, #T_1ee05_row1_col5, #T_1ee05_row1_col6, #T_1ee05_row5_col3, #T_1ee05_row5_col7 {\n",
       "  background-color: #081d58;\n",
       "  color: #f1f1f1;\n",
       "}\n",
       "#T_1ee05_row0_col2 {\n",
       "  background-color: #5bc0c0;\n",
       "  color: #000000;\n",
       "}\n",
       "#T_1ee05_row0_col3 {\n",
       "  background-color: #1e86bb;\n",
       "  color: #f1f1f1;\n",
       "}\n",
       "#T_1ee05_row0_col5 {\n",
       "  background-color: #253595;\n",
       "  color: #f1f1f1;\n",
       "}\n",
       "#T_1ee05_row0_col6 {\n",
       "  background-color: #2a9ec1;\n",
       "  color: #f1f1f1;\n",
       "}\n",
       "#T_1ee05_row0_col7 {\n",
       "  background-color: #2ea3c2;\n",
       "  color: #f1f1f1;\n",
       "}\n",
       "#T_1ee05_row1_col1 {\n",
       "  background-color: #13266f;\n",
       "  color: #f1f1f1;\n",
       "}\n",
       "#T_1ee05_row1_col3 {\n",
       "  background-color: #259ac1;\n",
       "  color: #f1f1f1;\n",
       "}\n",
       "#T_1ee05_row1_col4 {\n",
       "  background-color: #21318d;\n",
       "  color: #f1f1f1;\n",
       "}\n",
       "#T_1ee05_row1_col7, #T_1ee05_row6_col6, #T_1ee05_row8_col5, #T_1ee05_row9_col1, #T_1ee05_row9_col2, #T_1ee05_row9_col3, #T_1ee05_row9_col4 {\n",
       "  background-color: #ffffd9;\n",
       "  color: #000000;\n",
       "}\n",
       "#T_1ee05_row2_col1 {\n",
       "  background-color: #2296c1;\n",
       "  color: #f1f1f1;\n",
       "}\n",
       "#T_1ee05_row2_col2 {\n",
       "  background-color: #f0f9b8;\n",
       "  color: #000000;\n",
       "}\n",
       "#T_1ee05_row2_col3 {\n",
       "  background-color: #1d90c0;\n",
       "  color: #f1f1f1;\n",
       "}\n",
       "#T_1ee05_row2_col4 {\n",
       "  background-color: #52bcc2;\n",
       "  color: #000000;\n",
       "}\n",
       "#T_1ee05_row2_col5 {\n",
       "  background-color: #269bc1;\n",
       "  color: #f1f1f1;\n",
       "}\n",
       "#T_1ee05_row2_col6 {\n",
       "  background-color: #59bfc0;\n",
       "  color: #000000;\n",
       "}\n",
       "#T_1ee05_row2_col7 {\n",
       "  background-color: #5dc0c0;\n",
       "  color: #000000;\n",
       "}\n",
       "#T_1ee05_row3_col1 {\n",
       "  background-color: #2b9fc2;\n",
       "  color: #f1f1f1;\n",
       "}\n",
       "#T_1ee05_row3_col2, #T_1ee05_row7_col1 {\n",
       "  background-color: #c0e6b5;\n",
       "  color: #000000;\n",
       "}\n",
       "#T_1ee05_row3_col3 {\n",
       "  background-color: #57bec1;\n",
       "  color: #000000;\n",
       "}\n",
       "#T_1ee05_row3_col4, #T_1ee05_row5_col1, #T_1ee05_row7_col7 {\n",
       "  background-color: #2094c0;\n",
       "  color: #f1f1f1;\n",
       "}\n",
       "#T_1ee05_row3_col5 {\n",
       "  background-color: #69c5be;\n",
       "  color: #000000;\n",
       "}\n",
       "#T_1ee05_row3_col6 {\n",
       "  background-color: #2168ad;\n",
       "  color: #f1f1f1;\n",
       "}\n",
       "#T_1ee05_row3_col7 {\n",
       "  background-color: #f4fbc0;\n",
       "  color: #000000;\n",
       "}\n",
       "#T_1ee05_row4_col1 {\n",
       "  background-color: #5fc1c0;\n",
       "  color: #000000;\n",
       "}\n",
       "#T_1ee05_row4_col2 {\n",
       "  background-color: #d3eeb3;\n",
       "  color: #000000;\n",
       "}\n",
       "#T_1ee05_row4_col3 {\n",
       "  background-color: #1a2b7e;\n",
       "  color: #f1f1f1;\n",
       "}\n",
       "#T_1ee05_row4_col4 {\n",
       "  background-color: #f3fabf;\n",
       "  color: #000000;\n",
       "}\n",
       "#T_1ee05_row4_col5, #T_1ee05_row5_col4 {\n",
       "  background-color: #83cebb;\n",
       "  color: #000000;\n",
       "}\n",
       "#T_1ee05_row4_col6 {\n",
       "  background-color: #1f7eb7;\n",
       "  color: #f1f1f1;\n",
       "}\n",
       "#T_1ee05_row4_col7 {\n",
       "  background-color: #f8fcca;\n",
       "  color: #000000;\n",
       "}\n",
       "#T_1ee05_row5_col2 {\n",
       "  background-color: #2076b3;\n",
       "  color: #f1f1f1;\n",
       "}\n",
       "#T_1ee05_row5_col5 {\n",
       "  background-color: #b4e2b6;\n",
       "  color: #000000;\n",
       "}\n",
       "#T_1ee05_row5_col6 {\n",
       "  background-color: #fdfed5;\n",
       "  color: #000000;\n",
       "}\n",
       "#T_1ee05_row6_col1 {\n",
       "  background-color: #46b8c3;\n",
       "  color: #f1f1f1;\n",
       "}\n",
       "#T_1ee05_row6_col2 {\n",
       "  background-color: #21308b;\n",
       "  color: #f1f1f1;\n",
       "}\n",
       "#T_1ee05_row6_col3 {\n",
       "  background-color: #3cb1c3;\n",
       "  color: #f1f1f1;\n",
       "}\n",
       "#T_1ee05_row6_col4 {\n",
       "  background-color: #d1edb3;\n",
       "  color: #000000;\n",
       "}\n",
       "#T_1ee05_row6_col5 {\n",
       "  background-color: #253b97;\n",
       "  color: #f1f1f1;\n",
       "}\n",
       "#T_1ee05_row6_col7 {\n",
       "  background-color: #172978;\n",
       "  color: #f1f1f1;\n",
       "}\n",
       "#T_1ee05_row7_col2 {\n",
       "  background-color: #f9fdcc;\n",
       "  color: #000000;\n",
       "}\n",
       "#T_1ee05_row7_col3 {\n",
       "  background-color: #b2e1b6;\n",
       "  color: #000000;\n",
       "}\n",
       "#T_1ee05_row7_col4 {\n",
       "  background-color: #a7dcb7;\n",
       "  color: #000000;\n",
       "}\n",
       "#T_1ee05_row7_col5 {\n",
       "  background-color: #e2f4b2;\n",
       "  color: #000000;\n",
       "}\n",
       "#T_1ee05_row7_col6 {\n",
       "  background-color: #eef8b3;\n",
       "  color: #000000;\n",
       "}\n",
       "#T_1ee05_row8_col1 {\n",
       "  background-color: #eff9b5;\n",
       "  color: #000000;\n",
       "}\n",
       "#T_1ee05_row8_col2 {\n",
       "  background-color: #8cd2ba;\n",
       "  color: #000000;\n",
       "}\n",
       "#T_1ee05_row8_col3 {\n",
       "  background-color: #76cabc;\n",
       "  color: #000000;\n",
       "}\n",
       "#T_1ee05_row8_col4 {\n",
       "  background-color: #f8fcc9;\n",
       "  color: #000000;\n",
       "}\n",
       "#T_1ee05_row8_col6 {\n",
       "  background-color: #edf8b2;\n",
       "  color: #000000;\n",
       "}\n",
       "#T_1ee05_row8_col7 {\n",
       "  background-color: #3fb4c4;\n",
       "  color: #f1f1f1;\n",
       "}\n",
       "#T_1ee05_row9_col5 {\n",
       "  background-color: #c2e7b4;\n",
       "  color: #000000;\n",
       "}\n",
       "#T_1ee05_row9_col6 {\n",
       "  background-color: #f5fbc4;\n",
       "  color: #000000;\n",
       "}\n",
       "#T_1ee05_row9_col7 {\n",
       "  background-color: #44b7c4;\n",
       "  color: #f1f1f1;\n",
       "}\n",
       "</style>\n",
       "<table id=\"T_1ee05\">\n",
       "  <thead>\n",
       "    <tr>\n",
       "      <th class=\"index_name level0\" >term_str</th>\n",
       "      <th id=\"T_1ee05_level0_col0\" class=\"col_heading level0 col0\" >label</th>\n",
       "      <th id=\"T_1ee05_level0_col1\" class=\"col_heading level0 col1\" >doc_weight_sum</th>\n",
       "      <th id=\"T_1ee05_level0_col2\" class=\"col_heading level0 col2\" >term_freq</th>\n",
       "      <th id=\"T_1ee05_level0_col3\" class=\"col_heading level0 col3\" >RGV</th>\n",
       "      <th id=\"T_1ee05_level0_col4\" class=\"col_heading level0 col4\" >SMU</th>\n",
       "      <th id=\"T_1ee05_level0_col5\" class=\"col_heading level0 col5\" >UVA</th>\n",
       "      <th id=\"T_1ee05_level0_col6\" class=\"col_heading level0 col6\" >CN</th>\n",
       "      <th id=\"T_1ee05_level0_col7\" class=\"col_heading level0 col7\" >QF</th>\n",
       "      <th id=\"T_1ee05_level0_col8\" class=\"col_heading level0 col8\" >scenario</th>\n",
       "    </tr>\n",
       "    <tr>\n",
       "      <th class=\"index_name level0\" >topic_id</th>\n",
       "      <th class=\"blank col0\" >&nbsp;</th>\n",
       "      <th class=\"blank col1\" >&nbsp;</th>\n",
       "      <th class=\"blank col2\" >&nbsp;</th>\n",
       "      <th class=\"blank col3\" >&nbsp;</th>\n",
       "      <th class=\"blank col4\" >&nbsp;</th>\n",
       "      <th class=\"blank col5\" >&nbsp;</th>\n",
       "      <th class=\"blank col6\" >&nbsp;</th>\n",
       "      <th class=\"blank col7\" >&nbsp;</th>\n",
       "      <th class=\"blank col8\" >&nbsp;</th>\n",
       "    </tr>\n",
       "  </thead>\n",
       "  <tbody>\n",
       "    <tr>\n",
       "      <th id=\"T_1ee05_level0_row0\" class=\"row_heading level0 row0\" >T02</th>\n",
       "      <td id=\"T_1ee05_row0_col0\" class=\"data row0 col0\" >T02 kind, little, like, bit, little bit, know, thing, um, lot</td>\n",
       "      <td id=\"T_1ee05_row0_col1\" class=\"data row0 col1\" >462.697726</td>\n",
       "      <td id=\"T_1ee05_row0_col2\" class=\"data row0 col2\" >0.106244</td>\n",
       "      <td id=\"T_1ee05_row0_col3\" class=\"data row0 col3\" >0.105413</td>\n",
       "      <td id=\"T_1ee05_row0_col4\" class=\"data row0 col4\" >0.154922</td>\n",
       "      <td id=\"T_1ee05_row0_col5\" class=\"data row0 col5\" >0.118960</td>\n",
       "      <td id=\"T_1ee05_row0_col6\" class=\"data row0 col6\" >0.135887</td>\n",
       "      <td id=\"T_1ee05_row0_col7\" class=\"data row0 col7\" >0.114022</td>\n",
       "      <td id=\"T_1ee05_row0_col8\" class=\"data row0 col8\" >CN</td>\n",
       "    </tr>\n",
       "    <tr>\n",
       "      <th id=\"T_1ee05_level0_row1\" class=\"row_heading level0 row1\" >T03</th>\n",
       "      <td id=\"T_1ee05_row1_col0\" class=\"data row1 col0\" >T03 specific, behavior, stop, redirection, student, students, way, behaviors, time</td>\n",
       "      <td id=\"T_1ee05_row1_col1\" class=\"data row1 col1\" >453.470317</td>\n",
       "      <td id=\"T_1ee05_row1_col2\" class=\"data row1 col2\" >0.181161</td>\n",
       "      <td id=\"T_1ee05_row1_col3\" class=\"data row1 col3\" >0.102738</td>\n",
       "      <td id=\"T_1ee05_row1_col4\" class=\"data row1 col4\" >0.144769</td>\n",
       "      <td id=\"T_1ee05_row1_col5\" class=\"data row1 col5\" >0.125280</td>\n",
       "      <td id=\"T_1ee05_row1_col6\" class=\"data row1 col6\" >0.209762</td>\n",
       "      <td id=\"T_1ee05_row1_col7\" class=\"data row1 col7\" >0.030814</td>\n",
       "      <td id=\"T_1ee05_row1_col8\" class=\"data row1 col8\" >CN</td>\n",
       "    </tr>\n",
       "    <tr>\n",
       "      <th id=\"T_1ee05_level0_row2\" class=\"row_heading level0 row2\" >T05</th>\n",
       "      <td id=\"T_1ee05_row2_col0\" class=\"data row2 col0\" >T05 simulation, great, right, try, job, round, questions, ready, time</td>\n",
       "      <td id=\"T_1ee05_row2_col1\" class=\"data row2 col1\" >388.448932</td>\n",
       "      <td id=\"T_1ee05_row2_col2\" class=\"data row2 col2\" >0.059918</td>\n",
       "      <td id=\"T_1ee05_row2_col3\" class=\"data row2 col3\" >0.104231</td>\n",
       "      <td id=\"T_1ee05_row2_col4\" class=\"data row2 col4\" >0.106084</td>\n",
       "      <td id=\"T_1ee05_row2_col5\" class=\"data row2 col5\" >0.105374</td>\n",
       "      <td id=\"T_1ee05_row2_col6\" class=\"data row2 col6\" >0.113566</td>\n",
       "      <td id=\"T_1ee05_row2_col7\" class=\"data row2 col7\" >0.096270</td>\n",
       "      <td id=\"T_1ee05_row2_col8\" class=\"data row2 col8\" >CN</td>\n",
       "    </tr>\n",
       "    <tr>\n",
       "      <th id=\"T_1ee05_level0_row3\" class=\"row_heading level0 row3\" >T01</th>\n",
       "      <td id=\"T_1ee05_row3_col0\" class=\"data row3 col0\" >T01 classroom, norms, class, let, classroom norms, time, norm, talk, stop</td>\n",
       "      <td id=\"T_1ee05_row3_col1\" class=\"data row3 col1\" >382.954835</td>\n",
       "      <td id=\"T_1ee05_row3_col2\" class=\"data row3 col2\" >0.081370</td>\n",
       "      <td id=\"T_1ee05_row3_col3\" class=\"data row3 col3\" >0.095437</td>\n",
       "      <td id=\"T_1ee05_row3_col4\" class=\"data row3 col4\" >0.119613</td>\n",
       "      <td id=\"T_1ee05_row3_col5\" class=\"data row3 col5\" >0.096982</td>\n",
       "      <td id=\"T_1ee05_row3_col6\" class=\"data row3 col6\" >0.161372</td>\n",
       "      <td id=\"T_1ee05_row3_col7\" class=\"data row3 col7\" >0.042690</td>\n",
       "      <td id=\"T_1ee05_row3_col8\" class=\"data row3 col8\" >CN</td>\n",
       "    </tr>\n",
       "    <tr>\n",
       "      <th id=\"T_1ee05_level0_row4\" class=\"row_heading level0 row4\" >T06</th>\n",
       "      <td id=\"T_1ee05_row4_col0\" class=\"data row4 col0\" >T06 stop, say, time, attention, book, student, try, classroom, let</td>\n",
       "      <td id=\"T_1ee05_row4_col1\" class=\"data row4 col1\" >357.006222</td>\n",
       "      <td id=\"T_1ee05_row4_col2\" class=\"data row4 col2\" >0.074559</td>\n",
       "      <td id=\"T_1ee05_row4_col3\" class=\"data row4 col3\" >0.119412</td>\n",
       "      <td id=\"T_1ee05_row4_col4\" class=\"data row4 col4\" >0.070967</td>\n",
       "      <td id=\"T_1ee05_row4_col5\" class=\"data row4 col5\" >0.094503</td>\n",
       "      <td id=\"T_1ee05_row4_col6\" class=\"data row4 col6\" >0.151942</td>\n",
       "      <td id=\"T_1ee05_row4_col7\" class=\"data row4 col7\" >0.038207</td>\n",
       "      <td id=\"T_1ee05_row4_col8\" class=\"data row4 col8\" >CN</td>\n",
       "    </tr>\n",
       "    <tr>\n",
       "      <th id=\"T_1ee05_level0_row5\" class=\"row_heading level0 row5\" >T08</th>\n",
       "      <td id=\"T_1ee05_row5_col0\" class=\"data row5 col0\" >T08 student, paragraph, text, say, intern, look, student intern, right, read</td>\n",
       "      <td id=\"T_1ee05_row5_col1\" class=\"data row5 col1\" >390.025732</td>\n",
       "      <td id=\"T_1ee05_row5_col2\" class=\"data row5 col2\" >0.139003</td>\n",
       "      <td id=\"T_1ee05_row5_col3\" class=\"data row5 col3\" >0.123649</td>\n",
       "      <td id=\"T_1ee05_row5_col4\" class=\"data row5 col4\" >0.097295</td>\n",
       "      <td id=\"T_1ee05_row5_col5\" class=\"data row5 col5\" >0.090342</td>\n",
       "      <td id=\"T_1ee05_row5_col6\" class=\"data row5 col6\" >0.036566</td>\n",
       "      <td id=\"T_1ee05_row5_col7\" class=\"data row5 col7\" >0.178521</td>\n",
       "      <td id=\"T_1ee05_row5_col8\" class=\"data row5 col8\" >QF</td>\n",
       "    </tr>\n",
       "    <tr>\n",
       "      <th id=\"T_1ee05_level0_row6\" class=\"row_heading level0 row6\" >T07</th>\n",
       "      <td id=\"T_1ee05_row6_col0\" class=\"data row6 col0\" >T07 evidence, text, answer, text evidence, students, textual, textual evidence, tell, job</td>\n",
       "      <td id=\"T_1ee05_row6_col1\" class=\"data row6 col1\" >366.675085</td>\n",
       "      <td id=\"T_1ee05_row6_col2\" class=\"data row6 col2\" >0.166501</td>\n",
       "      <td id=\"T_1ee05_row6_col3\" class=\"data row6 col3\" >0.098586</td>\n",
       "      <td id=\"T_1ee05_row6_col4\" class=\"data row6 col4\" >0.083255</td>\n",
       "      <td id=\"T_1ee05_row6_col5\" class=\"data row6 col5\" >0.118117</td>\n",
       "      <td id=\"T_1ee05_row6_col6\" class=\"data row6 col6\" >0.034087</td>\n",
       "      <td id=\"T_1ee05_row6_col7\" class=\"data row6 col7\" >0.168139</td>\n",
       "      <td id=\"T_1ee05_row6_col8\" class=\"data row6 col8\" >QF</td>\n",
       "    </tr>\n",
       "    <tr>\n",
       "      <th id=\"T_1ee05_level0_row7\" class=\"row_heading level0 row7\" >T09</th>\n",
       "      <td id=\"T_1ee05_row7_col0\" class=\"data row7 col0\" >T09 question, nervous, heart, ask, practice, student, let, sorry, paragraph</td>\n",
       "      <td id=\"T_1ee05_row7_col1\" class=\"data row7 col1\" >323.376777</td>\n",
       "      <td id=\"T_1ee05_row7_col2\" class=\"data row7 col2\" >0.051449</td>\n",
       "      <td id=\"T_1ee05_row7_col3\" class=\"data row7 col3\" >0.086571</td>\n",
       "      <td id=\"T_1ee05_row7_col4\" class=\"data row7 col4\" >0.091465</td>\n",
       "      <td id=\"T_1ee05_row7_col5\" class=\"data row7 col5\" >0.084461</td>\n",
       "      <td id=\"T_1ee05_row7_col6\" class=\"data row7 col6\" >0.055132</td>\n",
       "      <td id=\"T_1ee05_row7_col7\" class=\"data row7 col7\" >0.121791</td>\n",
       "      <td id=\"T_1ee05_row7_col8\" class=\"data row7 col8\" >QF</td>\n",
       "    </tr>\n",
       "    <tr>\n",
       "      <th id=\"T_1ee05_level0_row8\" class=\"row_heading level0 row8\" >T04</th>\n",
       "      <td id=\"T_1ee05_row8_col0\" class=\"data row8 col0\" >T04 students, sure, make, questions, make sure, text, calm, kind, think</td>\n",
       "      <td id=\"T_1ee05_row8_col1\" class=\"data row8 col1\" >295.634128</td>\n",
       "      <td id=\"T_1ee05_row8_col2\" class=\"data row8 col2\" >0.093861</td>\n",
       "      <td id=\"T_1ee05_row8_col3\" class=\"data row8 col3\" >0.092210</td>\n",
       "      <td id=\"T_1ee05_row8_col4\" class=\"data row8 col4\" >0.068314</td>\n",
       "      <td id=\"T_1ee05_row8_col5\" class=\"data row8 col5\" >0.076623</td>\n",
       "      <td id=\"T_1ee05_row8_col6\" class=\"data row8 col6\" >0.055867</td>\n",
       "      <td id=\"T_1ee05_row8_col7\" class=\"data row8 col7\" >0.105567</td>\n",
       "      <td id=\"T_1ee05_row8_col8\" class=\"data row8 col8\" >QF</td>\n",
       "    </tr>\n",
       "    <tr>\n",
       "      <th id=\"T_1ee05_level0_row9\" class=\"row_heading level0 row9\" >T00</th>\n",
       "      <td id=\"T_1ee05_row9_col0\" class=\"data row9 col0\" >T00 detector, lie, lie detector, results, detector results, feel, think, good, likely</td>\n",
       "      <td id=\"T_1ee05_row9_col1\" class=\"data row9 col1\" >273.710248</td>\n",
       "      <td id=\"T_1ee05_row9_col2\" class=\"data row9 col2\" >0.045935</td>\n",
       "      <td id=\"T_1ee05_row9_col3\" class=\"data row9 col3\" >0.071752</td>\n",
       "      <td id=\"T_1ee05_row9_col4\" class=\"data row9 col4\" >0.063316</td>\n",
       "      <td id=\"T_1ee05_row9_col5\" class=\"data row9 col5\" >0.089357</td>\n",
       "      <td id=\"T_1ee05_row9_col6\" class=\"data row9 col6\" >0.045820</td>\n",
       "      <td id=\"T_1ee05_row9_col7\" class=\"data row9 col7\" >0.103978</td>\n",
       "      <td id=\"T_1ee05_row9_col8\" class=\"data row9 col8\" >QF</td>\n",
       "    </tr>\n",
       "  </tbody>\n",
       "</table>\n"
      ],
      "text/plain": [
       "<pandas.io.formats.style.Styler at 0x7f7bf184b880>"
      ]
     },
     "execution_count": 160,
     "metadata": {},
     "output_type": "execute_result"
    }
   ],
   "source": [
    "TOPICS.iloc[:,n_top_terms:].sort_values(['scenario','doc_weight_sum'], ascending=[True,False]).style.background_gradient(cmap=colors)"
   ]
  },
  {
   "cell_type": "markdown",
   "metadata": {},
   "source": [
    "## Topics in Scenario Space"
   ]
  },
  {
   "cell_type": "markdown",
   "metadata": {},
   "source": [
    "See how topics are associated with scenario dimensions."
   ]
  },
  {
   "cell_type": "code",
   "execution_count": 161,
   "metadata": {},
   "outputs": [
    {
     "data": {
      "application/vnd.plotly.v1+json": {
       "config": {
        "plotlyServerURL": "https://plot.ly"
       },
       "data": [
        {
         "hovertemplate": "<b>%{hovertext}</b><br><br>scenario=QF<br>CN=%{x}<br>QF=%{y}<br>size=%{marker.size}<br>topic_id=%{text}<extra></extra>",
         "hovertext": [
          "T00 detector, lie, lie detector, results, detector results, feel, think, good, likely",
          "T04 students, sure, make, questions, make sure, text, calm, kind, think",
          "T07 evidence, text, answer, text evidence, students, textual, textual evidence, tell, job",
          "T08 student, paragraph, text, say, intern, look, student intern, right, read",
          "T09 question, nervous, heart, ask, practice, student, let, sorry, paragraph"
         ],
         "legendgroup": "QF",
         "marker": {
          "color": "#636efa",
          "size": [
           0.004764263148077193,
           0.0058977358507746325,
           0.005731333877546014,
           0.006527760180740524,
           0.006714541515425182
          ],
          "sizemode": "area",
          "sizeref": 3.873540534397647e-05,
          "symbol": "circle"
         },
         "mode": "markers+text",
         "name": "QF",
         "orientation": "v",
         "showlegend": true,
         "text": [
          "T00",
          "T04",
          "T07",
          "T08",
          "T09"
         ],
         "type": "scatter",
         "x": [
          0.045820117124690043,
          0.05586736766063597,
          0.034086801784840276,
          0.03656576000861149,
          0.055131563049395954
         ],
         "xaxis": "x",
         "y": [
          0.10397754189742094,
          0.10556673954284344,
          0.16813938467219183,
          0.178521113172629,
          0.12179124160527043
         ],
         "yaxis": "y"
        },
        {
         "hovertemplate": "<b>%{hovertext}</b><br><br>scenario=CN<br>CN=%{x}<br>QF=%{y}<br>size=%{marker.size}<br>topic_id=%{text}<extra></extra>",
         "hovertext": [
          "T01 classroom, norms, class, let, classroom norms, time, norm, talk, stop",
          "T02 kind, little, like, bit, little bit, know, thing, um, lot",
          "T03 specific, behavior, stop, redirection, student, students, way, behaviors, time",
          "T05 simulation, great, right, try, job, round, questions, ready, time",
          "T06 stop, say, time, attention, book, student, try, classroom, let"
         ],
         "legendgroup": "CN",
         "marker": {
          "color": "#EF553B",
          "size": [
           0.006888924153970743,
           0.015494162137590589,
           0.006463669094374173,
           0.010932994460528405,
           0.005805267967979758
          ],
          "sizemode": "area",
          "sizeref": 3.873540534397647e-05,
          "symbol": "circle"
         },
         "mode": "markers+text",
         "name": "CN",
         "orientation": "v",
         "showlegend": true,
         "text": [
          "T01",
          "T02",
          "T03",
          "T05",
          "T06"
         ],
         "type": "scatter",
         "x": [
          0.1613720400333487,
          0.13588691235574074,
          0.20976173012661012,
          0.11356550221024332,
          0.15194220564588337
         ],
         "xaxis": "x",
         "y": [
          0.04268970109411207,
          0.11402247552014537,
          0.03081433915744672,
          0.096270383591385,
          0.03820707974655522
         ],
         "yaxis": "y"
        }
       ],
       "layout": {
        "height": 350,
        "legend": {
         "itemsizing": "constant",
         "title": {
          "text": "scenario"
         },
         "tracegroupgap": 0
        },
        "margin": {
         "t": 60
        },
        "template": {
         "data": {
          "bar": [
           {
            "error_x": {
             "color": "#2a3f5f"
            },
            "error_y": {
             "color": "#2a3f5f"
            },
            "marker": {
             "line": {
              "color": "#E5ECF6",
              "width": 0.5
             },
             "pattern": {
              "fillmode": "overlay",
              "size": 10,
              "solidity": 0.2
             }
            },
            "type": "bar"
           }
          ],
          "barpolar": [
           {
            "marker": {
             "line": {
              "color": "#E5ECF6",
              "width": 0.5
             },
             "pattern": {
              "fillmode": "overlay",
              "size": 10,
              "solidity": 0.2
             }
            },
            "type": "barpolar"
           }
          ],
          "carpet": [
           {
            "aaxis": {
             "endlinecolor": "#2a3f5f",
             "gridcolor": "white",
             "linecolor": "white",
             "minorgridcolor": "white",
             "startlinecolor": "#2a3f5f"
            },
            "baxis": {
             "endlinecolor": "#2a3f5f",
             "gridcolor": "white",
             "linecolor": "white",
             "minorgridcolor": "white",
             "startlinecolor": "#2a3f5f"
            },
            "type": "carpet"
           }
          ],
          "choropleth": [
           {
            "colorbar": {
             "outlinewidth": 0,
             "ticks": ""
            },
            "type": "choropleth"
           }
          ],
          "contour": [
           {
            "colorbar": {
             "outlinewidth": 0,
             "ticks": ""
            },
            "colorscale": [
             [
              0,
              "#0d0887"
             ],
             [
              0.1111111111111111,
              "#46039f"
             ],
             [
              0.2222222222222222,
              "#7201a8"
             ],
             [
              0.3333333333333333,
              "#9c179e"
             ],
             [
              0.4444444444444444,
              "#bd3786"
             ],
             [
              0.5555555555555556,
              "#d8576b"
             ],
             [
              0.6666666666666666,
              "#ed7953"
             ],
             [
              0.7777777777777778,
              "#fb9f3a"
             ],
             [
              0.8888888888888888,
              "#fdca26"
             ],
             [
              1,
              "#f0f921"
             ]
            ],
            "type": "contour"
           }
          ],
          "contourcarpet": [
           {
            "colorbar": {
             "outlinewidth": 0,
             "ticks": ""
            },
            "type": "contourcarpet"
           }
          ],
          "heatmap": [
           {
            "colorbar": {
             "outlinewidth": 0,
             "ticks": ""
            },
            "colorscale": [
             [
              0,
              "#0d0887"
             ],
             [
              0.1111111111111111,
              "#46039f"
             ],
             [
              0.2222222222222222,
              "#7201a8"
             ],
             [
              0.3333333333333333,
              "#9c179e"
             ],
             [
              0.4444444444444444,
              "#bd3786"
             ],
             [
              0.5555555555555556,
              "#d8576b"
             ],
             [
              0.6666666666666666,
              "#ed7953"
             ],
             [
              0.7777777777777778,
              "#fb9f3a"
             ],
             [
              0.8888888888888888,
              "#fdca26"
             ],
             [
              1,
              "#f0f921"
             ]
            ],
            "type": "heatmap"
           }
          ],
          "heatmapgl": [
           {
            "colorbar": {
             "outlinewidth": 0,
             "ticks": ""
            },
            "colorscale": [
             [
              0,
              "#0d0887"
             ],
             [
              0.1111111111111111,
              "#46039f"
             ],
             [
              0.2222222222222222,
              "#7201a8"
             ],
             [
              0.3333333333333333,
              "#9c179e"
             ],
             [
              0.4444444444444444,
              "#bd3786"
             ],
             [
              0.5555555555555556,
              "#d8576b"
             ],
             [
              0.6666666666666666,
              "#ed7953"
             ],
             [
              0.7777777777777778,
              "#fb9f3a"
             ],
             [
              0.8888888888888888,
              "#fdca26"
             ],
             [
              1,
              "#f0f921"
             ]
            ],
            "type": "heatmapgl"
           }
          ],
          "histogram": [
           {
            "marker": {
             "pattern": {
              "fillmode": "overlay",
              "size": 10,
              "solidity": 0.2
             }
            },
            "type": "histogram"
           }
          ],
          "histogram2d": [
           {
            "colorbar": {
             "outlinewidth": 0,
             "ticks": ""
            },
            "colorscale": [
             [
              0,
              "#0d0887"
             ],
             [
              0.1111111111111111,
              "#46039f"
             ],
             [
              0.2222222222222222,
              "#7201a8"
             ],
             [
              0.3333333333333333,
              "#9c179e"
             ],
             [
              0.4444444444444444,
              "#bd3786"
             ],
             [
              0.5555555555555556,
              "#d8576b"
             ],
             [
              0.6666666666666666,
              "#ed7953"
             ],
             [
              0.7777777777777778,
              "#fb9f3a"
             ],
             [
              0.8888888888888888,
              "#fdca26"
             ],
             [
              1,
              "#f0f921"
             ]
            ],
            "type": "histogram2d"
           }
          ],
          "histogram2dcontour": [
           {
            "colorbar": {
             "outlinewidth": 0,
             "ticks": ""
            },
            "colorscale": [
             [
              0,
              "#0d0887"
             ],
             [
              0.1111111111111111,
              "#46039f"
             ],
             [
              0.2222222222222222,
              "#7201a8"
             ],
             [
              0.3333333333333333,
              "#9c179e"
             ],
             [
              0.4444444444444444,
              "#bd3786"
             ],
             [
              0.5555555555555556,
              "#d8576b"
             ],
             [
              0.6666666666666666,
              "#ed7953"
             ],
             [
              0.7777777777777778,
              "#fb9f3a"
             ],
             [
              0.8888888888888888,
              "#fdca26"
             ],
             [
              1,
              "#f0f921"
             ]
            ],
            "type": "histogram2dcontour"
           }
          ],
          "mesh3d": [
           {
            "colorbar": {
             "outlinewidth": 0,
             "ticks": ""
            },
            "type": "mesh3d"
           }
          ],
          "parcoords": [
           {
            "line": {
             "colorbar": {
              "outlinewidth": 0,
              "ticks": ""
             }
            },
            "type": "parcoords"
           }
          ],
          "pie": [
           {
            "automargin": true,
            "type": "pie"
           }
          ],
          "scatter": [
           {
            "marker": {
             "colorbar": {
              "outlinewidth": 0,
              "ticks": ""
             }
            },
            "type": "scatter"
           }
          ],
          "scatter3d": [
           {
            "line": {
             "colorbar": {
              "outlinewidth": 0,
              "ticks": ""
             }
            },
            "marker": {
             "colorbar": {
              "outlinewidth": 0,
              "ticks": ""
             }
            },
            "type": "scatter3d"
           }
          ],
          "scattercarpet": [
           {
            "marker": {
             "colorbar": {
              "outlinewidth": 0,
              "ticks": ""
             }
            },
            "type": "scattercarpet"
           }
          ],
          "scattergeo": [
           {
            "marker": {
             "colorbar": {
              "outlinewidth": 0,
              "ticks": ""
             }
            },
            "type": "scattergeo"
           }
          ],
          "scattergl": [
           {
            "marker": {
             "colorbar": {
              "outlinewidth": 0,
              "ticks": ""
             }
            },
            "type": "scattergl"
           }
          ],
          "scattermapbox": [
           {
            "marker": {
             "colorbar": {
              "outlinewidth": 0,
              "ticks": ""
             }
            },
            "type": "scattermapbox"
           }
          ],
          "scatterpolar": [
           {
            "marker": {
             "colorbar": {
              "outlinewidth": 0,
              "ticks": ""
             }
            },
            "type": "scatterpolar"
           }
          ],
          "scatterpolargl": [
           {
            "marker": {
             "colorbar": {
              "outlinewidth": 0,
              "ticks": ""
             }
            },
            "type": "scatterpolargl"
           }
          ],
          "scatterternary": [
           {
            "marker": {
             "colorbar": {
              "outlinewidth": 0,
              "ticks": ""
             }
            },
            "type": "scatterternary"
           }
          ],
          "surface": [
           {
            "colorbar": {
             "outlinewidth": 0,
             "ticks": ""
            },
            "colorscale": [
             [
              0,
              "#0d0887"
             ],
             [
              0.1111111111111111,
              "#46039f"
             ],
             [
              0.2222222222222222,
              "#7201a8"
             ],
             [
              0.3333333333333333,
              "#9c179e"
             ],
             [
              0.4444444444444444,
              "#bd3786"
             ],
             [
              0.5555555555555556,
              "#d8576b"
             ],
             [
              0.6666666666666666,
              "#ed7953"
             ],
             [
              0.7777777777777778,
              "#fb9f3a"
             ],
             [
              0.8888888888888888,
              "#fdca26"
             ],
             [
              1,
              "#f0f921"
             ]
            ],
            "type": "surface"
           }
          ],
          "table": [
           {
            "cells": {
             "fill": {
              "color": "#EBF0F8"
             },
             "line": {
              "color": "white"
             }
            },
            "header": {
             "fill": {
              "color": "#C8D4E3"
             },
             "line": {
              "color": "white"
             }
            },
            "type": "table"
           }
          ]
         },
         "layout": {
          "annotationdefaults": {
           "arrowcolor": "#2a3f5f",
           "arrowhead": 0,
           "arrowwidth": 1
          },
          "autotypenumbers": "strict",
          "coloraxis": {
           "colorbar": {
            "outlinewidth": 0,
            "ticks": ""
           }
          },
          "colorscale": {
           "diverging": [
            [
             0,
             "#8e0152"
            ],
            [
             0.1,
             "#c51b7d"
            ],
            [
             0.2,
             "#de77ae"
            ],
            [
             0.3,
             "#f1b6da"
            ],
            [
             0.4,
             "#fde0ef"
            ],
            [
             0.5,
             "#f7f7f7"
            ],
            [
             0.6,
             "#e6f5d0"
            ],
            [
             0.7,
             "#b8e186"
            ],
            [
             0.8,
             "#7fbc41"
            ],
            [
             0.9,
             "#4d9221"
            ],
            [
             1,
             "#276419"
            ]
           ],
           "sequential": [
            [
             0,
             "#0d0887"
            ],
            [
             0.1111111111111111,
             "#46039f"
            ],
            [
             0.2222222222222222,
             "#7201a8"
            ],
            [
             0.3333333333333333,
             "#9c179e"
            ],
            [
             0.4444444444444444,
             "#bd3786"
            ],
            [
             0.5555555555555556,
             "#d8576b"
            ],
            [
             0.6666666666666666,
             "#ed7953"
            ],
            [
             0.7777777777777778,
             "#fb9f3a"
            ],
            [
             0.8888888888888888,
             "#fdca26"
            ],
            [
             1,
             "#f0f921"
            ]
           ],
           "sequentialminus": [
            [
             0,
             "#0d0887"
            ],
            [
             0.1111111111111111,
             "#46039f"
            ],
            [
             0.2222222222222222,
             "#7201a8"
            ],
            [
             0.3333333333333333,
             "#9c179e"
            ],
            [
             0.4444444444444444,
             "#bd3786"
            ],
            [
             0.5555555555555556,
             "#d8576b"
            ],
            [
             0.6666666666666666,
             "#ed7953"
            ],
            [
             0.7777777777777778,
             "#fb9f3a"
            ],
            [
             0.8888888888888888,
             "#fdca26"
            ],
            [
             1,
             "#f0f921"
            ]
           ]
          },
          "colorway": [
           "#636efa",
           "#EF553B",
           "#00cc96",
           "#ab63fa",
           "#FFA15A",
           "#19d3f3",
           "#FF6692",
           "#B6E880",
           "#FF97FF",
           "#FECB52"
          ],
          "font": {
           "color": "#2a3f5f"
          },
          "geo": {
           "bgcolor": "white",
           "lakecolor": "white",
           "landcolor": "#E5ECF6",
           "showlakes": true,
           "showland": true,
           "subunitcolor": "white"
          },
          "hoverlabel": {
           "align": "left"
          },
          "hovermode": "closest",
          "mapbox": {
           "style": "light"
          },
          "paper_bgcolor": "white",
          "plot_bgcolor": "#E5ECF6",
          "polar": {
           "angularaxis": {
            "gridcolor": "white",
            "linecolor": "white",
            "ticks": ""
           },
           "bgcolor": "#E5ECF6",
           "radialaxis": {
            "gridcolor": "white",
            "linecolor": "white",
            "ticks": ""
           }
          },
          "scene": {
           "xaxis": {
            "backgroundcolor": "#E5ECF6",
            "gridcolor": "white",
            "gridwidth": 2,
            "linecolor": "white",
            "showbackground": true,
            "ticks": "",
            "zerolinecolor": "white"
           },
           "yaxis": {
            "backgroundcolor": "#E5ECF6",
            "gridcolor": "white",
            "gridwidth": 2,
            "linecolor": "white",
            "showbackground": true,
            "ticks": "",
            "zerolinecolor": "white"
           },
           "zaxis": {
            "backgroundcolor": "#E5ECF6",
            "gridcolor": "white",
            "gridwidth": 2,
            "linecolor": "white",
            "showbackground": true,
            "ticks": "",
            "zerolinecolor": "white"
           }
          },
          "shapedefaults": {
           "line": {
            "color": "#2a3f5f"
           }
          },
          "ternary": {
           "aaxis": {
            "gridcolor": "white",
            "linecolor": "white",
            "ticks": ""
           },
           "baxis": {
            "gridcolor": "white",
            "linecolor": "white",
            "ticks": ""
           },
           "bgcolor": "#E5ECF6",
           "caxis": {
            "gridcolor": "white",
            "linecolor": "white",
            "ticks": ""
           }
          },
          "title": {
           "x": 0.05
          },
          "xaxis": {
           "automargin": true,
           "gridcolor": "white",
           "linecolor": "white",
           "ticks": "",
           "title": {
            "standoff": 15
           },
           "zerolinecolor": "white",
           "zerolinewidth": 2
          },
          "yaxis": {
           "automargin": true,
           "gridcolor": "white",
           "linecolor": "white",
           "ticks": "",
           "title": {
            "standoff": 15
           },
           "zerolinecolor": "white",
           "zerolinewidth": 2
          }
         }
        },
        "width": 800,
        "xaxis": {
         "anchor": "y",
         "domain": [
          0,
          1
         ],
         "title": {
          "text": "CN"
         }
        },
        "yaxis": {
         "anchor": "x",
         "domain": [
          0,
          1
         ],
         "title": {
          "text": "QF"
         }
        }
       }
      },
      "text/html": [
       "<div>                            <div id=\"b350a96f-49c6-48d1-8c8d-5688d4f9aacf\" class=\"plotly-graph-div\" style=\"height:350px; width:800px;\"></div>            <script type=\"text/javascript\">                require([\"plotly\"], function(Plotly) {                    window.PLOTLYENV=window.PLOTLYENV || {};                                    if (document.getElementById(\"b350a96f-49c6-48d1-8c8d-5688d4f9aacf\")) {                    Plotly.newPlot(                        \"b350a96f-49c6-48d1-8c8d-5688d4f9aacf\",                        [{\"hovertemplate\":\"<b>%{hovertext}</b><br><br>scenario=QF<br>CN=%{x}<br>QF=%{y}<br>size=%{marker.size}<br>topic_id=%{text}<extra></extra>\",\"hovertext\":[\"T00 detector, lie, lie detector, results, detector results, feel, think, good, likely\",\"T04 students, sure, make, questions, make sure, text, calm, kind, think\",\"T07 evidence, text, answer, text evidence, students, textual, textual evidence, tell, job\",\"T08 student, paragraph, text, say, intern, look, student intern, right, read\",\"T09 question, nervous, heart, ask, practice, student, let, sorry, paragraph\"],\"legendgroup\":\"QF\",\"marker\":{\"color\":\"#636efa\",\"size\":[0.004764263148077193,0.0058977358507746325,0.005731333877546014,0.006527760180740524,0.006714541515425182],\"sizemode\":\"area\",\"sizeref\":3.873540534397647e-05,\"symbol\":\"circle\"},\"mode\":\"markers+text\",\"name\":\"QF\",\"orientation\":\"v\",\"showlegend\":true,\"text\":[\"T00\",\"T04\",\"T07\",\"T08\",\"T09\"],\"x\":[0.045820117124690043,0.05586736766063597,0.034086801784840276,0.03656576000861149,0.055131563049395954],\"xaxis\":\"x\",\"y\":[0.10397754189742094,0.10556673954284344,0.16813938467219183,0.178521113172629,0.12179124160527043],\"yaxis\":\"y\",\"type\":\"scatter\"},{\"hovertemplate\":\"<b>%{hovertext}</b><br><br>scenario=CN<br>CN=%{x}<br>QF=%{y}<br>size=%{marker.size}<br>topic_id=%{text}<extra></extra>\",\"hovertext\":[\"T01 classroom, norms, class, let, classroom norms, time, norm, talk, stop\",\"T02 kind, little, like, bit, little bit, know, thing, um, lot\",\"T03 specific, behavior, stop, redirection, student, students, way, behaviors, time\",\"T05 simulation, great, right, try, job, round, questions, ready, time\",\"T06 stop, say, time, attention, book, student, try, classroom, let\"],\"legendgroup\":\"CN\",\"marker\":{\"color\":\"#EF553B\",\"size\":[0.006888924153970743,0.015494162137590589,0.006463669094374173,0.010932994460528405,0.005805267967979758],\"sizemode\":\"area\",\"sizeref\":3.873540534397647e-05,\"symbol\":\"circle\"},\"mode\":\"markers+text\",\"name\":\"CN\",\"orientation\":\"v\",\"showlegend\":true,\"text\":[\"T01\",\"T02\",\"T03\",\"T05\",\"T06\"],\"x\":[0.1613720400333487,0.13588691235574074,0.20976173012661012,0.11356550221024332,0.15194220564588337],\"xaxis\":\"x\",\"y\":[0.04268970109411207,0.11402247552014537,0.03081433915744672,0.096270383591385,0.03820707974655522],\"yaxis\":\"y\",\"type\":\"scatter\"}],                        {\"template\":{\"data\":{\"bar\":[{\"error_x\":{\"color\":\"#2a3f5f\"},\"error_y\":{\"color\":\"#2a3f5f\"},\"marker\":{\"line\":{\"color\":\"#E5ECF6\",\"width\":0.5},\"pattern\":{\"fillmode\":\"overlay\",\"size\":10,\"solidity\":0.2}},\"type\":\"bar\"}],\"barpolar\":[{\"marker\":{\"line\":{\"color\":\"#E5ECF6\",\"width\":0.5},\"pattern\":{\"fillmode\":\"overlay\",\"size\":10,\"solidity\":0.2}},\"type\":\"barpolar\"}],\"carpet\":[{\"aaxis\":{\"endlinecolor\":\"#2a3f5f\",\"gridcolor\":\"white\",\"linecolor\":\"white\",\"minorgridcolor\":\"white\",\"startlinecolor\":\"#2a3f5f\"},\"baxis\":{\"endlinecolor\":\"#2a3f5f\",\"gridcolor\":\"white\",\"linecolor\":\"white\",\"minorgridcolor\":\"white\",\"startlinecolor\":\"#2a3f5f\"},\"type\":\"carpet\"}],\"choropleth\":[{\"colorbar\":{\"outlinewidth\":0,\"ticks\":\"\"},\"type\":\"choropleth\"}],\"contour\":[{\"colorbar\":{\"outlinewidth\":0,\"ticks\":\"\"},\"colorscale\":[[0.0,\"#0d0887\"],[0.1111111111111111,\"#46039f\"],[0.2222222222222222,\"#7201a8\"],[0.3333333333333333,\"#9c179e\"],[0.4444444444444444,\"#bd3786\"],[0.5555555555555556,\"#d8576b\"],[0.6666666666666666,\"#ed7953\"],[0.7777777777777778,\"#fb9f3a\"],[0.8888888888888888,\"#fdca26\"],[1.0,\"#f0f921\"]],\"type\":\"contour\"}],\"contourcarpet\":[{\"colorbar\":{\"outlinewidth\":0,\"ticks\":\"\"},\"type\":\"contourcarpet\"}],\"heatmap\":[{\"colorbar\":{\"outlinewidth\":0,\"ticks\":\"\"},\"colorscale\":[[0.0,\"#0d0887\"],[0.1111111111111111,\"#46039f\"],[0.2222222222222222,\"#7201a8\"],[0.3333333333333333,\"#9c179e\"],[0.4444444444444444,\"#bd3786\"],[0.5555555555555556,\"#d8576b\"],[0.6666666666666666,\"#ed7953\"],[0.7777777777777778,\"#fb9f3a\"],[0.8888888888888888,\"#fdca26\"],[1.0,\"#f0f921\"]],\"type\":\"heatmap\"}],\"heatmapgl\":[{\"colorbar\":{\"outlinewidth\":0,\"ticks\":\"\"},\"colorscale\":[[0.0,\"#0d0887\"],[0.1111111111111111,\"#46039f\"],[0.2222222222222222,\"#7201a8\"],[0.3333333333333333,\"#9c179e\"],[0.4444444444444444,\"#bd3786\"],[0.5555555555555556,\"#d8576b\"],[0.6666666666666666,\"#ed7953\"],[0.7777777777777778,\"#fb9f3a\"],[0.8888888888888888,\"#fdca26\"],[1.0,\"#f0f921\"]],\"type\":\"heatmapgl\"}],\"histogram\":[{\"marker\":{\"pattern\":{\"fillmode\":\"overlay\",\"size\":10,\"solidity\":0.2}},\"type\":\"histogram\"}],\"histogram2d\":[{\"colorbar\":{\"outlinewidth\":0,\"ticks\":\"\"},\"colorscale\":[[0.0,\"#0d0887\"],[0.1111111111111111,\"#46039f\"],[0.2222222222222222,\"#7201a8\"],[0.3333333333333333,\"#9c179e\"],[0.4444444444444444,\"#bd3786\"],[0.5555555555555556,\"#d8576b\"],[0.6666666666666666,\"#ed7953\"],[0.7777777777777778,\"#fb9f3a\"],[0.8888888888888888,\"#fdca26\"],[1.0,\"#f0f921\"]],\"type\":\"histogram2d\"}],\"histogram2dcontour\":[{\"colorbar\":{\"outlinewidth\":0,\"ticks\":\"\"},\"colorscale\":[[0.0,\"#0d0887\"],[0.1111111111111111,\"#46039f\"],[0.2222222222222222,\"#7201a8\"],[0.3333333333333333,\"#9c179e\"],[0.4444444444444444,\"#bd3786\"],[0.5555555555555556,\"#d8576b\"],[0.6666666666666666,\"#ed7953\"],[0.7777777777777778,\"#fb9f3a\"],[0.8888888888888888,\"#fdca26\"],[1.0,\"#f0f921\"]],\"type\":\"histogram2dcontour\"}],\"mesh3d\":[{\"colorbar\":{\"outlinewidth\":0,\"ticks\":\"\"},\"type\":\"mesh3d\"}],\"parcoords\":[{\"line\":{\"colorbar\":{\"outlinewidth\":0,\"ticks\":\"\"}},\"type\":\"parcoords\"}],\"pie\":[{\"automargin\":true,\"type\":\"pie\"}],\"scatter\":[{\"marker\":{\"colorbar\":{\"outlinewidth\":0,\"ticks\":\"\"}},\"type\":\"scatter\"}],\"scatter3d\":[{\"line\":{\"colorbar\":{\"outlinewidth\":0,\"ticks\":\"\"}},\"marker\":{\"colorbar\":{\"outlinewidth\":0,\"ticks\":\"\"}},\"type\":\"scatter3d\"}],\"scattercarpet\":[{\"marker\":{\"colorbar\":{\"outlinewidth\":0,\"ticks\":\"\"}},\"type\":\"scattercarpet\"}],\"scattergeo\":[{\"marker\":{\"colorbar\":{\"outlinewidth\":0,\"ticks\":\"\"}},\"type\":\"scattergeo\"}],\"scattergl\":[{\"marker\":{\"colorbar\":{\"outlinewidth\":0,\"ticks\":\"\"}},\"type\":\"scattergl\"}],\"scattermapbox\":[{\"marker\":{\"colorbar\":{\"outlinewidth\":0,\"ticks\":\"\"}},\"type\":\"scattermapbox\"}],\"scatterpolar\":[{\"marker\":{\"colorbar\":{\"outlinewidth\":0,\"ticks\":\"\"}},\"type\":\"scatterpolar\"}],\"scatterpolargl\":[{\"marker\":{\"colorbar\":{\"outlinewidth\":0,\"ticks\":\"\"}},\"type\":\"scatterpolargl\"}],\"scatterternary\":[{\"marker\":{\"colorbar\":{\"outlinewidth\":0,\"ticks\":\"\"}},\"type\":\"scatterternary\"}],\"surface\":[{\"colorbar\":{\"outlinewidth\":0,\"ticks\":\"\"},\"colorscale\":[[0.0,\"#0d0887\"],[0.1111111111111111,\"#46039f\"],[0.2222222222222222,\"#7201a8\"],[0.3333333333333333,\"#9c179e\"],[0.4444444444444444,\"#bd3786\"],[0.5555555555555556,\"#d8576b\"],[0.6666666666666666,\"#ed7953\"],[0.7777777777777778,\"#fb9f3a\"],[0.8888888888888888,\"#fdca26\"],[1.0,\"#f0f921\"]],\"type\":\"surface\"}],\"table\":[{\"cells\":{\"fill\":{\"color\":\"#EBF0F8\"},\"line\":{\"color\":\"white\"}},\"header\":{\"fill\":{\"color\":\"#C8D4E3\"},\"line\":{\"color\":\"white\"}},\"type\":\"table\"}]},\"layout\":{\"annotationdefaults\":{\"arrowcolor\":\"#2a3f5f\",\"arrowhead\":0,\"arrowwidth\":1},\"autotypenumbers\":\"strict\",\"coloraxis\":{\"colorbar\":{\"outlinewidth\":0,\"ticks\":\"\"}},\"colorscale\":{\"diverging\":[[0,\"#8e0152\"],[0.1,\"#c51b7d\"],[0.2,\"#de77ae\"],[0.3,\"#f1b6da\"],[0.4,\"#fde0ef\"],[0.5,\"#f7f7f7\"],[0.6,\"#e6f5d0\"],[0.7,\"#b8e186\"],[0.8,\"#7fbc41\"],[0.9,\"#4d9221\"],[1,\"#276419\"]],\"sequential\":[[0.0,\"#0d0887\"],[0.1111111111111111,\"#46039f\"],[0.2222222222222222,\"#7201a8\"],[0.3333333333333333,\"#9c179e\"],[0.4444444444444444,\"#bd3786\"],[0.5555555555555556,\"#d8576b\"],[0.6666666666666666,\"#ed7953\"],[0.7777777777777778,\"#fb9f3a\"],[0.8888888888888888,\"#fdca26\"],[1.0,\"#f0f921\"]],\"sequentialminus\":[[0.0,\"#0d0887\"],[0.1111111111111111,\"#46039f\"],[0.2222222222222222,\"#7201a8\"],[0.3333333333333333,\"#9c179e\"],[0.4444444444444444,\"#bd3786\"],[0.5555555555555556,\"#d8576b\"],[0.6666666666666666,\"#ed7953\"],[0.7777777777777778,\"#fb9f3a\"],[0.8888888888888888,\"#fdca26\"],[1.0,\"#f0f921\"]]},\"colorway\":[\"#636efa\",\"#EF553B\",\"#00cc96\",\"#ab63fa\",\"#FFA15A\",\"#19d3f3\",\"#FF6692\",\"#B6E880\",\"#FF97FF\",\"#FECB52\"],\"font\":{\"color\":\"#2a3f5f\"},\"geo\":{\"bgcolor\":\"white\",\"lakecolor\":\"white\",\"landcolor\":\"#E5ECF6\",\"showlakes\":true,\"showland\":true,\"subunitcolor\":\"white\"},\"hoverlabel\":{\"align\":\"left\"},\"hovermode\":\"closest\",\"mapbox\":{\"style\":\"light\"},\"paper_bgcolor\":\"white\",\"plot_bgcolor\":\"#E5ECF6\",\"polar\":{\"angularaxis\":{\"gridcolor\":\"white\",\"linecolor\":\"white\",\"ticks\":\"\"},\"bgcolor\":\"#E5ECF6\",\"radialaxis\":{\"gridcolor\":\"white\",\"linecolor\":\"white\",\"ticks\":\"\"}},\"scene\":{\"xaxis\":{\"backgroundcolor\":\"#E5ECF6\",\"gridcolor\":\"white\",\"gridwidth\":2,\"linecolor\":\"white\",\"showbackground\":true,\"ticks\":\"\",\"zerolinecolor\":\"white\"},\"yaxis\":{\"backgroundcolor\":\"#E5ECF6\",\"gridcolor\":\"white\",\"gridwidth\":2,\"linecolor\":\"white\",\"showbackground\":true,\"ticks\":\"\",\"zerolinecolor\":\"white\"},\"zaxis\":{\"backgroundcolor\":\"#E5ECF6\",\"gridcolor\":\"white\",\"gridwidth\":2,\"linecolor\":\"white\",\"showbackground\":true,\"ticks\":\"\",\"zerolinecolor\":\"white\"}},\"shapedefaults\":{\"line\":{\"color\":\"#2a3f5f\"}},\"ternary\":{\"aaxis\":{\"gridcolor\":\"white\",\"linecolor\":\"white\",\"ticks\":\"\"},\"baxis\":{\"gridcolor\":\"white\",\"linecolor\":\"white\",\"ticks\":\"\"},\"bgcolor\":\"#E5ECF6\",\"caxis\":{\"gridcolor\":\"white\",\"linecolor\":\"white\",\"ticks\":\"\"}},\"title\":{\"x\":0.05},\"xaxis\":{\"automargin\":true,\"gridcolor\":\"white\",\"linecolor\":\"white\",\"ticks\":\"\",\"title\":{\"standoff\":15},\"zerolinecolor\":\"white\",\"zerolinewidth\":2},\"yaxis\":{\"automargin\":true,\"gridcolor\":\"white\",\"linecolor\":\"white\",\"ticks\":\"\",\"title\":{\"standoff\":15},\"zerolinecolor\":\"white\",\"zerolinewidth\":2}}},\"xaxis\":{\"anchor\":\"y\",\"domain\":[0.0,1.0],\"title\":{\"text\":\"CN\"}},\"yaxis\":{\"anchor\":\"x\",\"domain\":[0.0,1.0],\"title\":{\"text\":\"QF\"}},\"legend\":{\"title\":{\"text\":\"scenario\"},\"tracegroupgap\":0,\"itemsizing\":\"constant\"},\"margin\":{\"t\":60},\"height\":350,\"width\":800},                        {\"responsive\": true}                    ).then(function(){\n",
       "                            \n",
       "var gd = document.getElementById('b350a96f-49c6-48d1-8c8d-5688d4f9aacf');\n",
       "var x = new MutationObserver(function (mutations, observer) {{\n",
       "        var display = window.getComputedStyle(gd).display;\n",
       "        if (!display || display === 'none') {{\n",
       "            console.log([gd, 'removed!']);\n",
       "            Plotly.purge(gd);\n",
       "            observer.disconnect();\n",
       "        }}\n",
       "}});\n",
       "\n",
       "// Listen for the removal of the full notebook cells\n",
       "var notebookContainer = gd.closest('#notebook-container');\n",
       "if (notebookContainer) {{\n",
       "    x.observe(notebookContainer, {childList: true});\n",
       "}}\n",
       "\n",
       "// Listen for the clearing of the current output cell\n",
       "var outputEl = gd.closest('.output');\n",
       "if (outputEl) {{\n",
       "    x.observe(outputEl, {childList: true});\n",
       "}}\n",
       "\n",
       "                        })                };                });            </script>        </div>"
      ]
     },
     "metadata": {},
     "output_type": "display_data"
    }
   ],
   "source": [
    "px.scatter(TOPICS.reset_index(), 'CN', 'QF', \n",
    "           hover_name='label', text='topic_id', \n",
    "           size=(TOPICS.CN * TOPICS.QF),\n",
    "           color='scenario',\n",
    "           width=800, height=350)"
   ]
  },
  {
   "cell_type": "markdown",
   "metadata": {},
   "source": [
    "# Exploration - Topic Similarity"
   ]
  },
  {
   "cell_type": "code",
   "execution_count": 162,
   "metadata": {},
   "outputs": [],
   "source": [
    "from sklearn.decomposition import PCA\n",
    "from sklearn.preprocessing import normalize"
   ]
  },
  {
   "cell_type": "code",
   "execution_count": 163,
   "metadata": {},
   "outputs": [],
   "source": [
    "from sklearn.decomposition import PCA\n",
    "from sklearn.preprocessing import normalize"
   ]
  },
  {
   "cell_type": "markdown",
   "metadata": {},
   "source": [
    "## Cluster topics"
   ]
  },
  {
   "cell_type": "code",
   "execution_count": 164,
   "metadata": {},
   "outputs": [],
   "source": [
    "labels  = [f\"{a.upper()} {b}\" for a, b in zip(TOPICS.scenario, TOPICS.label)]"
   ]
  },
  {
   "cell_type": "code",
   "execution_count": 165,
   "metadata": {},
   "outputs": [
    {
     "data": {
      "text/plain": [
       "['QF T00 detector, lie, lie detector, results, detector results, feel, think, good, likely',\n",
       " 'CN T01 classroom, norms, class, let, classroom norms, time, norm, talk, stop',\n",
       " 'CN T02 kind, little, like, bit, little bit, know, thing, um, lot',\n",
       " 'CN T03 specific, behavior, stop, redirection, student, students, way, behaviors, time',\n",
       " 'QF T04 students, sure, make, questions, make sure, text, calm, kind, think',\n",
       " 'CN T05 simulation, great, right, try, job, round, questions, ready, time',\n",
       " 'CN T06 stop, say, time, attention, book, student, try, classroom, let',\n",
       " 'QF T07 evidence, text, answer, text evidence, students, textual, textual evidence, tell, job',\n",
       " 'QF T08 student, paragraph, text, say, intern, look, student intern, right, read',\n",
       " 'QF T09 question, nervous, heart, ask, practice, student, let, sorry, paragraph']"
      ]
     },
     "execution_count": 165,
     "metadata": {},
     "output_type": "execute_result"
    }
   ],
   "source": [
    "labels"
   ]
  },
  {
   "cell_type": "markdown",
   "metadata": {},
   "source": [
    "## BY PHI"
   ]
  },
  {
   "cell_type": "markdown",
   "metadata": {},
   "source": [
    "### Interpretation\n",
    "When clustering topics by document weight, it shows that T03 and T06 topics are very close, we might interprete the topic cluster relate to classroom management and redirecting off-task behaviors. For instance, T03 emphasizes the importance of specificity in redirection, acknowledging and stopping problematic behaviors, and managing students' actions, and T06 highlights the role of teacher communication (\"say\"), time management, and maintaining students' attention. The term \"book\" may refer to teaching materials or resources, suggesting that the discussion might involve lesson planning and organization."
   ]
  },
  {
   "cell_type": "code",
   "execution_count": 168,
   "metadata": {},
   "outputs": [
    {
     "name": "stdout",
     "output_type": "stream",
     "text": [
      "Figure 6. Topic similarity\n"
     ]
    },
    {
     "data": {
      "text/plain": [
       "<Figure size 432x288 with 0 Axes>"
      ]
     },
     "metadata": {},
     "output_type": "display_data"
    },
    {
     "data": {
      "image/png": "[encoded data removed]",
      "text/plain": [
       "<Figure size 720x240 with 1 Axes>"
      ]
     },
     "metadata": {
      "needs_background": "light"
     },
     "output_type": "display_data"
    }
   ],
   "source": [
    "print('Figure 6. Topic similarity')\n",
    "HAC(PHI, labels=labels).plot();"
   ]
  },
  {
   "cell_type": "markdown",
   "metadata": {},
   "source": [
    "## By THETA"
   ]
  },
  {
   "cell_type": "code",
   "execution_count": 171,
   "metadata": {},
   "outputs": [
    {
     "data": {
      "text/plain": [
       "<Figure size 432x288 with 0 Axes>"
      ]
     },
     "metadata": {},
     "output_type": "display_data"
    },
    {
     "data": {
      "image/png": "[encoded data removed]",
      "text/plain": [
       "<Figure size 720x240 with 1 Axes>"
      ]
     },
     "metadata": {
      "needs_background": "light"
     },
     "output_type": "display_data"
    }
   ],
   "source": [
    "HAC(THETA.T, labels=labels).plot();"
   ]
  },
  {
   "cell_type": "markdown",
   "metadata": {},
   "source": [
    "# Save Model"
   ]
  },
  {
   "cell_type": "code",
   "execution_count": 172,
   "metadata": {},
   "outputs": [],
   "source": [
    "DOCS.to_csv(f'{data_out}/LDA_DOCS-para.csv')\n",
    "TOPICS.to_csv(f'{data_out}/LDA_TOPICS-{n_topics}.csv')\n",
    "THETA.to_csv(f'{data_out}/LDA_THETA-{n_topics}.csv')\n",
    "PHI.to_csv(f'{data_out}/LDA_PHI-{n_topics}.csv')"
   ]
  },
  {
   "cell_type": "code",
   "execution_count": 115,
   "metadata": {},
   "outputs": [],
   "source": [
    "import pickle"
   ]
  },
  {
   "cell_type": "code",
   "execution_count": 119,
   "metadata": {},
   "outputs": [],
   "source": [
    "pickle.dump(lda_model, open(f'{data_out}/{data_prefix}-lda_model.pickle', 'wb'))\n",
    "pickle.dump(lda_engine, open(f'{data_out}/{data_prefix}-lda_engine.pickle', 'wb'))\n",
    "pickle.dump(count_engine, open(f'{data_out}/{data_prefix}-count_engine.pickle', 'wb'))\n",
    "pickle.dump(count_model, open(f'{data_out}/{data_prefix}-count_model.pickle', 'wb'))"
   ]
  }
 ],
 "metadata": {
  "kernelspec": {
   "display_name": "Python 3 (ipykernel)",
   "language": "python",
   "name": "python3"
  },
  "language_info": {
   "codemirror_mode": {
    "name": "ipython",
    "version": 3
   },
   "file_extension": ".py",
   "mimetype": "text/x-python",
   "name": "python",
   "nbconvert_exporter": "python",
   "pygments_lexer": "ipython3",
   "version": "3.9.12"
  },
  "latex_envs": {
   "LaTeX_envs_menu_present": true,
   "autoclose": false,
   "autocomplete": true,
   "bibliofile": "biblio.bib",
   "cite_by": "apalike",
   "current_citInitial": 1,
   "eqLabelWithNumbers": true,
   "eqNumInitial": 1,
   "hotkeys": {
    "equation": "Ctrl-E",
    "itemize": "Ctrl-I"
   },
   "labels_anchors": false,
   "latex_user_defs": false,
   "report_style_numbering": false,
   "user_envs_cfg": false
  },
  "toc": {
   "base_numbering": 1,
   "nav_menu": {},
   "number_sections": true,
   "sideBar": true,
   "skip_h1_title": true,
   "title_cell": "Table of Contents",
   "title_sidebar": "Contents",
   "toc_cell": false,
   "toc_position": {
    "height": "calc(100% - 180px)",
    "left": "10px",
    "top": "150px",
    "width": "318px"
   },
   "toc_section_display": true,
   "toc_window_display": false
  },
  "varInspector": {
   "cols": {
    "lenName": 16,
    "lenType": 16,
    "lenVar": 40
   },
   "kernels_config": {
    "python": {
     "delete_cmd_postfix": "",
     "delete_cmd_prefix": "del ",
     "library": "var_list.py",
     "varRefreshCmd": "print(var_dic_list())"
    },
    "r": {
     "delete_cmd_postfix": ") ",
     "delete_cmd_prefix": "rm(",
     "library": "var_list.r",
     "varRefreshCmd": "cat(var_dic_list()) "
    }
   },
   "types_to_exclude": [
    "module",
    "function",
    "builtin_function_or_method",
    "instance",
    "_Feature"
   ],
   "window_display": false
  },
  "vscode": {
   "interpreter": {
    "hash": "c3b963de08c47c3b6758389c5e0978ad73698a111eb508d4e16b558edb8f4cbf"
   }
  },
  "widgets": {
   "application/vnd.jupyter.widget-state+json": {
    "state": {},
    "version_major": 2,
    "version_minor": 0
   }
  }
 },
 "nbformat": 4,
 "nbformat_minor": 4
}
